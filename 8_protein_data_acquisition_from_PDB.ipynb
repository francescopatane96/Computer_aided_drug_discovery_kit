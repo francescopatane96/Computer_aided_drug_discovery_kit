{
  "nbformat": 4,
  "nbformat_minor": 0,
  "metadata": {
    "colab": {
      "provenance": [],
      "authorship_tag": "ABX9TyMqOhIzK5MkMRzBFNu9Dd02",
      "include_colab_link": true
    },
    "kernelspec": {
      "name": "python3",
      "display_name": "Python 3"
    },
    "language_info": {
      "name": "python"
    },
    "widgets": {
      "application/vnd.jupyter.widget-state+json": {
        "07cb09ced350422ba5c9c11360331e3e": {
          "model_module": "nglview-js-widgets",
          "model_name": "ColormakerRegistryModel",
          "model_module_version": "3.0.6",
          "state": {
            "_dom_classes": [],
            "_model_module": "nglview-js-widgets",
            "_model_module_version": "3.0.6",
            "_model_name": "ColormakerRegistryModel",
            "_msg_ar": [],
            "_msg_q": [],
            "_ready": true,
            "_view_count": null,
            "_view_module": "nglview-js-widgets",
            "_view_module_version": "3.0.6",
            "_view_name": "ColormakerRegistryView",
            "layout": "IPY_MODEL_3d2d3c20fdff4631b060a5f2620f289a"
          }
        },
        "3d2d3c20fdff4631b060a5f2620f289a": {
          "model_module": "@jupyter-widgets/base",
          "model_name": "LayoutModel",
          "model_module_version": "1.2.0",
          "state": {
            "_model_module": "@jupyter-widgets/base",
            "_model_module_version": "1.2.0",
            "_model_name": "LayoutModel",
            "_view_count": null,
            "_view_module": "@jupyter-widgets/base",
            "_view_module_version": "1.2.0",
            "_view_name": "LayoutView",
            "align_content": null,
            "align_items": null,
            "align_self": null,
            "border": null,
            "bottom": null,
            "display": null,
            "flex": null,
            "flex_flow": null,
            "grid_area": null,
            "grid_auto_columns": null,
            "grid_auto_flow": null,
            "grid_auto_rows": null,
            "grid_column": null,
            "grid_gap": null,
            "grid_row": null,
            "grid_template_areas": null,
            "grid_template_columns": null,
            "grid_template_rows": null,
            "height": null,
            "justify_content": null,
            "justify_items": null,
            "left": null,
            "margin": null,
            "max_height": null,
            "max_width": null,
            "min_height": null,
            "min_width": null,
            "object_fit": null,
            "object_position": null,
            "order": null,
            "overflow": null,
            "overflow_x": null,
            "overflow_y": null,
            "padding": null,
            "right": null,
            "top": null,
            "visibility": null,
            "width": null
          }
        },
        "d9d0bb310e9b4be594e69bbdab25d01d": {
          "model_module": "@jupyter-widgets/controls",
          "model_name": "HBoxModel",
          "model_module_version": "1.5.0",
          "state": {
            "_dom_classes": [],
            "_model_module": "@jupyter-widgets/controls",
            "_model_module_version": "1.5.0",
            "_model_name": "HBoxModel",
            "_view_count": null,
            "_view_module": "@jupyter-widgets/controls",
            "_view_module_version": "1.5.0",
            "_view_name": "HBoxView",
            "box_style": "",
            "children": [
              "IPY_MODEL_3af945774a224bb7aeb77f351be0848d",
              "IPY_MODEL_2421cb03b3e1422880598d3563675910",
              "IPY_MODEL_7535d3d910b549efafdb2ca0eddab508"
            ],
            "layout": "IPY_MODEL_6bae74dfc08f415c935d8c4efa3f7efb"
          }
        },
        "3af945774a224bb7aeb77f351be0848d": {
          "model_module": "@jupyter-widgets/controls",
          "model_name": "HTMLModel",
          "model_module_version": "1.5.0",
          "state": {
            "_dom_classes": [],
            "_model_module": "@jupyter-widgets/controls",
            "_model_module_version": "1.5.0",
            "_model_name": "HTMLModel",
            "_view_count": null,
            "_view_module": "@jupyter-widgets/controls",
            "_view_module_version": "1.5.0",
            "_view_name": "HTMLView",
            "description": "",
            "description_tooltip": null,
            "layout": "IPY_MODEL_74985a10f1114c9aa8f51d9e19f1279b",
            "placeholder": "​",
            "style": "IPY_MODEL_36f1956ce61743e1abfd67571f6de8f1",
            "value": "100%"
          }
        },
        "2421cb03b3e1422880598d3563675910": {
          "model_module": "@jupyter-widgets/controls",
          "model_name": "FloatProgressModel",
          "model_module_version": "1.5.0",
          "state": {
            "_dom_classes": [],
            "_model_module": "@jupyter-widgets/controls",
            "_model_module_version": "1.5.0",
            "_model_name": "FloatProgressModel",
            "_view_count": null,
            "_view_module": "@jupyter-widgets/controls",
            "_view_module_version": "1.5.0",
            "_view_name": "ProgressView",
            "bar_style": "success",
            "description": "",
            "description_tooltip": null,
            "layout": "IPY_MODEL_b74582143f4449c19c3741a54b5de83e",
            "max": 110,
            "min": 0,
            "orientation": "horizontal",
            "style": "IPY_MODEL_1d0bdcbce3274e39836ce5fcbcc57a09",
            "value": 110
          }
        },
        "7535d3d910b549efafdb2ca0eddab508": {
          "model_module": "@jupyter-widgets/controls",
          "model_name": "HTMLModel",
          "model_module_version": "1.5.0",
          "state": {
            "_dom_classes": [],
            "_model_module": "@jupyter-widgets/controls",
            "_model_module_version": "1.5.0",
            "_model_name": "HTMLModel",
            "_view_count": null,
            "_view_module": "@jupyter-widgets/controls",
            "_view_module_version": "1.5.0",
            "_view_name": "HTMLView",
            "description": "",
            "description_tooltip": null,
            "layout": "IPY_MODEL_f8bc434b626c4de1a00b54c76fcdbe0c",
            "placeholder": "​",
            "style": "IPY_MODEL_1f39ba692b834be38d3c0bc59929901f",
            "value": " 110/110 [00:09&lt;00:00, 12.31it/s]"
          }
        },
        "6bae74dfc08f415c935d8c4efa3f7efb": {
          "model_module": "@jupyter-widgets/base",
          "model_name": "LayoutModel",
          "model_module_version": "1.2.0",
          "state": {
            "_model_module": "@jupyter-widgets/base",
            "_model_module_version": "1.2.0",
            "_model_name": "LayoutModel",
            "_view_count": null,
            "_view_module": "@jupyter-widgets/base",
            "_view_module_version": "1.2.0",
            "_view_name": "LayoutView",
            "align_content": null,
            "align_items": null,
            "align_self": null,
            "border": null,
            "bottom": null,
            "display": null,
            "flex": null,
            "flex_flow": null,
            "grid_area": null,
            "grid_auto_columns": null,
            "grid_auto_flow": null,
            "grid_auto_rows": null,
            "grid_column": null,
            "grid_gap": null,
            "grid_row": null,
            "grid_template_areas": null,
            "grid_template_columns": null,
            "grid_template_rows": null,
            "height": null,
            "justify_content": null,
            "justify_items": null,
            "left": null,
            "margin": null,
            "max_height": null,
            "max_width": null,
            "min_height": null,
            "min_width": null,
            "object_fit": null,
            "object_position": null,
            "order": null,
            "overflow": null,
            "overflow_x": null,
            "overflow_y": null,
            "padding": null,
            "right": null,
            "top": null,
            "visibility": null,
            "width": null
          }
        },
        "74985a10f1114c9aa8f51d9e19f1279b": {
          "model_module": "@jupyter-widgets/base",
          "model_name": "LayoutModel",
          "model_module_version": "1.2.0",
          "state": {
            "_model_module": "@jupyter-widgets/base",
            "_model_module_version": "1.2.0",
            "_model_name": "LayoutModel",
            "_view_count": null,
            "_view_module": "@jupyter-widgets/base",
            "_view_module_version": "1.2.0",
            "_view_name": "LayoutView",
            "align_content": null,
            "align_items": null,
            "align_self": null,
            "border": null,
            "bottom": null,
            "display": null,
            "flex": null,
            "flex_flow": null,
            "grid_area": null,
            "grid_auto_columns": null,
            "grid_auto_flow": null,
            "grid_auto_rows": null,
            "grid_column": null,
            "grid_gap": null,
            "grid_row": null,
            "grid_template_areas": null,
            "grid_template_columns": null,
            "grid_template_rows": null,
            "height": null,
            "justify_content": null,
            "justify_items": null,
            "left": null,
            "margin": null,
            "max_height": null,
            "max_width": null,
            "min_height": null,
            "min_width": null,
            "object_fit": null,
            "object_position": null,
            "order": null,
            "overflow": null,
            "overflow_x": null,
            "overflow_y": null,
            "padding": null,
            "right": null,
            "top": null,
            "visibility": null,
            "width": null
          }
        },
        "36f1956ce61743e1abfd67571f6de8f1": {
          "model_module": "@jupyter-widgets/controls",
          "model_name": "DescriptionStyleModel",
          "model_module_version": "1.5.0",
          "state": {
            "_model_module": "@jupyter-widgets/controls",
            "_model_module_version": "1.5.0",
            "_model_name": "DescriptionStyleModel",
            "_view_count": null,
            "_view_module": "@jupyter-widgets/base",
            "_view_module_version": "1.2.0",
            "_view_name": "StyleView",
            "description_width": ""
          }
        },
        "b74582143f4449c19c3741a54b5de83e": {
          "model_module": "@jupyter-widgets/base",
          "model_name": "LayoutModel",
          "model_module_version": "1.2.0",
          "state": {
            "_model_module": "@jupyter-widgets/base",
            "_model_module_version": "1.2.0",
            "_model_name": "LayoutModel",
            "_view_count": null,
            "_view_module": "@jupyter-widgets/base",
            "_view_module_version": "1.2.0",
            "_view_name": "LayoutView",
            "align_content": null,
            "align_items": null,
            "align_self": null,
            "border": null,
            "bottom": null,
            "display": null,
            "flex": null,
            "flex_flow": null,
            "grid_area": null,
            "grid_auto_columns": null,
            "grid_auto_flow": null,
            "grid_auto_rows": null,
            "grid_column": null,
            "grid_gap": null,
            "grid_row": null,
            "grid_template_areas": null,
            "grid_template_columns": null,
            "grid_template_rows": null,
            "height": null,
            "justify_content": null,
            "justify_items": null,
            "left": null,
            "margin": null,
            "max_height": null,
            "max_width": null,
            "min_height": null,
            "min_width": null,
            "object_fit": null,
            "object_position": null,
            "order": null,
            "overflow": null,
            "overflow_x": null,
            "overflow_y": null,
            "padding": null,
            "right": null,
            "top": null,
            "visibility": null,
            "width": null
          }
        },
        "1d0bdcbce3274e39836ce5fcbcc57a09": {
          "model_module": "@jupyter-widgets/controls",
          "model_name": "ProgressStyleModel",
          "model_module_version": "1.5.0",
          "state": {
            "_model_module": "@jupyter-widgets/controls",
            "_model_module_version": "1.5.0",
            "_model_name": "ProgressStyleModel",
            "_view_count": null,
            "_view_module": "@jupyter-widgets/base",
            "_view_module_version": "1.2.0",
            "_view_name": "StyleView",
            "bar_color": null,
            "description_width": ""
          }
        },
        "f8bc434b626c4de1a00b54c76fcdbe0c": {
          "model_module": "@jupyter-widgets/base",
          "model_name": "LayoutModel",
          "model_module_version": "1.2.0",
          "state": {
            "_model_module": "@jupyter-widgets/base",
            "_model_module_version": "1.2.0",
            "_model_name": "LayoutModel",
            "_view_count": null,
            "_view_module": "@jupyter-widgets/base",
            "_view_module_version": "1.2.0",
            "_view_name": "LayoutView",
            "align_content": null,
            "align_items": null,
            "align_self": null,
            "border": null,
            "bottom": null,
            "display": null,
            "flex": null,
            "flex_flow": null,
            "grid_area": null,
            "grid_auto_columns": null,
            "grid_auto_flow": null,
            "grid_auto_rows": null,
            "grid_column": null,
            "grid_gap": null,
            "grid_row": null,
            "grid_template_areas": null,
            "grid_template_columns": null,
            "grid_template_rows": null,
            "height": null,
            "justify_content": null,
            "justify_items": null,
            "left": null,
            "margin": null,
            "max_height": null,
            "max_width": null,
            "min_height": null,
            "min_width": null,
            "object_fit": null,
            "object_position": null,
            "order": null,
            "overflow": null,
            "overflow_x": null,
            "overflow_y": null,
            "padding": null,
            "right": null,
            "top": null,
            "visibility": null,
            "width": null
          }
        },
        "1f39ba692b834be38d3c0bc59929901f": {
          "model_module": "@jupyter-widgets/controls",
          "model_name": "DescriptionStyleModel",
          "model_module_version": "1.5.0",
          "state": {
            "_model_module": "@jupyter-widgets/controls",
            "_model_module_version": "1.5.0",
            "_model_name": "DescriptionStyleModel",
            "_view_count": null,
            "_view_module": "@jupyter-widgets/base",
            "_view_module_version": "1.2.0",
            "_view_name": "StyleView",
            "description_width": ""
          }
        },
        "ca2a51b78dd64358af22c9fb7a431f76": {
          "model_module": "nglview-js-widgets",
          "model_name": "NGLModel",
          "model_module_version": "3.0.6",
          "state": {
            "_camera_orientation": [
              45.741682214189154,
              57.97863130071914,
              -49.937635944777895,
              0,
              -3.0405019512808718,
              59.51089957637985,
              66.30836178443901,
              0,
              76.45943054419227,
              -32.31906259697319,
              32.51191069058447,
              0,
              0.22299957275390625,
              -6.229499816894531,
              26.937499046325684,
              1
            ],
            "_camera_str": "orthographic",
            "_dom_classes": [],
            "_gui_theme": null,
            "_ibtn_fullscreen": "IPY_MODEL_75817411ad774133890c5e5a3574373a",
            "_igui": null,
            "_iplayer": "IPY_MODEL_abbbf582d6634035929f1c58548eb78c",
            "_model_module": "nglview-js-widgets",
            "_model_module_version": "3.0.6",
            "_model_name": "NGLModel",
            "_ngl_color_dict": {},
            "_ngl_coordinate_resource": {},
            "_ngl_full_stage_parameters": {
              "impostor": true,
              "quality": "medium",
              "workerDefault": true,
              "sampleLevel": 0,
              "backgroundColor": "white",
              "rotateSpeed": 2,
              "zoomSpeed": 1.2,
              "panSpeed": 1,
              "clipNear": 0,
              "clipFar": 100,
              "clipDist": 10,
              "clipMode": "scene",
              "clipScale": "relative",
              "fogNear": 50,
              "fogFar": 100,
              "cameraFov": 40,
              "cameraEyeSep": 0.3,
              "cameraType": "perspective",
              "lightColor": 14540253,
              "lightIntensity": 1,
              "ambientColor": 14540253,
              "ambientIntensity": 0.2,
              "hoverTimeout": 0,
              "tooltip": true,
              "mousePreset": "default"
            },
            "_ngl_msg_archive": [
              {
                "target": "Stage",
                "type": "call_method",
                "methodName": "loadFile",
                "reconstruc_color_scheme": false,
                "args": [
                  {
                    "type": "blob",
                    "data": "TITLE     MDANALYSIS FRAME 0: Created by PDBWriter\nCRYST1    1.000    1.000    1.000  90.00  90.00  90.00 P 1           1\nREMARK     285 UNITARY VALUES FOR THE UNIT CELL AUTOMATICALLY SET\nREMARK     285 BY MDANALYSIS PDBWRITER BECAUSE UNIT CELL INFORMATION\nREMARK     285 WAS MISSING.\nREMARK     285 PROTEIN DATA BANK CONVENTIONS REQUIRE THAT\nREMARK     285 CRYST1 RECORD IS INCLUDED, BUT THE VALUES ON\nREMARK     285 THIS RECORD ARE MEANINGLESS.\nATOM      1  C5  8AM X9001     -15.044  16.768 -25.718  1.00 15.61      A       \nATOM      2  C6  8AM X9001     -13.289  15.888 -27.250  1.00 14.40      A       \nATOM      3  C8  8AM X9001     -13.359  13.536 -27.750  1.00 13.99      A       \nATOM      4  C10 8AM X9001     -11.677  15.011 -28.597  1.00 12.25      A       \nATOM      5  N12 8AM X9001     -10.572  14.937 -29.401  1.00 13.05      A       \nATOM      6  C13 8AM X9001     -10.456  13.612 -29.774  1.00 13.28      A       \nATOM      7  C15 8AM X9001      -9.721  16.085 -29.761  1.00 13.26      A       \nATOM      8  C17 8AM X9001      -8.279  15.692 -30.111  1.00 13.41      A       \nATOM      9  C20 8AM X9001     -15.845  12.696 -25.952  1.00 17.54      A       \nATOM     10  C26 8AM X9001     -17.976  12.242 -24.706  1.00 20.82      A       \nATOM     11  C1  8AM X9001     -15.255  18.177 -25.137  1.00 16.07      A       \nATOM     12  C2  8AM X9001     -14.594  19.080 -26.156  1.00 16.78      A       \nATOM     13  C3  8AM X9001     -13.365  18.285 -26.590  1.00 15.96      A       \nATOM     14  N4  8AM X9001     -13.867  16.926 -26.565  1.00 14.59      A       \nATOM     15  N7  8AM X9001     -13.863  14.660 -27.134  1.00 13.52      A       \nATOM     16  C9  8AM X9001     -12.185  13.714 -28.527  1.00 13.58      A       \nATOM     17  N11 8AM X9001     -12.175  16.118 -27.994  1.00 13.47      A       \nATOM     18  N14 8AM X9001     -11.411  12.856 -29.266  1.00 13.04      A       \nATOM     19  C16 8AM X9001     -10.325  16.858 -30.941  1.00 14.60      A       \nATOM     20  N18 8AM X9001     -13.998  12.292 -27.613  1.00 15.88      A       \nATOM     21  C19 8AM X9001     -15.154  12.007 -26.939  1.00 16.40      A       \nATOM     22  N21 8AM X9001     -16.945  11.939 -25.669  1.00 19.32      A       \nATOM     23  N22 8AM X9001     -17.026  10.809 -26.396  1.00 19.32      A       \nATOM     24  C23 8AM X9001     -15.928  10.861 -27.168  1.00 17.77      A       \nATOM     25  O24 8AM X9001     -15.601   9.901 -28.086  1.00 18.31      A       \nATOM     26  C25 8AM X9001     -16.500   8.795 -28.206  1.00 18.65      A       \nATOM     27  F27 8AM X9001     -15.445  19.229 -27.215  1.00 18.02      A       \nATOM     28  N28 8AM X9001     -14.552  18.323 -23.854  1.00 15.17      A       \nATOM     29  C29 8AM X9001     -15.007  17.806 -22.652  1.00 13.82      A       \nATOM     30  C30 8AM X9001     -14.037  18.146 -21.524  1.00 14.17      A       \nATOM     31  C31 8AM X9001     -14.359  17.468 -20.200  1.00 14.45      A       \nATOM     32  O32 8AM X9001     -16.044  17.165 -22.506  1.00 16.45      A       \nCONECT    1   11   14\nCONECT    2   14   15   17\nCONECT    3   15   16   20\nCONECT    4    5   16   17\nCONECT    5    4    6    7\nCONECT    6    5   18\nCONECT    7    5    8   19\nCONECT    8    7\nCONECT    9   21   22\nCONECT   10   22\nCONECT   11    1   12   28\nCONECT   12   11   13   27\nCONECT   13   12   14\nCONECT   14    1    2   13\nCONECT   15    2    3\nCONECT   16    3    4   18\nCONECT   17    2    4\nCONECT   18    6   16\nCONECT   19    7\nCONECT   20    3   21\nCONECT   21    9   20   24\nCONECT   22    9   10   23\nCONECT   23   22   24\nCONECT   24   21   23   25\nCONECT   25   24   26\nCONECT   26   25\nCONECT   27   12\nCONECT   28   11   29\nCONECT   29   28   30   32\nCONECT   30   29   31\nCONECT   31   30\nCONECT   32   29\nEND\n",
                    "binary": false
                  }
                ],
                "kwargs": {
                  "defaultRepresentation": true,
                  "ext": "pdb"
                }
              },
              {
                "target": "Widget",
                "type": "call_method",
                "methodName": "removeRepresentationsByName",
                "reconstruc_color_scheme": false,
                "args": [
                  "ball+stick",
                  0
                ],
                "kwargs": {}
              },
              {
                "component_index": 0,
                "target": "compList",
                "type": "call_method",
                "methodName": "addRepresentation",
                "reconstruc_color_scheme": false,
                "args": [
                  "licorice"
                ],
                "kwargs": {
                  "sele": "all"
                }
              },
              {
                "target": "Stage",
                "type": "call_method",
                "methodName": "loadFile",
                "reconstruc_color_scheme": false,
                "args": [
                  {
                    "type": "blob",
                    "data": "TITLE     MDANALYSIS FRAME 0: Created by PDBWriter\nCRYST1    1.000    1.000    1.000  90.00  90.00  90.00 P 1           1\nREMARK     285 UNITARY VALUES FOR THE UNIT CELL AUTOMATICALLY SET\nREMARK     285 BY MDANALYSIS PDBWRITER BECAUSE UNIT CELL INFORMATION\nREMARK     285 WAS MISSING.\nREMARK     285 PROTEIN DATA BANK CONVENTIONS REQUIRE THAT\nREMARK     285 CRYST1 RECORD IS INCLUDED, BUT THE VALUES ON\nREMARK     285 THIS RECORD ARE MEANINGLESS.\nATOM      1  C4  634 X9001      10.096  -4.018 -33.480  1.00 12.80      A       \nATOM      2  C5  634 X9001       9.809  -2.652 -33.604  1.00 13.93      A       \nATOM      3  C8  634 X9001       7.879  -3.776 -33.738  1.00 12.77      A       \nATOM      4  C13 634 X9001      15.547  -6.106 -33.267  1.00 18.87      A       \nATOM      5  C15 634 X9001      14.731  -6.361 -30.938  1.00 18.01      A       \nATOM      6  C20 634 X9001      15.603  -6.906 -27.303  1.00 17.48      A       \nATOM      7  C21 634 X9001      16.440  -6.245 -26.226  1.00 18.05      A       \nATOM      8  C24 634 X9001      15.130  -2.277 -33.021  1.00 18.65      A       \nATOM      9  C28 634 X9001      17.568  -2.708 -32.707  1.00 21.42      A       \nATOM     10  C1  634 X9001      12.002  -2.008 -33.403  1.00 15.57      A       \nATOM     11  N2  634 X9001      12.373  -3.314 -33.274  1.00 13.47      A       \nATOM     12  C3  634 X9001      11.453  -4.331 -33.308  1.00 13.41      A       \nATOM     13  N6  634 X9001      10.700  -1.613 -33.576  1.00 14.15      A       \nATOM     14  N7  634 X9001       8.459  -2.530 -33.759  1.00 13.16      A       \nATOM     15  C9  634 X9001       8.866  -4.720 -33.567  1.00 12.86      A       \nATOM     16  O10 634 X9001      11.856  -5.658 -33.171  1.00 13.63      A       \nATOM     17  C11 634 X9001      13.159  -5.881 -32.774  1.00 16.20      A       \nATOM     18  C12 634 X9001      14.225  -5.871 -33.720  1.00 17.34      A       \nATOM     19  C14 634 X9001      15.806  -6.351 -31.887  1.00 18.52      A       \nATOM     20  C16 634 X9001      13.409  -6.124 -31.396  1.00 16.50      A       \nATOM     21  N17 634 X9001      14.862  -6.605 -29.542  1.00 16.35      A       \nATOM     22  C18 634 X9001      15.991  -6.536 -28.733  1.00 18.67      A       \nATOM     23  O19 634 X9001      17.138  -6.238 -29.068  1.00 21.24      A       \nATOM     24  N22 634 X9001      13.006  -1.007 -33.357  1.00 16.25      A       \nATOM     25  C23 634 X9001      14.362  -1.140 -33.191  1.00 17.60      A       \nATOM     26  N25 634 X9001      16.415  -1.863 -32.901  1.00 20.40      A       \nATOM     27  N26 634 X9001      16.557  -0.530 -32.978  1.00 20.72      A       \nATOM     28  C27 634 X9001      15.304  -0.092 -33.155  1.00 18.59      A       \nCONECT    1    2   12   15\nCONECT    2    1   13   14\nCONECT    3   14   15\nCONECT    4   18   19\nCONECT    5   19   20   21\nCONECT    6    7   22\nCONECT    7    6\nCONECT    8   25   26\nCONECT    9   26\nCONECT   10   11   13   24\nCONECT   11   10   12\nCONECT   12    1   11   16\nCONECT   13    2   10\nCONECT   14    2    3\nCONECT   15    1    3\nCONECT   16   12   17\nCONECT   17   16   18   20\nCONECT   18    4   17\nCONECT   19    4    5\nCONECT   20    5   17\nCONECT   21    5   22\nCONECT   22    6   21   23\nCONECT   23   22\nCONECT   24   10   25\nCONECT   25    8   24   28\nCONECT   26    8    9   27\nCONECT   27   26   28\nCONECT   28   25   27\nEND\n",
                    "binary": false
                  }
                ],
                "kwargs": {
                  "defaultRepresentation": true,
                  "ext": "pdb"
                }
              },
              {
                "target": "Widget",
                "type": "call_method",
                "methodName": "removeRepresentationsByName",
                "reconstruc_color_scheme": false,
                "args": [
                  "ball+stick",
                  1
                ],
                "kwargs": {}
              },
              {
                "component_index": 1,
                "target": "compList",
                "type": "call_method",
                "methodName": "addRepresentation",
                "reconstruc_color_scheme": false,
                "args": [
                  "licorice"
                ],
                "kwargs": {
                  "sele": "all"
                }
              },
              {
                "target": "Stage",
                "type": "call_method",
                "methodName": "loadFile",
                "reconstruc_color_scheme": false,
                "args": [
                  {
                    "type": "blob",
                    "data": "TITLE     MDANALYSIS FRAME 0: Created by PDBWriter\nCRYST1    1.000    1.000    1.000  90.00  90.00  90.00 P 1           1\nREMARK     285 UNITARY VALUES FOR THE UNIT CELL AUTOMATICALLY SET\nREMARK     285 BY MDANALYSIS PDBWRITER BECAUSE UNIT CELL INFORMATION\nREMARK     285 WAS MISSING.\nREMARK     285 PROTEIN DATA BANK CONVENTIONS REQUIRE THAT\nREMARK     285 CRYST1 RECORD IS INCLUDED, BUT THE VALUES ON\nREMARK     285 THIS RECORD ARE MEANINGLESS.\nATOM      1  C5  8BP X9001     -15.017  16.863 -25.824  1.00 17.20      A       \nATOM      2  C6  8BP X9001     -13.278  16.004 -27.373  1.00 14.56      A       \nATOM      3  C8  8BP X9001     -13.346  13.635 -27.812  1.00 15.42      A       \nATOM      4  C10 8BP X9001     -11.686  15.102 -28.731  1.00 14.45      A       \nATOM      5  N12 8BP X9001     -10.594  15.014 -29.549  1.00 14.48      A       \nATOM      6  C13 8BP X9001     -10.475  13.679 -29.895  1.00 14.60      A       \nATOM      7  C15 8BP X9001      -9.754  16.160 -29.943  1.00 14.09      A       \nATOM      8  C17 8BP X9001      -8.304  15.775 -30.290  1.00 14.60      A       \nATOM      9  C20 8BP X9001     -15.945  12.923 -26.137  1.00 18.35      A       \nATOM     10  C24 8BP X9001     -18.008  12.519 -24.781  1.00 22.61      A       \nATOM     11  C28 8BP X9001     -14.041  18.158 -21.630  1.00 16.97      A       \nATOM     12  C1  8BP X9001     -15.251  18.258 -25.238  1.00 16.28      A       \nATOM     13  C2  8BP X9001     -14.604  19.186 -26.247  1.00 18.48      A       \nATOM     14  C3  8BP X9001     -13.384  18.412 -26.734  1.00 17.47      A       \nATOM     15  N4  8BP X9001     -13.859  17.045 -26.690  1.00 16.34      A       \nATOM     16  N7  8BP X9001     -13.840  14.773 -27.216  1.00 13.84      A       \nATOM     17  C9  8BP X9001     -12.187  13.801 -28.622  1.00 14.74      A       \nATOM     18  N11 8BP X9001     -12.179  16.227 -28.145  1.00 15.05      A       \nATOM     19  N14 8BP X9001     -11.416  12.929 -29.356  1.00 14.81      A       \nATOM     20  C16 8BP X9001     -10.370  16.900 -31.134  1.00 16.04      A       \nATOM     21  N18 8BP X9001     -13.980  12.390 -27.610  1.00 16.29      A       \nATOM     22  C19 8BP X9001     -15.106  12.099 -26.876  1.00 16.79      A       \nATOM     23  N21 8BP X9001     -16.907  12.116 -25.621  1.00 19.67      A       \nATOM     24  N22 8BP X9001     -16.767  10.824 -25.959  1.00 20.11      A       \nATOM     25  C23 8BP X9001     -15.668  10.820 -26.725  1.00 18.18      A       \nATOM     26  F25 8BP X9001     -15.469  19.365 -27.288  1.00 20.37      A       \nATOM     27  N26 8BP X9001     -14.550  18.378 -23.955  1.00 16.59      A       \nATOM     28  C27 8BP X9001     -15.018  17.851 -22.759  1.00 16.55      A       \nATOM     29  C29 8BP X9001     -14.392  17.502 -20.303  1.00 18.11      A       \nATOM     30  O30 8BP X9001     -16.073  17.221 -22.619  1.00 20.86      A       \nCONECT    1   12   15\nCONECT    2   15   16   18\nCONECT    3   16   17   21\nCONECT    4    5   17   18\nCONECT    5    4    6    7\nCONECT    6    5   19\nCONECT    7    5    8   20\nCONECT    8    7\nCONECT    9   22   23\nCONECT   10   23\nCONECT   11   28   29\nCONECT   12    1   13   27\nCONECT   13   12   14   26\nCONECT   14   13   15\nCONECT   15    1    2   14\nCONECT   16    2    3\nCONECT   17    3    4   19\nCONECT   18    2    4\nCONECT   19    6   17\nCONECT   20    7\nCONECT   21    3   22\nCONECT   22    9   21   25\nCONECT   23    9   10   24\nCONECT   24   23   25\nCONECT   25   22   24\nCONECT   26   13\nCONECT   27   12   28\nCONECT   28   11   27   30\nCONECT   29   11\nCONECT   30   28\nEND\n",
                    "binary": false
                  }
                ],
                "kwargs": {
                  "defaultRepresentation": true,
                  "ext": "pdb"
                }
              },
              {
                "target": "Widget",
                "type": "call_method",
                "methodName": "removeRepresentationsByName",
                "reconstruc_color_scheme": false,
                "args": [
                  "ball+stick",
                  2
                ],
                "kwargs": {}
              },
              {
                "component_index": 2,
                "target": "compList",
                "type": "call_method",
                "methodName": "addRepresentation",
                "reconstruc_color_scheme": false,
                "args": [
                  "licorice"
                ],
                "kwargs": {
                  "sele": "all"
                }
              },
              {
                "target": "Stage",
                "type": "call_method",
                "methodName": "loadFile",
                "reconstruc_color_scheme": false,
                "args": [
                  {
                    "type": "blob",
                    "data": "TITLE     MDANALYSIS FRAME 0: Created by PDBWriter\nCRYST1    1.000    1.000    1.000  90.00  90.00  90.00 P 1           1\nREMARK     285 UNITARY VALUES FOR THE UNIT CELL AUTOMATICALLY SET\nREMARK     285 BY MDANALYSIS PDBWRITER BECAUSE UNIT CELL INFORMATION\nREMARK     285 WAS MISSING.\nREMARK     285 PROTEIN DATA BANK CONVENTIONS REQUIRE THAT\nREMARK     285 CRYST1 RECORD IS INCLUDED, BUT THE VALUES ON\nREMARK     285 THIS RECORD ARE MEANINGLESS.\nATOM      1  C5  8BS X9001     -15.062  16.603 -25.611  1.00 25.65      A       \nATOM      2  C6  8BS X9001     -13.296  15.747 -27.149  1.00 23.63      A       \nATOM      3  C8  8BS X9001     -13.324  13.379 -27.589  1.00 24.27      A       \nATOM      4  C10 8BS X9001     -11.680  14.860 -28.499  1.00 22.65      A       \nATOM      5  N12 8BS X9001     -10.594  14.763 -29.313  1.00 23.77      A       \nATOM      6  C13 8BS X9001     -10.456  13.444 -29.656  1.00 22.65      A       \nATOM      7  C15 8BS X9001      -9.748  15.852 -29.737  1.00 23.53      A       \nATOM      8  C17 8BS X9001     -15.119  11.841 -26.797  1.00 27.29      A       \nATOM      9  C21 8BS X9001     -15.882  10.691 -27.050  1.00 28.72      A       \nATOM     10  C24 8BS X9001     -18.014  12.075 -24.662  1.00 31.85      A       \nATOM     11  C28 8BS X9001     -14.080  18.086 -21.441  1.00 23.85      A       \nATOM     12  C1  8BS X9001     -15.317  18.008 -25.049  1.00 25.83      A       \nATOM     13  C2  8BS X9001     -14.697  18.916 -26.095  1.00 26.79      A       \nATOM     14  C3  8BS X9001     -13.444  18.159 -26.526  1.00 25.63      A       \nATOM     15  N4  8BS X9001     -13.899  16.786 -26.474  1.00 23.48      A       \nATOM     16  N7  8BS X9001     -13.847  14.509 -26.997  1.00 22.96      A       \nATOM     17  C9  8BS X9001     -12.166  13.556 -28.389  1.00 23.23      A       \nATOM     18  N11 8BS X9001     -12.191  15.981 -27.915  1.00 23.17      A       \nATOM     19  N14 8BS X9001     -11.390  12.686 -29.117  1.00 22.37      A       \nATOM     20  N16 8BS X9001     -13.945  12.125 -27.431  1.00 25.73      A       \nATOM     21  C18 8BS X9001     -15.844  12.531 -25.837  1.00 28.29      A       \nATOM     22  N19 8BS X9001     -16.949  11.773 -25.590  1.00 29.64      A       \nATOM     23  N20 8BS X9001     -17.004  10.640 -26.316  1.00 29.95      A       \nATOM     24  O22 8BS X9001     -15.524   9.732 -27.955  1.00 29.94      A       \nATOM     25  C23 8BS X9001     -16.420   8.631 -28.109  1.00 31.18      A       \nATOM     26  F25 8BS X9001     -15.566  19.015 -27.149  1.00 28.30      A       \nATOM     27  N26 8BS X9001     -14.605  18.189 -23.774  1.00 25.07      A       \nATOM     28  C27 8BS X9001     -15.061  17.721 -22.551  1.00 23.87      A       \nATOM     29  C29 8BS X9001     -14.355  17.389 -20.116  1.00 22.33      A       \nATOM     30  O30 8BS X9001     -16.110  17.099 -22.372  1.00 28.99      A       \nCONECT    1   12   15\nCONECT    2   15   16   18\nCONECT    3   16   17   20\nCONECT    4    5   17   18\nCONECT    5    4    6    7\nCONECT    6    5   19\nCONECT    7    5\nCONECT    8    9   20   21\nCONECT    9    8   23   24\nCONECT   10   22\nCONECT   11   28   29\nCONECT   12    1   13   27\nCONECT   13   12   14   26\nCONECT   14   13   15\nCONECT   15    1    2   14\nCONECT   16    2    3\nCONECT   17    3    4   19\nCONECT   18    2    4\nCONECT   19    6   17\nCONECT   20    3    8\nCONECT   21    8   22\nCONECT   22   10   21   23\nCONECT   23    9   22\nCONECT   24    9   25\nCONECT   25   24\nCONECT   26   13\nCONECT   27   12   28\nCONECT   28   11   27   30\nCONECT   29   11\nCONECT   30   28\nEND\n",
                    "binary": false
                  }
                ],
                "kwargs": {
                  "defaultRepresentation": true,
                  "ext": "pdb"
                }
              },
              {
                "target": "Widget",
                "type": "call_method",
                "methodName": "removeRepresentationsByName",
                "reconstruc_color_scheme": false,
                "args": [
                  "ball+stick",
                  3
                ],
                "kwargs": {}
              },
              {
                "component_index": 3,
                "target": "compList",
                "type": "call_method",
                "methodName": "addRepresentation",
                "reconstruc_color_scheme": false,
                "args": [
                  "licorice"
                ],
                "kwargs": {
                  "sele": "all"
                }
              }
            ],
            "_ngl_original_stage_parameters": {
              "impostor": true,
              "quality": "medium",
              "workerDefault": true,
              "sampleLevel": 0,
              "backgroundColor": "white",
              "rotateSpeed": 2,
              "zoomSpeed": 1.2,
              "panSpeed": 1,
              "clipNear": 0,
              "clipFar": 100,
              "clipDist": 10,
              "clipMode": "scene",
              "clipScale": "relative",
              "fogNear": 50,
              "fogFar": 100,
              "cameraFov": 40,
              "cameraEyeSep": 0.3,
              "cameraType": "perspective",
              "lightColor": 14540253,
              "lightIntensity": 1,
              "ambientColor": 14540253,
              "ambientIntensity": 0.2,
              "hoverTimeout": 0,
              "tooltip": true,
              "mousePreset": "default"
            },
            "_ngl_repr_dict": {
              "0": {
                "0": {
                  "type": "licorice",
                  "params": {
                    "lazy": false,
                    "visible": true,
                    "quality": "medium",
                    "sphereDetail": 1,
                    "radialSegments": 10,
                    "openEnded": true,
                    "disableImpostor": false,
                    "lineOnly": false,
                    "cylinderOnly": false,
                    "multipleBond": "off",
                    "bondScale": 0.4,
                    "bondSpacing": 1,
                    "linewidth": 2,
                    "radiusType": "size",
                    "radiusData": {},
                    "radiusSize": 0.15,
                    "radiusScale": 1,
                    "assembly": "default",
                    "defaultAssembly": "",
                    "clipNear": 0,
                    "clipRadius": 0,
                    "clipCenter": {
                      "x": 0,
                      "y": 0,
                      "z": 0
                    },
                    "flatShaded": false,
                    "opacity": 1,
                    "depthWrite": true,
                    "side": "double",
                    "wireframe": false,
                    "colorScheme": "element",
                    "colorScale": "",
                    "colorReverse": false,
                    "colorValue": 9474192,
                    "colorMode": "hcl",
                    "roughness": 0.4,
                    "metalness": 0,
                    "diffuse": 16777215,
                    "diffuseInterior": false,
                    "useInteriorColor": true,
                    "interiorColor": 2236962,
                    "interiorDarkening": 0,
                    "matrix": {
                      "elements": [
                        1,
                        0,
                        0,
                        0,
                        0,
                        1,
                        0,
                        0,
                        0,
                        0,
                        1,
                        0,
                        0,
                        0,
                        0,
                        1
                      ]
                    },
                    "disablePicking": false,
                    "sele": "all"
                  }
                },
                "1": {
                  "type": "licorice",
                  "params": {
                    "lazy": false,
                    "visible": true,
                    "quality": "medium",
                    "sphereDetail": 1,
                    "radialSegments": 10,
                    "openEnded": true,
                    "disableImpostor": false,
                    "lineOnly": false,
                    "cylinderOnly": false,
                    "multipleBond": "off",
                    "bondScale": 0.4,
                    "bondSpacing": 1,
                    "linewidth": 2,
                    "radiusType": "size",
                    "radiusData": {},
                    "radiusSize": 0.15,
                    "radiusScale": 1,
                    "assembly": "default",
                    "defaultAssembly": "",
                    "clipNear": 0,
                    "clipRadius": 0,
                    "clipCenter": {
                      "x": 0,
                      "y": 0,
                      "z": 0
                    },
                    "flatShaded": false,
                    "opacity": 1,
                    "depthWrite": true,
                    "side": "double",
                    "wireframe": false,
                    "colorScheme": "element",
                    "colorScale": "",
                    "colorReverse": false,
                    "colorValue": 9474192,
                    "colorMode": "hcl",
                    "roughness": 0.4,
                    "metalness": 0,
                    "diffuse": 16777215,
                    "diffuseInterior": false,
                    "useInteriorColor": true,
                    "interiorColor": 2236962,
                    "interiorDarkening": 0,
                    "matrix": {
                      "elements": [
                        1,
                        0,
                        0,
                        0,
                        0,
                        1,
                        0,
                        0,
                        0,
                        0,
                        1,
                        0,
                        0,
                        0,
                        0,
                        1
                      ]
                    },
                    "disablePicking": false,
                    "sele": "all"
                  }
                }
              },
              "1": {
                "0": {
                  "type": "licorice",
                  "params": {
                    "lazy": false,
                    "visible": true,
                    "quality": "medium",
                    "sphereDetail": 1,
                    "radialSegments": 10,
                    "openEnded": true,
                    "disableImpostor": false,
                    "lineOnly": false,
                    "cylinderOnly": false,
                    "multipleBond": "off",
                    "bondScale": 0.4,
                    "bondSpacing": 1,
                    "linewidth": 2,
                    "radiusType": "size",
                    "radiusData": {},
                    "radiusSize": 0.15,
                    "radiusScale": 1,
                    "assembly": "default",
                    "defaultAssembly": "",
                    "clipNear": 0,
                    "clipRadius": 0,
                    "clipCenter": {
                      "x": 0,
                      "y": 0,
                      "z": 0
                    },
                    "flatShaded": false,
                    "opacity": 1,
                    "depthWrite": true,
                    "side": "double",
                    "wireframe": false,
                    "colorScheme": "element",
                    "colorScale": "",
                    "colorReverse": false,
                    "colorValue": 9474192,
                    "colorMode": "hcl",
                    "roughness": 0.4,
                    "metalness": 0,
                    "diffuse": 16777215,
                    "diffuseInterior": false,
                    "useInteriorColor": true,
                    "interiorColor": 2236962,
                    "interiorDarkening": 0,
                    "matrix": {
                      "elements": [
                        1,
                        0,
                        0,
                        0,
                        0,
                        1,
                        0,
                        0,
                        0,
                        0,
                        1,
                        0,
                        0,
                        0,
                        0,
                        1
                      ]
                    },
                    "disablePicking": false,
                    "sele": "all"
                  }
                },
                "1": {
                  "type": "licorice",
                  "params": {
                    "lazy": false,
                    "visible": true,
                    "quality": "medium",
                    "sphereDetail": 1,
                    "radialSegments": 10,
                    "openEnded": true,
                    "disableImpostor": false,
                    "lineOnly": false,
                    "cylinderOnly": false,
                    "multipleBond": "off",
                    "bondScale": 0.4,
                    "bondSpacing": 1,
                    "linewidth": 2,
                    "radiusType": "size",
                    "radiusData": {},
                    "radiusSize": 0.15,
                    "radiusScale": 1,
                    "assembly": "default",
                    "defaultAssembly": "",
                    "clipNear": 0,
                    "clipRadius": 0,
                    "clipCenter": {
                      "x": 0,
                      "y": 0,
                      "z": 0
                    },
                    "flatShaded": false,
                    "opacity": 1,
                    "depthWrite": true,
                    "side": "double",
                    "wireframe": false,
                    "colorScheme": "element",
                    "colorScale": "",
                    "colorReverse": false,
                    "colorValue": 9474192,
                    "colorMode": "hcl",
                    "roughness": 0.4,
                    "metalness": 0,
                    "diffuse": 16777215,
                    "diffuseInterior": false,
                    "useInteriorColor": true,
                    "interiorColor": 2236962,
                    "interiorDarkening": 0,
                    "matrix": {
                      "elements": [
                        1,
                        0,
                        0,
                        0,
                        0,
                        1,
                        0,
                        0,
                        0,
                        0,
                        1,
                        0,
                        0,
                        0,
                        0,
                        1
                      ]
                    },
                    "disablePicking": false,
                    "sele": "all"
                  }
                }
              },
              "2": {
                "0": {
                  "type": "licorice",
                  "params": {
                    "lazy": false,
                    "visible": true,
                    "quality": "medium",
                    "sphereDetail": 1,
                    "radialSegments": 10,
                    "openEnded": true,
                    "disableImpostor": false,
                    "lineOnly": false,
                    "cylinderOnly": false,
                    "multipleBond": "off",
                    "bondScale": 0.4,
                    "bondSpacing": 1,
                    "linewidth": 2,
                    "radiusType": "size",
                    "radiusData": {},
                    "radiusSize": 0.15,
                    "radiusScale": 1,
                    "assembly": "default",
                    "defaultAssembly": "",
                    "clipNear": 0,
                    "clipRadius": 0,
                    "clipCenter": {
                      "x": 0,
                      "y": 0,
                      "z": 0
                    },
                    "flatShaded": false,
                    "opacity": 1,
                    "depthWrite": true,
                    "side": "double",
                    "wireframe": false,
                    "colorScheme": "element",
                    "colorScale": "",
                    "colorReverse": false,
                    "colorValue": 9474192,
                    "colorMode": "hcl",
                    "roughness": 0.4,
                    "metalness": 0,
                    "diffuse": 16777215,
                    "diffuseInterior": false,
                    "useInteriorColor": true,
                    "interiorColor": 2236962,
                    "interiorDarkening": 0,
                    "matrix": {
                      "elements": [
                        1,
                        0,
                        0,
                        0,
                        0,
                        1,
                        0,
                        0,
                        0,
                        0,
                        1,
                        0,
                        0,
                        0,
                        0,
                        1
                      ]
                    },
                    "disablePicking": false,
                    "sele": "all"
                  }
                },
                "1": {
                  "type": "licorice",
                  "params": {
                    "lazy": false,
                    "visible": true,
                    "quality": "medium",
                    "sphereDetail": 1,
                    "radialSegments": 10,
                    "openEnded": true,
                    "disableImpostor": false,
                    "lineOnly": false,
                    "cylinderOnly": false,
                    "multipleBond": "off",
                    "bondScale": 0.4,
                    "bondSpacing": 1,
                    "linewidth": 2,
                    "radiusType": "size",
                    "radiusData": {},
                    "radiusSize": 0.15,
                    "radiusScale": 1,
                    "assembly": "default",
                    "defaultAssembly": "",
                    "clipNear": 0,
                    "clipRadius": 0,
                    "clipCenter": {
                      "x": 0,
                      "y": 0,
                      "z": 0
                    },
                    "flatShaded": false,
                    "opacity": 1,
                    "depthWrite": true,
                    "side": "double",
                    "wireframe": false,
                    "colorScheme": "element",
                    "colorScale": "",
                    "colorReverse": false,
                    "colorValue": 9474192,
                    "colorMode": "hcl",
                    "roughness": 0.4,
                    "metalness": 0,
                    "diffuse": 16777215,
                    "diffuseInterior": false,
                    "useInteriorColor": true,
                    "interiorColor": 2236962,
                    "interiorDarkening": 0,
                    "matrix": {
                      "elements": [
                        1,
                        0,
                        0,
                        0,
                        0,
                        1,
                        0,
                        0,
                        0,
                        0,
                        1,
                        0,
                        0,
                        0,
                        0,
                        1
                      ]
                    },
                    "disablePicking": false,
                    "sele": "all"
                  }
                }
              },
              "3": {
                "0": {
                  "type": "licorice",
                  "params": {
                    "lazy": false,
                    "visible": true,
                    "quality": "medium",
                    "sphereDetail": 1,
                    "radialSegments": 10,
                    "openEnded": true,
                    "disableImpostor": false,
                    "lineOnly": false,
                    "cylinderOnly": false,
                    "multipleBond": "off",
                    "bondScale": 0.4,
                    "bondSpacing": 1,
                    "linewidth": 2,
                    "radiusType": "size",
                    "radiusData": {},
                    "radiusSize": 0.15,
                    "radiusScale": 1,
                    "assembly": "default",
                    "defaultAssembly": "",
                    "clipNear": 0,
                    "clipRadius": 0,
                    "clipCenter": {
                      "x": 0,
                      "y": 0,
                      "z": 0
                    },
                    "flatShaded": false,
                    "opacity": 1,
                    "depthWrite": true,
                    "side": "double",
                    "wireframe": false,
                    "colorScheme": "element",
                    "colorScale": "",
                    "colorReverse": false,
                    "colorValue": 9474192,
                    "colorMode": "hcl",
                    "roughness": 0.4,
                    "metalness": 0,
                    "diffuse": 16777215,
                    "diffuseInterior": false,
                    "useInteriorColor": true,
                    "interiorColor": 2236962,
                    "interiorDarkening": 0,
                    "matrix": {
                      "elements": [
                        1,
                        0,
                        0,
                        0,
                        0,
                        1,
                        0,
                        0,
                        0,
                        0,
                        1,
                        0,
                        0,
                        0,
                        0,
                        1
                      ]
                    },
                    "disablePicking": false,
                    "sele": "all"
                  }
                },
                "1": {
                  "type": "licorice",
                  "params": {
                    "lazy": false,
                    "visible": true,
                    "quality": "medium",
                    "sphereDetail": 1,
                    "radialSegments": 10,
                    "openEnded": true,
                    "disableImpostor": false,
                    "lineOnly": false,
                    "cylinderOnly": false,
                    "multipleBond": "off",
                    "bondScale": 0.4,
                    "bondSpacing": 1,
                    "linewidth": 2,
                    "radiusType": "size",
                    "radiusData": {},
                    "radiusSize": 0.15,
                    "radiusScale": 1,
                    "assembly": "default",
                    "defaultAssembly": "",
                    "clipNear": 0,
                    "clipRadius": 0,
                    "clipCenter": {
                      "x": 0,
                      "y": 0,
                      "z": 0
                    },
                    "flatShaded": false,
                    "opacity": 1,
                    "depthWrite": true,
                    "side": "double",
                    "wireframe": false,
                    "colorScheme": "element",
                    "colorScale": "",
                    "colorReverse": false,
                    "colorValue": 9474192,
                    "colorMode": "hcl",
                    "roughness": 0.4,
                    "metalness": 0,
                    "diffuse": 16777215,
                    "diffuseInterior": false,
                    "useInteriorColor": true,
                    "interiorColor": 2236962,
                    "interiorDarkening": 0,
                    "matrix": {
                      "elements": [
                        1,
                        0,
                        0,
                        0,
                        0,
                        1,
                        0,
                        0,
                        0,
                        0,
                        1,
                        0,
                        0,
                        0,
                        0,
                        1
                      ]
                    },
                    "disablePicking": false,
                    "sele": "all"
                  }
                }
              },
              "4": {
                "0": {
                  "type": "ball+stick",
                  "params": {
                    "lazy": false,
                    "visible": true,
                    "quality": "high",
                    "sphereDetail": 2,
                    "radialSegments": 20,
                    "openEnded": true,
                    "disableImpostor": false,
                    "aspectRatio": 1.5,
                    "lineOnly": false,
                    "cylinderOnly": false,
                    "multipleBond": "off",
                    "bondScale": 0.3,
                    "bondSpacing": 0.75,
                    "linewidth": 2,
                    "radiusType": "size",
                    "radiusData": {},
                    "radiusSize": 0.15,
                    "radiusScale": 2,
                    "assembly": "default",
                    "defaultAssembly": "",
                    "clipNear": 0,
                    "clipRadius": 0,
                    "clipCenter": {
                      "x": 0,
                      "y": 0,
                      "z": 0
                    },
                    "flatShaded": false,
                    "opacity": 1,
                    "depthWrite": true,
                    "side": "double",
                    "wireframe": false,
                    "colorScheme": "element",
                    "colorScale": "",
                    "colorReverse": false,
                    "colorValue": 9474192,
                    "colorMode": "hcl",
                    "roughness": 0.4,
                    "metalness": 0,
                    "diffuse": 16777215,
                    "diffuseInterior": false,
                    "useInteriorColor": true,
                    "interiorColor": 2236962,
                    "interiorDarkening": 0,
                    "matrix": {
                      "elements": [
                        1,
                        0,
                        0,
                        0,
                        0,
                        1,
                        0,
                        0,
                        0,
                        0,
                        1,
                        0,
                        0,
                        0,
                        0,
                        1
                      ]
                    },
                    "disablePicking": false,
                    "sele": ""
                  }
                }
              },
              "5": {
                "0": {
                  "type": "ball+stick",
                  "params": {
                    "lazy": false,
                    "visible": true,
                    "quality": "high",
                    "sphereDetail": 2,
                    "radialSegments": 20,
                    "openEnded": true,
                    "disableImpostor": false,
                    "aspectRatio": 1.5,
                    "lineOnly": false,
                    "cylinderOnly": false,
                    "multipleBond": "off",
                    "bondScale": 0.3,
                    "bondSpacing": 0.75,
                    "linewidth": 2,
                    "radiusType": "size",
                    "radiusData": {},
                    "radiusSize": 0.15,
                    "radiusScale": 2,
                    "assembly": "default",
                    "defaultAssembly": "",
                    "clipNear": 0,
                    "clipRadius": 0,
                    "clipCenter": {
                      "x": 0,
                      "y": 0,
                      "z": 0
                    },
                    "flatShaded": false,
                    "opacity": 1,
                    "depthWrite": true,
                    "side": "double",
                    "wireframe": false,
                    "colorScheme": "element",
                    "colorScale": "",
                    "colorReverse": false,
                    "colorValue": 9474192,
                    "colorMode": "hcl",
                    "roughness": 0.4,
                    "metalness": 0,
                    "diffuse": 16777215,
                    "diffuseInterior": false,
                    "useInteriorColor": true,
                    "interiorColor": 2236962,
                    "interiorDarkening": 0,
                    "matrix": {
                      "elements": [
                        1,
                        0,
                        0,
                        0,
                        0,
                        1,
                        0,
                        0,
                        0,
                        0,
                        1,
                        0,
                        0,
                        0,
                        0,
                        1
                      ]
                    },
                    "disablePicking": false,
                    "sele": ""
                  }
                }
              },
              "6": {
                "0": {
                  "type": "ball+stick",
                  "params": {
                    "lazy": false,
                    "visible": true,
                    "quality": "high",
                    "sphereDetail": 2,
                    "radialSegments": 20,
                    "openEnded": true,
                    "disableImpostor": false,
                    "aspectRatio": 1.5,
                    "lineOnly": false,
                    "cylinderOnly": false,
                    "multipleBond": "off",
                    "bondScale": 0.3,
                    "bondSpacing": 0.75,
                    "linewidth": 2,
                    "radiusType": "size",
                    "radiusData": {},
                    "radiusSize": 0.15,
                    "radiusScale": 2,
                    "assembly": "default",
                    "defaultAssembly": "",
                    "clipNear": 0,
                    "clipRadius": 0,
                    "clipCenter": {
                      "x": 0,
                      "y": 0,
                      "z": 0
                    },
                    "flatShaded": false,
                    "opacity": 1,
                    "depthWrite": true,
                    "side": "double",
                    "wireframe": false,
                    "colorScheme": "element",
                    "colorScale": "",
                    "colorReverse": false,
                    "colorValue": 9474192,
                    "colorMode": "hcl",
                    "roughness": 0.4,
                    "metalness": 0,
                    "diffuse": 16777215,
                    "diffuseInterior": false,
                    "useInteriorColor": true,
                    "interiorColor": 2236962,
                    "interiorDarkening": 0,
                    "matrix": {
                      "elements": [
                        1,
                        0,
                        0,
                        0,
                        0,
                        1,
                        0,
                        0,
                        0,
                        0,
                        1,
                        0,
                        0,
                        0,
                        0,
                        1
                      ]
                    },
                    "disablePicking": false,
                    "sele": ""
                  }
                }
              },
              "7": {
                "0": {
                  "type": "ball+stick",
                  "params": {
                    "lazy": false,
                    "visible": true,
                    "quality": "high",
                    "sphereDetail": 2,
                    "radialSegments": 20,
                    "openEnded": true,
                    "disableImpostor": false,
                    "aspectRatio": 1.5,
                    "lineOnly": false,
                    "cylinderOnly": false,
                    "multipleBond": "off",
                    "bondScale": 0.3,
                    "bondSpacing": 0.75,
                    "linewidth": 2,
                    "radiusType": "size",
                    "radiusData": {},
                    "radiusSize": 0.15,
                    "radiusScale": 2,
                    "assembly": "default",
                    "defaultAssembly": "",
                    "clipNear": 0,
                    "clipRadius": 0,
                    "clipCenter": {
                      "x": 0,
                      "y": 0,
                      "z": 0
                    },
                    "flatShaded": false,
                    "opacity": 1,
                    "depthWrite": true,
                    "side": "double",
                    "wireframe": false,
                    "colorScheme": "element",
                    "colorScale": "",
                    "colorReverse": false,
                    "colorValue": 9474192,
                    "colorMode": "hcl",
                    "roughness": 0.4,
                    "metalness": 0,
                    "diffuse": 16777215,
                    "diffuseInterior": false,
                    "useInteriorColor": true,
                    "interiorColor": 2236962,
                    "interiorDarkening": 0,
                    "matrix": {
                      "elements": [
                        1,
                        0,
                        0,
                        0,
                        0,
                        1,
                        0,
                        0,
                        0,
                        0,
                        1,
                        0,
                        0,
                        0,
                        0,
                        1
                      ]
                    },
                    "disablePicking": false,
                    "sele": ""
                  }
                }
              }
            },
            "_ngl_serialize": false,
            "_ngl_version": "2.0.0-dev.39",
            "_ngl_view_id": [
              "3499A467-C697-4554-AF2C-70BC05F2AB17"
            ],
            "_player_dict": {},
            "_scene_position": {},
            "_scene_rotation": {},
            "_synced_model_ids": [],
            "_synced_repr_model_ids": [],
            "_view_count": null,
            "_view_height": "",
            "_view_module": "nglview-js-widgets",
            "_view_module_version": "3.0.6",
            "_view_name": "NGLView",
            "_view_width": "",
            "background": "white",
            "frame": 0,
            "gui_style": null,
            "layout": "IPY_MODEL_02a76b26e79c49bb903e89cdf2c521ce",
            "max_frame": 0,
            "n_components": 8,
            "picked": {}
          }
        },
        "02a76b26e79c49bb903e89cdf2c521ce": {
          "model_module": "@jupyter-widgets/base",
          "model_name": "LayoutModel",
          "model_module_version": "1.2.0",
          "state": {
            "_model_module": "@jupyter-widgets/base",
            "_model_module_version": "1.2.0",
            "_model_name": "LayoutModel",
            "_view_count": null,
            "_view_module": "@jupyter-widgets/base",
            "_view_module_version": "1.2.0",
            "_view_name": "LayoutView",
            "align_content": null,
            "align_items": null,
            "align_self": null,
            "border": null,
            "bottom": null,
            "display": null,
            "flex": null,
            "flex_flow": null,
            "grid_area": null,
            "grid_auto_columns": null,
            "grid_auto_flow": null,
            "grid_auto_rows": null,
            "grid_column": null,
            "grid_gap": null,
            "grid_row": null,
            "grid_template_areas": null,
            "grid_template_columns": null,
            "grid_template_rows": null,
            "height": null,
            "justify_content": null,
            "justify_items": null,
            "left": null,
            "margin": null,
            "max_height": null,
            "max_width": null,
            "min_height": null,
            "min_width": null,
            "object_fit": null,
            "object_position": null,
            "order": null,
            "overflow": null,
            "overflow_x": null,
            "overflow_y": null,
            "padding": null,
            "right": null,
            "top": null,
            "visibility": null,
            "width": null
          }
        },
        "75817411ad774133890c5e5a3574373a": {
          "model_module": "@jupyter-widgets/controls",
          "model_name": "ButtonModel",
          "model_module_version": "1.5.0",
          "state": {
            "_dom_classes": [],
            "_model_module": "@jupyter-widgets/controls",
            "_model_module_version": "1.5.0",
            "_model_name": "ButtonModel",
            "_view_count": null,
            "_view_module": "@jupyter-widgets/controls",
            "_view_module_version": "1.5.0",
            "_view_name": "ButtonView",
            "button_style": "",
            "description": "",
            "disabled": false,
            "icon": "compress",
            "layout": "IPY_MODEL_22a58bd8e695438ca4df3ff403bb0b8a",
            "style": "IPY_MODEL_355ab8a08d1340a58440e85e200c5427",
            "tooltip": ""
          }
        },
        "abbbf582d6634035929f1c58548eb78c": {
          "model_module": "@jupyter-widgets/controls",
          "model_name": "HBoxModel",
          "model_module_version": "1.5.0",
          "state": {
            "_dom_classes": [],
            "_model_module": "@jupyter-widgets/controls",
            "_model_module_version": "1.5.0",
            "_model_name": "HBoxModel",
            "_view_count": null,
            "_view_module": "@jupyter-widgets/controls",
            "_view_module_version": "1.5.0",
            "_view_name": "HBoxView",
            "box_style": "",
            "children": [
              "IPY_MODEL_f584524bfd3c4aabb0126e63d1f0d793",
              "IPY_MODEL_ca55c46275854c79bc2b1a9981be5cdb"
            ],
            "layout": "IPY_MODEL_2df161c84a824dce86b955dc906a540a"
          }
        },
        "2fbb88fe740645b6b425fc04f6b4c072": {
          "model_module": "@jupyter-widgets/base",
          "model_name": "LayoutModel",
          "model_module_version": "1.2.0",
          "state": {
            "_model_module": "@jupyter-widgets/base",
            "_model_module_version": "1.2.0",
            "_model_name": "LayoutModel",
            "_view_count": null,
            "_view_module": "@jupyter-widgets/base",
            "_view_module_version": "1.2.0",
            "_view_name": "LayoutView",
            "align_content": null,
            "align_items": null,
            "align_self": null,
            "border": null,
            "bottom": null,
            "display": null,
            "flex": null,
            "flex_flow": null,
            "grid_area": null,
            "grid_auto_columns": null,
            "grid_auto_flow": null,
            "grid_auto_rows": null,
            "grid_column": null,
            "grid_gap": null,
            "grid_row": null,
            "grid_template_areas": null,
            "grid_template_columns": null,
            "grid_template_rows": null,
            "height": null,
            "justify_content": null,
            "justify_items": null,
            "left": null,
            "margin": null,
            "max_height": null,
            "max_width": null,
            "min_height": null,
            "min_width": null,
            "object_fit": null,
            "object_position": null,
            "order": null,
            "overflow": null,
            "overflow_x": null,
            "overflow_y": null,
            "padding": null,
            "right": null,
            "top": null,
            "visibility": null,
            "width": null
          }
        },
        "f3e3626f16df4985b120bd0725668e01": {
          "model_module": "@jupyter-widgets/controls",
          "model_name": "DescriptionStyleModel",
          "model_module_version": "1.5.0",
          "state": {
            "_model_module": "@jupyter-widgets/controls",
            "_model_module_version": "1.5.0",
            "_model_name": "DescriptionStyleModel",
            "_view_count": null,
            "_view_module": "@jupyter-widgets/base",
            "_view_module_version": "1.2.0",
            "_view_name": "StyleView",
            "description_width": ""
          }
        },
        "84f30a7b8e874c7ba25f1e091a97212f": {
          "model_module": "@jupyter-widgets/base",
          "model_name": "LayoutModel",
          "model_module_version": "1.2.0",
          "state": {
            "_model_module": "@jupyter-widgets/base",
            "_model_module_version": "1.2.0",
            "_model_name": "LayoutModel",
            "_view_count": null,
            "_view_module": "@jupyter-widgets/base",
            "_view_module_version": "1.2.0",
            "_view_name": "LayoutView",
            "align_content": null,
            "align_items": null,
            "align_self": null,
            "border": null,
            "bottom": null,
            "display": null,
            "flex": null,
            "flex_flow": null,
            "grid_area": null,
            "grid_auto_columns": null,
            "grid_auto_flow": null,
            "grid_auto_rows": null,
            "grid_column": null,
            "grid_gap": null,
            "grid_row": null,
            "grid_template_areas": null,
            "grid_template_columns": null,
            "grid_template_rows": null,
            "height": null,
            "justify_content": null,
            "justify_items": null,
            "left": null,
            "margin": null,
            "max_height": null,
            "max_width": null,
            "min_height": null,
            "min_width": null,
            "object_fit": null,
            "object_position": null,
            "order": null,
            "overflow": null,
            "overflow_x": null,
            "overflow_y": null,
            "padding": null,
            "right": null,
            "top": null,
            "visibility": null,
            "width": null
          }
        },
        "1bf6a17f1c884600a1411354d0135d30": {
          "model_module": "@jupyter-widgets/controls",
          "model_name": "SliderStyleModel",
          "model_module_version": "1.5.0",
          "state": {
            "_model_module": "@jupyter-widgets/controls",
            "_model_module_version": "1.5.0",
            "_model_name": "SliderStyleModel",
            "_view_count": null,
            "_view_module": "@jupyter-widgets/base",
            "_view_module_version": "1.2.0",
            "_view_name": "StyleView",
            "description_width": "",
            "handle_color": null
          }
        },
        "f584524bfd3c4aabb0126e63d1f0d793": {
          "model_module": "@jupyter-widgets/controls",
          "model_name": "PlayModel",
          "model_module_version": "1.5.0",
          "state": {
            "_dom_classes": [],
            "_model_module": "@jupyter-widgets/controls",
            "_model_module_version": "1.5.0",
            "_model_name": "PlayModel",
            "_playing": false,
            "_repeat": false,
            "_view_count": null,
            "_view_module": "@jupyter-widgets/controls",
            "_view_module_version": "1.5.0",
            "_view_name": "PlayView",
            "description": "",
            "description_tooltip": null,
            "disabled": false,
            "interval": 100,
            "layout": "IPY_MODEL_2fbb88fe740645b6b425fc04f6b4c072",
            "max": 0,
            "min": 0,
            "show_repeat": true,
            "step": 1,
            "style": "IPY_MODEL_f3e3626f16df4985b120bd0725668e01",
            "value": 0
          }
        },
        "ca55c46275854c79bc2b1a9981be5cdb": {
          "model_module": "@jupyter-widgets/controls",
          "model_name": "IntSliderModel",
          "model_module_version": "1.5.0",
          "state": {
            "_dom_classes": [],
            "_model_module": "@jupyter-widgets/controls",
            "_model_module_version": "1.5.0",
            "_model_name": "IntSliderModel",
            "_view_count": null,
            "_view_module": "@jupyter-widgets/controls",
            "_view_module_version": "1.5.0",
            "_view_name": "IntSliderView",
            "continuous_update": true,
            "description": "",
            "description_tooltip": null,
            "disabled": false,
            "layout": "IPY_MODEL_84f30a7b8e874c7ba25f1e091a97212f",
            "max": 0,
            "min": 0,
            "orientation": "horizontal",
            "readout": true,
            "readout_format": "d",
            "step": 1,
            "style": "IPY_MODEL_1bf6a17f1c884600a1411354d0135d30",
            "value": 0
          }
        },
        "22a58bd8e695438ca4df3ff403bb0b8a": {
          "model_module": "@jupyter-widgets/base",
          "model_name": "LayoutModel",
          "model_module_version": "1.2.0",
          "state": {
            "_model_module": "@jupyter-widgets/base",
            "_model_module_version": "1.2.0",
            "_model_name": "LayoutModel",
            "_view_count": null,
            "_view_module": "@jupyter-widgets/base",
            "_view_module_version": "1.2.0",
            "_view_name": "LayoutView",
            "align_content": null,
            "align_items": null,
            "align_self": null,
            "border": null,
            "bottom": null,
            "display": null,
            "flex": null,
            "flex_flow": null,
            "grid_area": null,
            "grid_auto_columns": null,
            "grid_auto_flow": null,
            "grid_auto_rows": null,
            "grid_column": null,
            "grid_gap": null,
            "grid_row": null,
            "grid_template_areas": null,
            "grid_template_columns": null,
            "grid_template_rows": null,
            "height": null,
            "justify_content": null,
            "justify_items": null,
            "left": null,
            "margin": null,
            "max_height": null,
            "max_width": null,
            "min_height": null,
            "min_width": null,
            "object_fit": null,
            "object_position": null,
            "order": null,
            "overflow": null,
            "overflow_x": null,
            "overflow_y": null,
            "padding": null,
            "right": null,
            "top": null,
            "visibility": null,
            "width": "34px"
          }
        },
        "355ab8a08d1340a58440e85e200c5427": {
          "model_module": "@jupyter-widgets/controls",
          "model_name": "ButtonStyleModel",
          "model_module_version": "1.5.0",
          "state": {
            "_model_module": "@jupyter-widgets/controls",
            "_model_module_version": "1.5.0",
            "_model_name": "ButtonStyleModel",
            "_view_count": null,
            "_view_module": "@jupyter-widgets/base",
            "_view_module_version": "1.2.0",
            "_view_name": "StyleView",
            "button_color": null,
            "font_weight": ""
          }
        },
        "2df161c84a824dce86b955dc906a540a": {
          "model_module": "@jupyter-widgets/base",
          "model_name": "LayoutModel",
          "model_module_version": "1.2.0",
          "state": {
            "_model_module": "@jupyter-widgets/base",
            "_model_module_version": "1.2.0",
            "_model_name": "LayoutModel",
            "_view_count": null,
            "_view_module": "@jupyter-widgets/base",
            "_view_module_version": "1.2.0",
            "_view_name": "LayoutView",
            "align_content": null,
            "align_items": null,
            "align_self": null,
            "border": null,
            "bottom": null,
            "display": null,
            "flex": null,
            "flex_flow": null,
            "grid_area": null,
            "grid_auto_columns": null,
            "grid_auto_flow": null,
            "grid_auto_rows": null,
            "grid_column": null,
            "grid_gap": null,
            "grid_row": null,
            "grid_template_areas": null,
            "grid_template_columns": null,
            "grid_template_rows": null,
            "height": null,
            "justify_content": null,
            "justify_items": null,
            "left": null,
            "margin": null,
            "max_height": null,
            "max_width": null,
            "min_height": null,
            "min_width": null,
            "object_fit": null,
            "object_position": null,
            "order": null,
            "overflow": null,
            "overflow_x": null,
            "overflow_y": null,
            "padding": null,
            "right": null,
            "top": null,
            "visibility": null,
            "width": null
          }
        }
      }
    }
  },
  "cells": [
    {
      "cell_type": "markdown",
      "metadata": {
        "id": "view-in-github",
        "colab_type": "text"
      },
      "source": [
        "<a href=\"https://colab.research.google.com/github/francescopatane96/Computer_aided_drug_discovery_kit/blob/main/8_protein_data_acquisition_from_PDB.ipynb\" target=\"_parent\"><img src=\"https://colab.research.google.com/assets/colab-badge.svg\" alt=\"Open In Colab\"/></a>"
      ]
    },
    {
      "cell_type": "markdown",
      "source": [
        "# Protein data acquisition from PDB"
      ],
      "metadata": {
        "id": "YwcnGI9JLc0o"
      }
    },
    {
      "cell_type": "code",
      "source": [
        "from google.colab import output\n",
        "output.enable_custom_widget_manager()"
      ],
      "metadata": {
        "id": "kPO7c3XnJ7FG"
      },
      "execution_count": 4,
      "outputs": []
    },
    {
      "cell_type": "code",
      "source": [
        "!pip install redo requests_cache nglview pypdb rdkit biotite"
      ],
      "metadata": {
        "colab": {
          "base_uri": "https://localhost:8080/"
        },
        "id": "FdoRl6awMWXW",
        "outputId": "3d23f055-0474-413b-f2b8-ce22ab26376e"
      },
      "execution_count": 5,
      "outputs": [
        {
          "output_type": "stream",
          "name": "stdout",
          "text": [
            "Requirement already satisfied: redo in /usr/local/lib/python3.10/dist-packages (2.0.4)\n",
            "Requirement already satisfied: requests_cache in /usr/local/lib/python3.10/dist-packages (1.1.0)\n",
            "Requirement already satisfied: nglview in /usr/local/lib/python3.10/dist-packages (3.0.6)\n",
            "Requirement already satisfied: pypdb in /usr/local/lib/python3.10/dist-packages (2.3)\n",
            "Requirement already satisfied: rdkit in /usr/local/lib/python3.10/dist-packages (2023.3.2)\n",
            "Requirement already satisfied: biotite in /usr/local/lib/python3.10/dist-packages (0.37.0)\n",
            "Requirement already satisfied: attrs>=21.2 in /usr/local/lib/python3.10/dist-packages (from requests_cache) (23.1.0)\n",
            "Requirement already satisfied: cattrs>=22.2 in /usr/local/lib/python3.10/dist-packages (from requests_cache) (23.1.2)\n",
            "Requirement already satisfied: platformdirs>=2.5 in /usr/local/lib/python3.10/dist-packages (from requests_cache) (3.10.0)\n",
            "Requirement already satisfied: requests>=2.22 in /usr/local/lib/python3.10/dist-packages (from requests_cache) (2.31.0)\n",
            "Requirement already satisfied: url-normalize>=1.4 in /usr/local/lib/python3.10/dist-packages (from requests_cache) (1.4.3)\n",
            "Requirement already satisfied: urllib3>=1.25.5 in /usr/local/lib/python3.10/dist-packages (from requests_cache) (2.0.4)\n",
            "Requirement already satisfied: ipywidgets>=7 in /usr/local/lib/python3.10/dist-packages (from nglview) (7.7.1)\n",
            "Requirement already satisfied: jupyterlab-widgets in /usr/local/lib/python3.10/dist-packages (from nglview) (3.0.8)\n",
            "Requirement already satisfied: numpy in /usr/local/lib/python3.10/dist-packages (from nglview) (1.23.5)\n",
            "Requirement already satisfied: pandas in /usr/local/lib/python3.10/dist-packages (from pypdb) (1.5.3)\n",
            "Requirement already satisfied: Pillow in /usr/local/lib/python3.10/dist-packages (from rdkit) (9.4.0)\n",
            "Requirement already satisfied: msgpack>=0.5.6 in /usr/local/lib/python3.10/dist-packages (from biotite) (1.0.5)\n",
            "Requirement already satisfied: networkx>=2.0 in /usr/local/lib/python3.10/dist-packages (from biotite) (3.1)\n",
            "Requirement already satisfied: exceptiongroup in /usr/local/lib/python3.10/dist-packages (from cattrs>=22.2->requests_cache) (1.1.2)\n",
            "Requirement already satisfied: typing_extensions>=4.1.0 in /usr/local/lib/python3.10/dist-packages (from cattrs>=22.2->requests_cache) (4.7.1)\n",
            "Requirement already satisfied: ipykernel>=4.5.1 in /usr/local/lib/python3.10/dist-packages (from ipywidgets>=7->nglview) (5.5.6)\n",
            "Requirement already satisfied: ipython-genutils~=0.2.0 in /usr/local/lib/python3.10/dist-packages (from ipywidgets>=7->nglview) (0.2.0)\n",
            "Requirement already satisfied: traitlets>=4.3.1 in /usr/local/lib/python3.10/dist-packages (from ipywidgets>=7->nglview) (5.7.1)\n",
            "Requirement already satisfied: widgetsnbextension~=3.6.0 in /usr/local/lib/python3.10/dist-packages (from ipywidgets>=7->nglview) (3.6.5)\n",
            "Requirement already satisfied: ipython>=4.0.0 in /usr/local/lib/python3.10/dist-packages (from ipywidgets>=7->nglview) (7.34.0)\n",
            "Requirement already satisfied: charset-normalizer<4,>=2 in /usr/local/lib/python3.10/dist-packages (from requests>=2.22->requests_cache) (3.2.0)\n",
            "Requirement already satisfied: idna<4,>=2.5 in /usr/local/lib/python3.10/dist-packages (from requests>=2.22->requests_cache) (3.4)\n",
            "Requirement already satisfied: certifi>=2017.4.17 in /usr/local/lib/python3.10/dist-packages (from requests>=2.22->requests_cache) (2023.7.22)\n",
            "Requirement already satisfied: six in /usr/local/lib/python3.10/dist-packages (from url-normalize>=1.4->requests_cache) (1.16.0)\n",
            "Requirement already satisfied: python-dateutil>=2.8.1 in /usr/local/lib/python3.10/dist-packages (from pandas->pypdb) (2.8.2)\n",
            "Requirement already satisfied: pytz>=2020.1 in /usr/local/lib/python3.10/dist-packages (from pandas->pypdb) (2023.3)\n",
            "Requirement already satisfied: jupyter-client in /usr/local/lib/python3.10/dist-packages (from ipykernel>=4.5.1->ipywidgets>=7->nglview) (6.1.12)\n",
            "Requirement already satisfied: tornado>=4.2 in /usr/local/lib/python3.10/dist-packages (from ipykernel>=4.5.1->ipywidgets>=7->nglview) (6.3.1)\n",
            "Requirement already satisfied: setuptools>=18.5 in /usr/local/lib/python3.10/dist-packages (from ipython>=4.0.0->ipywidgets>=7->nglview) (67.7.2)\n",
            "Requirement already satisfied: jedi>=0.16 in /usr/local/lib/python3.10/dist-packages (from ipython>=4.0.0->ipywidgets>=7->nglview) (0.19.0)\n",
            "Requirement already satisfied: decorator in /usr/local/lib/python3.10/dist-packages (from ipython>=4.0.0->ipywidgets>=7->nglview) (4.4.2)\n",
            "Requirement already satisfied: pickleshare in /usr/local/lib/python3.10/dist-packages (from ipython>=4.0.0->ipywidgets>=7->nglview) (0.7.5)\n",
            "Requirement already satisfied: prompt-toolkit!=3.0.0,!=3.0.1,<3.1.0,>=2.0.0 in /usr/local/lib/python3.10/dist-packages (from ipython>=4.0.0->ipywidgets>=7->nglview) (3.0.39)\n",
            "Requirement already satisfied: pygments in /usr/local/lib/python3.10/dist-packages (from ipython>=4.0.0->ipywidgets>=7->nglview) (2.16.1)\n",
            "Requirement already satisfied: backcall in /usr/local/lib/python3.10/dist-packages (from ipython>=4.0.0->ipywidgets>=7->nglview) (0.2.0)\n",
            "Requirement already satisfied: matplotlib-inline in /usr/local/lib/python3.10/dist-packages (from ipython>=4.0.0->ipywidgets>=7->nglview) (0.1.6)\n",
            "Requirement already satisfied: pexpect>4.3 in /usr/local/lib/python3.10/dist-packages (from ipython>=4.0.0->ipywidgets>=7->nglview) (4.8.0)\n",
            "Requirement already satisfied: notebook>=4.4.1 in /usr/local/lib/python3.10/dist-packages (from widgetsnbextension~=3.6.0->ipywidgets>=7->nglview) (6.4.8)\n",
            "Requirement already satisfied: parso<0.9.0,>=0.8.3 in /usr/local/lib/python3.10/dist-packages (from jedi>=0.16->ipython>=4.0.0->ipywidgets>=7->nglview) (0.8.3)\n",
            "Requirement already satisfied: jinja2 in /usr/local/lib/python3.10/dist-packages (from notebook>=4.4.1->widgetsnbextension~=3.6.0->ipywidgets>=7->nglview) (3.1.2)\n",
            "Requirement already satisfied: pyzmq>=17 in /usr/local/lib/python3.10/dist-packages (from notebook>=4.4.1->widgetsnbextension~=3.6.0->ipywidgets>=7->nglview) (23.2.1)\n",
            "Requirement already satisfied: argon2-cffi in /usr/local/lib/python3.10/dist-packages (from notebook>=4.4.1->widgetsnbextension~=3.6.0->ipywidgets>=7->nglview) (21.3.0)\n",
            "Requirement already satisfied: jupyter-core>=4.6.1 in /usr/local/lib/python3.10/dist-packages (from notebook>=4.4.1->widgetsnbextension~=3.6.0->ipywidgets>=7->nglview) (5.3.1)\n",
            "Requirement already satisfied: nbformat in /usr/local/lib/python3.10/dist-packages (from notebook>=4.4.1->widgetsnbextension~=3.6.0->ipywidgets>=7->nglview) (5.9.2)\n",
            "Requirement already satisfied: nbconvert in /usr/local/lib/python3.10/dist-packages (from notebook>=4.4.1->widgetsnbextension~=3.6.0->ipywidgets>=7->nglview) (6.5.4)\n",
            "Requirement already satisfied: nest-asyncio>=1.5 in /usr/local/lib/python3.10/dist-packages (from notebook>=4.4.1->widgetsnbextension~=3.6.0->ipywidgets>=7->nglview) (1.5.7)\n",
            "Requirement already satisfied: Send2Trash>=1.8.0 in /usr/local/lib/python3.10/dist-packages (from notebook>=4.4.1->widgetsnbextension~=3.6.0->ipywidgets>=7->nglview) (1.8.2)\n",
            "Requirement already satisfied: terminado>=0.8.3 in /usr/local/lib/python3.10/dist-packages (from notebook>=4.4.1->widgetsnbextension~=3.6.0->ipywidgets>=7->nglview) (0.17.1)\n",
            "Requirement already satisfied: prometheus-client in /usr/local/lib/python3.10/dist-packages (from notebook>=4.4.1->widgetsnbextension~=3.6.0->ipywidgets>=7->nglview) (0.17.1)\n",
            "Requirement already satisfied: ptyprocess>=0.5 in /usr/local/lib/python3.10/dist-packages (from pexpect>4.3->ipython>=4.0.0->ipywidgets>=7->nglview) (0.7.0)\n",
            "Requirement already satisfied: wcwidth in /usr/local/lib/python3.10/dist-packages (from prompt-toolkit!=3.0.0,!=3.0.1,<3.1.0,>=2.0.0->ipython>=4.0.0->ipywidgets>=7->nglview) (0.2.6)\n",
            "Requirement already satisfied: argon2-cffi-bindings in /usr/local/lib/python3.10/dist-packages (from argon2-cffi->notebook>=4.4.1->widgetsnbextension~=3.6.0->ipywidgets>=7->nglview) (21.2.0)\n",
            "Requirement already satisfied: MarkupSafe>=2.0 in /usr/local/lib/python3.10/dist-packages (from jinja2->notebook>=4.4.1->widgetsnbextension~=3.6.0->ipywidgets>=7->nglview) (2.1.3)\n",
            "Requirement already satisfied: lxml in /usr/local/lib/python3.10/dist-packages (from nbconvert->notebook>=4.4.1->widgetsnbextension~=3.6.0->ipywidgets>=7->nglview) (4.9.3)\n",
            "Requirement already satisfied: beautifulsoup4 in /usr/local/lib/python3.10/dist-packages (from nbconvert->notebook>=4.4.1->widgetsnbextension~=3.6.0->ipywidgets>=7->nglview) (4.11.2)\n",
            "Requirement already satisfied: bleach in /usr/local/lib/python3.10/dist-packages (from nbconvert->notebook>=4.4.1->widgetsnbextension~=3.6.0->ipywidgets>=7->nglview) (6.0.0)\n",
            "Requirement already satisfied: defusedxml in /usr/local/lib/python3.10/dist-packages (from nbconvert->notebook>=4.4.1->widgetsnbextension~=3.6.0->ipywidgets>=7->nglview) (0.7.1)\n",
            "Requirement already satisfied: entrypoints>=0.2.2 in /usr/local/lib/python3.10/dist-packages (from nbconvert->notebook>=4.4.1->widgetsnbextension~=3.6.0->ipywidgets>=7->nglview) (0.4)\n",
            "Requirement already satisfied: jupyterlab-pygments in /usr/local/lib/python3.10/dist-packages (from nbconvert->notebook>=4.4.1->widgetsnbextension~=3.6.0->ipywidgets>=7->nglview) (0.2.2)\n",
            "Requirement already satisfied: mistune<2,>=0.8.1 in /usr/local/lib/python3.10/dist-packages (from nbconvert->notebook>=4.4.1->widgetsnbextension~=3.6.0->ipywidgets>=7->nglview) (0.8.4)\n",
            "Requirement already satisfied: nbclient>=0.5.0 in /usr/local/lib/python3.10/dist-packages (from nbconvert->notebook>=4.4.1->widgetsnbextension~=3.6.0->ipywidgets>=7->nglview) (0.8.0)\n",
            "Requirement already satisfied: packaging in /usr/local/lib/python3.10/dist-packages (from nbconvert->notebook>=4.4.1->widgetsnbextension~=3.6.0->ipywidgets>=7->nglview) (23.1)\n",
            "Requirement already satisfied: pandocfilters>=1.4.1 in /usr/local/lib/python3.10/dist-packages (from nbconvert->notebook>=4.4.1->widgetsnbextension~=3.6.0->ipywidgets>=7->nglview) (1.5.0)\n",
            "Requirement already satisfied: tinycss2 in /usr/local/lib/python3.10/dist-packages (from nbconvert->notebook>=4.4.1->widgetsnbextension~=3.6.0->ipywidgets>=7->nglview) (1.2.1)\n",
            "Requirement already satisfied: fastjsonschema in /usr/local/lib/python3.10/dist-packages (from nbformat->notebook>=4.4.1->widgetsnbextension~=3.6.0->ipywidgets>=7->nglview) (2.18.0)\n",
            "Requirement already satisfied: jsonschema>=2.6 in /usr/local/lib/python3.10/dist-packages (from nbformat->notebook>=4.4.1->widgetsnbextension~=3.6.0->ipywidgets>=7->nglview) (4.19.0)\n",
            "Requirement already satisfied: jsonschema-specifications>=2023.03.6 in /usr/local/lib/python3.10/dist-packages (from jsonschema>=2.6->nbformat->notebook>=4.4.1->widgetsnbextension~=3.6.0->ipywidgets>=7->nglview) (2023.7.1)\n",
            "Requirement already satisfied: referencing>=0.28.4 in /usr/local/lib/python3.10/dist-packages (from jsonschema>=2.6->nbformat->notebook>=4.4.1->widgetsnbextension~=3.6.0->ipywidgets>=7->nglview) (0.30.2)\n",
            "Requirement already satisfied: rpds-py>=0.7.1 in /usr/local/lib/python3.10/dist-packages (from jsonschema>=2.6->nbformat->notebook>=4.4.1->widgetsnbextension~=3.6.0->ipywidgets>=7->nglview) (0.9.2)\n",
            "Requirement already satisfied: cffi>=1.0.1 in /usr/local/lib/python3.10/dist-packages (from argon2-cffi-bindings->argon2-cffi->notebook>=4.4.1->widgetsnbextension~=3.6.0->ipywidgets>=7->nglview) (1.15.1)\n",
            "Requirement already satisfied: soupsieve>1.2 in /usr/local/lib/python3.10/dist-packages (from beautifulsoup4->nbconvert->notebook>=4.4.1->widgetsnbextension~=3.6.0->ipywidgets>=7->nglview) (2.4.1)\n",
            "Requirement already satisfied: webencodings in /usr/local/lib/python3.10/dist-packages (from bleach->nbconvert->notebook>=4.4.1->widgetsnbextension~=3.6.0->ipywidgets>=7->nglview) (0.5.1)\n",
            "Requirement already satisfied: pycparser in /usr/local/lib/python3.10/dist-packages (from cffi>=1.0.1->argon2-cffi-bindings->argon2-cffi->notebook>=4.4.1->widgetsnbextension~=3.6.0->ipywidgets>=7->nglview) (2.21)\n"
          ]
        }
      ]
    },
    {
      "cell_type": "code",
      "source": [
        "pip install biopython==1.77"
      ],
      "metadata": {
        "colab": {
          "base_uri": "https://localhost:8080/"
        },
        "id": "4NwNrUMwlvx3",
        "outputId": "083d88bf-319c-4b0f-f6f8-4c7c22ea1755"
      },
      "execution_count": 6,
      "outputs": [
        {
          "output_type": "stream",
          "name": "stdout",
          "text": [
            "Requirement already satisfied: biopython==1.77 in /usr/local/lib/python3.10/dist-packages (1.77)\n",
            "Requirement already satisfied: numpy in /usr/local/lib/python3.10/dist-packages (from biopython==1.77) (1.23.5)\n"
          ]
        }
      ]
    },
    {
      "cell_type": "code",
      "source": [
        "pip install Bio==1.77"
      ],
      "metadata": {
        "colab": {
          "base_uri": "https://localhost:8080/"
        },
        "id": "eaSXNxa9LYhs",
        "outputId": "0191b47c-91f0-4b10-9e5d-c914cdbd99f4"
      },
      "execution_count": 7,
      "outputs": [
        {
          "output_type": "stream",
          "name": "stdout",
          "text": [
            "\u001b[31mERROR: Could not find a version that satisfies the requirement Bio==1.77 (from versions: 1.0.2, 1.2.0, 1.3.2, 1.3.3, 1.3.4, 1.3.5, 1.3.6, 1.3.7, 1.3.8, 1.3.9, 1.4.0, 1.5.0, 1.5.1, 1.5.2, 1.5.3, 1.5.4, 1.5.5, 1.5.6, 1.5.7, 1.5.8, 1.5.9)\u001b[0m\u001b[31m\n",
            "\u001b[0m\u001b[31mERROR: No matching distribution found for Bio==1.77\u001b[0m\u001b[31m\n",
            "\u001b[0m"
          ]
        }
      ]
    },
    {
      "cell_type": "code",
      "source": [
        "!pip install https://github.com/volkamerlab/opencadd/archive/master.tar.gz"
      ],
      "metadata": {
        "colab": {
          "base_uri": "https://localhost:8080/"
        },
        "id": "9SKr8uQzNOOk",
        "outputId": "43163917-5eed-4fc8-e3b0-527236c9cc7f"
      },
      "execution_count": 8,
      "outputs": [
        {
          "output_type": "stream",
          "name": "stdout",
          "text": [
            "Collecting https://github.com/volkamerlab/opencadd/archive/master.tar.gz\n",
            "  Using cached https://github.com/volkamerlab/opencadd/archive/master.tar.gz\n",
            "  Preparing metadata (setup.py) ... \u001b[?25l\u001b[?25hdone\n"
          ]
        }
      ]
    },
    {
      "cell_type": "code",
      "execution_count": 9,
      "metadata": {
        "colab": {
          "base_uri": "https://localhost:8080/",
          "height": 17,
          "referenced_widgets": [
            "07cb09ced350422ba5c9c11360331e3e",
            "3d2d3c20fdff4631b060a5f2620f289a"
          ]
        },
        "id": "7X3c9weCLK74",
        "outputId": "5d8dfec1-0611-413b-e7d4-6cf1fce3fdea"
      },
      "outputs": [
        {
          "output_type": "display_data",
          "data": {
            "text/plain": [],
            "application/vnd.jupyter.widget-view+json": {
              "version_major": 2,
              "version_minor": 0,
              "model_id": "07cb09ced350422ba5c9c11360331e3e"
            }
          },
          "metadata": {
            "application/vnd.jupyter.widget-view+json": {
              "colab": {
                "custom_widget_manager": {
                  "url": "https://ssl.gstatic.com/colaboratory-static/widgets/colab-cdn-widget-manager/b3e629b1971e1542/manager.min.js"
                }
              }
            }
          }
        }
      ],
      "source": [
        "import collections\n",
        "import logging\n",
        "import pathlib\n",
        "import time\n",
        "import warnings\n",
        "import datetime\n",
        "\n",
        "import pandas as pd\n",
        "import matplotlib.pyplot as plt\n",
        "from bs4 import BeautifulSoup\n",
        "import requests\n",
        "from tqdm.auto import tqdm\n",
        "import redo\n",
        "import requests_cache\n",
        "import nglview\n",
        "import pypdb\n",
        "import biotite.database.rcsb as rcsb\n",
        "from rdkit.Chem import Draw\n",
        "from rdkit.Chem import PandasTools\n",
        "\n",
        "import opencadd\n",
        "\n",
        "# Disable some unneeded warnings\n",
        "logger = logging.getLogger(\"opencadd\")\n",
        "logger.setLevel(logging.ERROR)\n",
        "warnings.filterwarnings(\"ignore\")\n",
        "\n",
        "# Cache requests -- this will speed up repeated queries to PDB\n",
        "requests_cache.install_cache(\"rcsb_pdb\", backend=\"memory\")"
      ]
    },
    {
      "cell_type": "code",
      "source": [
        "uniprot_id = \"P00533\""
      ],
      "metadata": {
        "id": "iXDf_GL5NpKL"
      },
      "execution_count": 10,
      "outputs": []
    },
    {
      "cell_type": "code",
      "source": [
        "query_by_uniprot_id = rcsb.FieldQuery(\n",
        "    \"rcsb_polymer_entity_container_identifiers.reference_sequence_identifiers.database_accession\",\n",
        "    exact_match=uniprot_id,\n",
        ")\n",
        "today = datetime.datetime.now()\n",
        "print(\n",
        "    f\"Number of structures on {today.year}-{today.month}-{today.day}: {rcsb.count(query_by_uniprot_id)}\"\n",
        ")"
      ],
      "metadata": {
        "colab": {
          "base_uri": "https://localhost:8080/"
        },
        "id": "S9haGhuUNvR6",
        "outputId": "104b8f3d-3c7c-4ed6-ab43-f53c063cedf3"
      },
      "execution_count": 11,
      "outputs": [
        {
          "output_type": "stream",
          "name": "stdout",
          "text": [
            "Number of structures on 2023-8-13: 281\n"
          ]
        }
      ]
    },
    {
      "cell_type": "code",
      "source": [
        "# Define lists for years and number of structures available in a given year\n",
        "years = range(1971, datetime.datetime.now().year)\n",
        "n_structures = []\n",
        "\n",
        "for year in years:\n",
        "    # Set latest date for allowed deposition\n",
        "    before_deposition_date = f\"{year}-12-31T23:59:59Z\"\n",
        "    # Set up query for structures deposited latest at given date\n",
        "    query_by_deposition_date = rcsb.FieldQuery(\n",
        "        \"rcsb_accession_info.deposit_date\", less_or_equal=before_deposition_date\n",
        "    )\n",
        "    # Set up combined query\n",
        "    query = rcsb.CompositeQuery(\n",
        "        [query_by_uniprot_id, query_by_deposition_date],\n",
        "        \"and\",\n",
        "    )\n",
        "    # Count matching structures and add to list\n",
        "    n_structures.append(rcsb.count(query))\n",
        "    # wait shortly to not overload the API\n",
        "    time.sleep(0.1)"
      ],
      "metadata": {
        "id": "uXcBbDikN1Bi"
      },
      "execution_count": 12,
      "outputs": []
    },
    {
      "cell_type": "code",
      "source": [
        "plt.plot(years, n_structures)\n",
        "plt.title(\"PDB entries for EGFR\")\n",
        "plt.xlabel(\"Year\")\n",
        "plt.ylabel(\"Number of structures available in a given year\");"
      ],
      "metadata": {
        "colab": {
          "base_uri": "https://localhost:8080/",
          "height": 472
        },
        "id": "iQSTOfguN2vj",
        "outputId": "338b89cd-8260-426c-b658-9cfd107f1477"
      },
      "execution_count": 13,
      "outputs": [
        {
          "output_type": "display_data",
          "data": {
            "text/plain": [
              "<Figure size 640x480 with 1 Axes>"
            ],
            "image/png": "[encoded data removed]"
          },
          "metadata": {}
        }
      ]
    },
    {
      "cell_type": "code",
      "source": [
        "uniprot_id = \"P00533\"\n",
        "before_deposition_date = \"2020-01-01T00:00:00Z\"\n",
        "experimental_method = \"X-RAY DIFFRACTION\"\n",
        "max_resolution = 3.0\n",
        "n_chains = 1\n",
        "min_ligand_molecular_weight = 100.0"
      ],
      "metadata": {
        "id": "9_RusgcPOMPN"
      },
      "execution_count": 14,
      "outputs": []
    },
    {
      "cell_type": "code",
      "source": [
        "query_by_uniprot_id = rcsb.FieldQuery(\n",
        "    \"rcsb_polymer_entity_container_identifiers.reference_sequence_identifiers.database_accession\",\n",
        "    exact_match=uniprot_id,\n",
        ")\n",
        "query_by_deposition_date = rcsb.FieldQuery(\n",
        "    \"rcsb_accession_info.deposit_date\", less=before_deposition_date\n",
        ")\n",
        "query_by_experimental_method = rcsb.FieldQuery(\"exptl.method\", exact_match=experimental_method)\n",
        "query_by_resolution = rcsb.FieldQuery(\n",
        "    \"rcsb_entry_info.resolution_combined\", less_or_equal=max_resolution\n",
        ")\n",
        "query_by_polymer_count = rcsb.FieldQuery(\n",
        "    \"rcsb_entry_info.deposited_polymer_entity_instance_count\", equals=n_chains\n",
        ")\n",
        "query_by_ligand_mw = rcsb.FieldQuery(\n",
        "    \"chem_comp.formula_weight\", molecular_definition=True, greater=min_ligand_molecular_weight\n",
        ")"
      ],
      "metadata": {
        "id": "b633GaIuOO99"
      },
      "execution_count": 15,
      "outputs": []
    },
    {
      "cell_type": "code",
      "source": [
        "print(f\"Number of structures with UniProt ID {uniprot_id}: {rcsb.count(query_by_uniprot_id)}\")\n",
        "time.sleep(0.1)  # wait shortly to not overload the API\n",
        "print(\n",
        "    f\"Number of structures deposited before {before_deposition_date}: {rcsb.count(query_by_deposition_date)}\"\n",
        ")\n",
        "time.sleep(0.1)\n",
        "print(\n",
        "    f\"Number of structures resolved by {experimental_method}: {rcsb.count(query_by_experimental_method)}\"\n",
        ")\n",
        "time.sleep(0.1)\n",
        "print(\n",
        "    f\"Number of structures with resolution less than or equal to {max_resolution}: {rcsb.count(query_by_resolution)}\"\n",
        ")\n",
        "time.sleep(0.1)\n",
        "print(f\"Number of structures with only {n_chains} chain: {rcsb.count(query_by_polymer_count)}\")\n",
        "time.sleep(0.1)\n",
        "print(\n",
        "    f\"Number of structures with ligand of more than or equal to {min_ligand_molecular_weight} Da: {rcsb.count(query_by_ligand_mw)}\"\n",
        ")"
      ],
      "metadata": {
        "colab": {
          "base_uri": "https://localhost:8080/"
        },
        "id": "2K4-nNVQORcy",
        "outputId": "8befcca8-c5e3-4df3-faaa-3dfed4804b47"
      },
      "execution_count": 16,
      "outputs": [
        {
          "output_type": "stream",
          "name": "stdout",
          "text": [
            "Number of structures with UniProt ID P00533: 281\n",
            "Number of structures deposited before 2020-01-01T00:00:00Z: 166261\n",
            "Number of structures resolved by X-RAY DIFFRACTION: 177521\n",
            "Number of structures with resolution less than or equal to 3.0: 170190\n",
            "Number of structures with only 1 chain: 75451\n",
            "Number of structures with ligand of more than or equal to 100.0 Da: 208346\n"
          ]
        }
      ]
    },
    {
      "cell_type": "code",
      "source": [
        "query = rcsb.CompositeQuery(\n",
        "    [\n",
        "        query_by_uniprot_id,\n",
        "        query_by_deposition_date,\n",
        "        query_by_experimental_method,\n",
        "        query_by_resolution,\n",
        "        query_by_polymer_count,\n",
        "        query_by_ligand_mw,\n",
        "    ],\n",
        "    \"and\",\n",
        ")\n",
        "pdb_ids = rcsb.search(query)\n",
        "print(f\"Number of matches: {len(pdb_ids)}\")\n",
        "print(\"Selected PDB IDs:\")\n",
        "print(*pdb_ids)"
      ],
      "metadata": {
        "colab": {
          "base_uri": "https://localhost:8080/"
        },
        "id": "f71aL1ZMOVbx",
        "outputId": "77eccde9-9d00-47ba-8e2c-b25940cd8d5f"
      },
      "execution_count": 17,
      "outputs": [
        {
          "output_type": "stream",
          "name": "stdout",
          "text": [
            "Number of matches: 110\n",
            "Selected PDB IDs:\n",
            "1M14 1M17 1XKK 2EB2 2EB3 2GS2 2ITN 2ITP 2ITQ 2ITT 2ITU 2ITV 2ITW 2ITX 2ITZ 2J5F 2RGP 3BEL 3GOP 3POZ 3UG1 3UG2 3VJN 3VJO 3W2O 3W2P 3W2Q 3W2R 3W2S 3W32 3W33 4G5J 4HJO 4I1Z 4I22 4I23 4JQ7 4JQ8 4JR3 4JRV 4LI5 4LQM 4RJ4 4RJ6 4RJ7 4RJ8 4WKQ 4WRG 4ZAU 5C8K 5C8M 5C8N 5CAL 5CAN 5CAO 5CAP 5CAQ 5CAS 5CAU 5CAV 5EDP 5EDQ 5EDR 5EM5 5EM6 5EM7 5EM8 5FED 5FEE 5GMP 5GNK 5GTZ 5HCX 5HCY 5HCZ 5HG5 5HG7 5HG8 5HG9 5HIB 5HIC 5J9Y 5J9Z 5U8L 5UG8 5UG9 5UGA 5UGB 5UGC 5X26 5X27 5X28 5XDK 5XDL 5XGM 5ZTO 5ZWJ 6D8E 6JRJ 6JRK 6JRX 6JWL 6JX0 6JX4 6JXT 6JZ0 6S89 6S8A 6S9C 6S9D\n"
          ]
        }
      ]
    },
    {
      "cell_type": "code",
      "source": [
        "@redo.retriable(attempts=10, sleeptime=2)\n",
        "def describe_one_pdb_id(pdb_id):\n",
        "    \"\"\"Fetch meta information from PDB.\"\"\"\n",
        "    described = pypdb.describe_pdb(pdb_id)\n",
        "    if described is None:\n",
        "        print(f\"! Error while fetching {pdb_id}, retrying ...\")\n",
        "        raise ValueError(f\"Could not fetch PDB id {pdb_id}\")\n",
        "    return described"
      ],
      "metadata": {
        "id": "66fFqCYSOaQu"
      },
      "execution_count": 18,
      "outputs": []
    },
    {
      "cell_type": "code",
      "source": [
        "pdbs_data = [describe_one_pdb_id(pdb_id) for pdb_id in tqdm(pdb_ids)]"
      ],
      "metadata": {
        "colab": {
          "base_uri": "https://localhost:8080/",
          "height": 49,
          "referenced_widgets": [
            "d9d0bb310e9b4be594e69bbdab25d01d",
            "3af945774a224bb7aeb77f351be0848d",
            "2421cb03b3e1422880598d3563675910",
            "7535d3d910b549efafdb2ca0eddab508",
            "6bae74dfc08f415c935d8c4efa3f7efb",
            "74985a10f1114c9aa8f51d9e19f1279b",
            "36f1956ce61743e1abfd67571f6de8f1",
            "b74582143f4449c19c3741a54b5de83e",
            "1d0bdcbce3274e39836ce5fcbcc57a09",
            "f8bc434b626c4de1a00b54c76fcdbe0c",
            "1f39ba692b834be38d3c0bc59929901f"
          ]
        },
        "id": "8pQeRMecOcwg",
        "outputId": "4c446019-0a73-4085-91f1-ff5906a514b0"
      },
      "execution_count": 19,
      "outputs": [
        {
          "output_type": "display_data",
          "data": {
            "text/plain": [
              "  0%|          | 0/110 [00:00<?, ?it/s]"
            ],
            "application/vnd.jupyter.widget-view+json": {
              "version_major": 2,
              "version_minor": 0,
              "model_id": "d9d0bb310e9b4be594e69bbdab25d01d"
            }
          },
          "metadata": {
            "application/vnd.jupyter.widget-view+json": {
              "colab": {
                "custom_widget_manager": {
                  "url": "https://ssl.gstatic.com/colaboratory-static/widgets/colab-cdn-widget-manager/b3e629b1971e1542/manager.min.js"
                }
              }
            }
          }
        }
      ]
    },
    {
      "cell_type": "code",
      "source": [
        "print(\"\\n\".join(pdbs_data[0].keys()))"
      ],
      "metadata": {
        "colab": {
          "base_uri": "https://localhost:8080/"
        },
        "id": "YAQBWx5HOtrx",
        "outputId": "2b172b7d-1149-4ad7-d098-b58d14d7d27f"
      },
      "execution_count": 20,
      "outputs": [
        {
          "output_type": "stream",
          "name": "stdout",
          "text": [
            "audit_author\n",
            "cell\n",
            "citation\n",
            "diffrn\n",
            "diffrn_detector\n",
            "diffrn_radiation\n",
            "diffrn_source\n",
            "entry\n",
            "exptl\n",
            "exptl_crystal\n",
            "exptl_crystal_grow\n",
            "pdbx_audit_revision_details\n",
            "pdbx_audit_revision_group\n",
            "pdbx_audit_revision_history\n",
            "pdbx_database_related\n",
            "pdbx_database_status\n",
            "rcsb_accession_info\n",
            "rcsb_entry_container_identifiers\n",
            "rcsb_entry_info\n",
            "rcsb_primary_citation\n",
            "refine\n",
            "refine_analyze\n",
            "refine_hist\n",
            "refine_ls_restr\n",
            "reflns\n",
            "reflns_shell\n",
            "software\n",
            "struct\n",
            "struct_keywords\n",
            "symmetry\n",
            "rcsb_id\n"
          ]
        }
      ]
    },
    {
      "cell_type": "code",
      "source": [
        "pdbs_data[0][\"entry\"]"
      ],
      "metadata": {
        "colab": {
          "base_uri": "https://localhost:8080/"
        },
        "id": "mt-xrtpjOywl",
        "outputId": "313cf279-ce57-479a-9be2-590e679af5ee"
      },
      "execution_count": 21,
      "outputs": [
        {
          "output_type": "execute_result",
          "data": {
            "text/plain": [
              "{'id': '1M14'}"
            ]
          },
          "metadata": {},
          "execution_count": 21
        }
      ]
    },
    {
      "cell_type": "code",
      "source": [
        "pdbs_data[0][\"rcsb_entry_info\"]"
      ],
      "metadata": {
        "colab": {
          "base_uri": "https://localhost:8080/"
        },
        "id": "UsRnUR4RO0pq",
        "outputId": "6c163b30-961a-4d8b-b731-5b7567a38757"
      },
      "execution_count": 76,
      "outputs": [
        {
          "output_type": "execute_result",
          "data": {
            "text/plain": [
              "{'assembly_count': 1,\n",
              " 'branched_entity_count': 0,\n",
              " 'cis_peptide_count': 0,\n",
              " 'deposited_atom_count': 2469,\n",
              " 'deposited_hydrogen_atom_count': 0,\n",
              " 'deposited_model_count': 1,\n",
              " 'deposited_modeled_polymer_monomer_count': 307,\n",
              " 'deposited_nonpolymer_entity_instance_count': 0,\n",
              " 'deposited_polymer_entity_instance_count': 1,\n",
              " 'deposited_polymer_monomer_count': 333,\n",
              " 'deposited_solvent_atom_count': 17,\n",
              " 'deposited_unmodeled_polymer_monomer_count': 26,\n",
              " 'diffrn_radiation_wavelength_maximum': 1.008,\n",
              " 'diffrn_radiation_wavelength_minimum': 1.008,\n",
              " 'disulfide_bond_count': 0,\n",
              " 'entity_count': 2,\n",
              " 'experimental_method': 'X-ray',\n",
              " 'experimental_method_count': 1,\n",
              " 'inter_mol_covalent_bond_count': 0,\n",
              " 'inter_mol_metalic_bond_count': 0,\n",
              " 'molecular_weight': 37.88,\n",
              " 'na_polymer_entity_types': 'Other',\n",
              " 'nonpolymer_entity_count': 0,\n",
              " 'polymer_composition': 'homomeric protein',\n",
              " 'polymer_entity_count': 1,\n",
              " 'polymer_entity_count_dna': 0,\n",
              " 'polymer_entity_count_rna': 0,\n",
              " 'polymer_entity_count_nucleic_acid': 0,\n",
              " 'polymer_entity_count_nucleic_acid_hybrid': 0,\n",
              " 'polymer_entity_count_protein': 1,\n",
              " 'polymer_entity_taxonomy_count': 1,\n",
              " 'polymer_molecular_weight_maximum': 37.88,\n",
              " 'polymer_molecular_weight_minimum': 37.88,\n",
              " 'polymer_monomer_count_maximum': 333,\n",
              " 'polymer_monomer_count_minimum': 333,\n",
              " 'resolution_combined': [2.6],\n",
              " 'selected_polymer_entity_types': 'Protein (only)',\n",
              " 'software_programs_combined': ['AMORE',\n",
              "  'CCP4',\n",
              "  'HKL-2000',\n",
              "  'TRUNCATE',\n",
              "  'X-PLOR'],\n",
              " 'solvent_entity_count': 1,\n",
              " 'structure_determination_methodology': 'experimental',\n",
              " 'structure_determination_methodology_priority': 10,\n",
              " 'diffrn_resolution_high': {'provenance_source': 'Depositor assigned',\n",
              "  'value': 2.6}}"
            ]
          },
          "metadata": {},
          "execution_count": 76
        }
      ]
    },
    {
      "cell_type": "code",
      "source": [
        "resolution = pd.DataFrame(\n",
        "    [\n",
        "        [pdb_data[\"entry\"][\"id\"], pdb_data[\"rcsb_entry_info\"][\"resolution_combined\"][0]]\n",
        "        for pdb_data in pdbs_data\n",
        "    ],\n",
        "    columns=[\"pdb_id\", \"resolution\"],\n",
        ").sort_values(by=\"resolution\", ignore_index=True)\n",
        "resolution"
      ],
      "metadata": {
        "colab": {
          "base_uri": "https://localhost:8080/",
          "height": 424
        },
        "id": "TNg2qePoO4aq",
        "outputId": "a2f200e0-d055-44c5-d884-f14c2a1e0ca3"
      },
      "execution_count": 77,
      "outputs": [
        {
          "output_type": "execute_result",
          "data": {
            "text/plain": [
              "    pdb_id  resolution\n",
              "0     5UG9       1.330\n",
              "1     5HG8       1.420\n",
              "2     5UG8       1.460\n",
              "3     3POZ       1.500\n",
              "4     5HG5       1.520\n",
              "..     ...         ...\n",
              "105   2ITX       2.980\n",
              "106   5GTZ       2.999\n",
              "107   2J5F       3.000\n",
              "108   4I1Z       3.000\n",
              "109   5C8K       3.000\n",
              "\n",
              "[110 rows x 2 columns]"
            ],
            "text/html": [
              "\n",
              "\n",
              "  <div id=\"df-4137a790-87d5-4f66-a889-f2df76f161b4\">\n",
              "    <div class=\"colab-df-container\">\n",
              "      <div>\n",
              "<style scoped>\n",
              "    .dataframe tbody tr th:only-of-type {\n",
              "        vertical-align: middle;\n",
              "    }\n",
              "\n",
              "    .dataframe tbody tr th {\n",
              "        vertical-align: top;\n",
              "    }\n",
              "\n",
              "    .dataframe thead th {\n",
              "        text-align: right;\n",
              "    }\n",
              "</style>\n",
              "<table border=\"1\" class=\"dataframe\">\n",
              "  <thead>\n",
              "    <tr style=\"text-align: right;\">\n",
              "      <th></th>\n",
              "      <th>pdb_id</th>\n",
              "      <th>resolution</th>\n",
              "    </tr>\n",
              "  </thead>\n",
              "  <tbody>\n",
              "    <tr>\n",
              "      <th>0</th>\n",
              "      <td>5UG9</td>\n",
              "      <td>1.330</td>\n",
              "    </tr>\n",
              "    <tr>\n",
              "      <th>1</th>\n",
              "      <td>5HG8</td>\n",
              "      <td>1.420</td>\n",
              "    </tr>\n",
              "    <tr>\n",
              "      <th>2</th>\n",
              "      <td>5UG8</td>\n",
              "      <td>1.460</td>\n",
              "    </tr>\n",
              "    <tr>\n",
              "      <th>3</th>\n",
              "      <td>3POZ</td>\n",
              "      <td>1.500</td>\n",
              "    </tr>\n",
              "    <tr>\n",
              "      <th>4</th>\n",
              "      <td>5HG5</td>\n",
              "      <td>1.520</td>\n",
              "    </tr>\n",
              "    <tr>\n",
              "      <th>...</th>\n",
              "      <td>...</td>\n",
              "      <td>...</td>\n",
              "    </tr>\n",
              "    <tr>\n",
              "      <th>105</th>\n",
              "      <td>2ITX</td>\n",
              "      <td>2.980</td>\n",
              "    </tr>\n",
              "    <tr>\n",
              "      <th>106</th>\n",
              "      <td>5GTZ</td>\n",
              "      <td>2.999</td>\n",
              "    </tr>\n",
              "    <tr>\n",
              "      <th>107</th>\n",
              "      <td>2J5F</td>\n",
              "      <td>3.000</td>\n",
              "    </tr>\n",
              "    <tr>\n",
              "      <th>108</th>\n",
              "      <td>4I1Z</td>\n",
              "      <td>3.000</td>\n",
              "    </tr>\n",
              "    <tr>\n",
              "      <th>109</th>\n",
              "      <td>5C8K</td>\n",
              "      <td>3.000</td>\n",
              "    </tr>\n",
              "  </tbody>\n",
              "</table>\n",
              "<p>110 rows × 2 columns</p>\n",
              "</div>\n",
              "      <button class=\"colab-df-convert\" onclick=\"convertToInteractive('df-4137a790-87d5-4f66-a889-f2df76f161b4')\"\n",
              "              title=\"Convert this dataframe to an interactive table.\"\n",
              "              style=\"display:none;\">\n",
              "\n",
              "  <svg xmlns=\"http://www.w3.org/2000/svg\" height=\"24px\"viewBox=\"0 0 24 24\"\n",
              "       width=\"24px\">\n",
              "    <path d=\"M0 0h24v24H0V0z\" fill=\"none\"/>\n",
              "    <path d=\"M18.56 5.44l.94 2.06.94-2.06 2.06-.94-2.06-.94-.94-2.06-.94 2.06-2.06.94zm-11 1L8.5 8.5l.94-2.06 2.06-.94-2.06-.94L8.5 2.5l-.94 2.06-2.06.94zm10 10l.94 2.06.94-2.06 2.06-.94-2.06-.94-.94-2.06-.94 2.06-2.06.94z\"/><path d=\"M17.41 7.96l-1.37-1.37c-.4-.4-.92-.59-1.43-.59-.52 0-1.04.2-1.43.59L10.3 9.45l-7.72 7.72c-.78.78-.78 2.05 0 2.83L4 21.41c.39.39.9.59 1.41.59.51 0 1.02-.2 1.41-.59l7.78-7.78 2.81-2.81c.8-.78.8-2.07 0-2.86zM5.41 20L4 18.59l7.72-7.72 1.47 1.35L5.41 20z\"/>\n",
              "  </svg>\n",
              "      </button>\n",
              "\n",
              "\n",
              "\n",
              "    <div id=\"df-3d27fec2-e11e-48f5-97e1-0e41d0b6a6d7\">\n",
              "      <button class=\"colab-df-quickchart\" onclick=\"quickchart('df-3d27fec2-e11e-48f5-97e1-0e41d0b6a6d7')\"\n",
              "              title=\"Suggest charts.\"\n",
              "              style=\"display:none;\">\n",
              "\n",
              "<svg xmlns=\"http://www.w3.org/2000/svg\" height=\"24px\"viewBox=\"0 0 24 24\"\n",
              "     width=\"24px\">\n",
              "    <g>\n",
              "        <path d=\"M19 3H5c-1.1 0-2 .9-2 2v14c0 1.1.9 2 2 2h14c1.1 0 2-.9 2-2V5c0-1.1-.9-2-2-2zM9 17H7v-7h2v7zm4 0h-2V7h2v10zm4 0h-2v-4h2v4z\"/>\n",
              "    </g>\n",
              "</svg>\n",
              "      </button>\n",
              "    </div>\n",
              "\n",
              "<style>\n",
              "  .colab-df-quickchart {\n",
              "    background-color: #E8F0FE;\n",
              "    border: none;\n",
              "    border-radius: 50%;\n",
              "    cursor: pointer;\n",
              "    display: none;\n",
              "    fill: #1967D2;\n",
              "    height: 32px;\n",
              "    padding: 0 0 0 0;\n",
              "    width: 32px;\n",
              "  }\n",
              "\n",
              "  .colab-df-quickchart:hover {\n",
              "    background-color: #E2EBFA;\n",
              "    box-shadow: 0px 1px 2px rgba(60, 64, 67, 0.3), 0px 1px 3px 1px rgba(60, 64, 67, 0.15);\n",
              "    fill: #174EA6;\n",
              "  }\n",
              "\n",
              "  [theme=dark] .colab-df-quickchart {\n",
              "    background-color: #3B4455;\n",
              "    fill: #D2E3FC;\n",
              "  }\n",
              "\n",
              "  [theme=dark] .colab-df-quickchart:hover {\n",
              "    background-color: #434B5C;\n",
              "    box-shadow: 0px 1px 3px 1px rgba(0, 0, 0, 0.15);\n",
              "    filter: drop-shadow(0px 1px 2px rgba(0, 0, 0, 0.3));\n",
              "    fill: #FFFFFF;\n",
              "  }\n",
              "</style>\n",
              "\n",
              "    <script>\n",
              "      async function quickchart(key) {\n",
              "        const containerElement = document.querySelector('#' + key);\n",
              "        const charts = await google.colab.kernel.invokeFunction(\n",
              "            'suggestCharts', [key], {});\n",
              "      }\n",
              "    </script>\n",
              "\n",
              "      <script>\n",
              "\n",
              "function displayQuickchartButton(domScope) {\n",
              "  let quickchartButtonEl =\n",
              "    domScope.querySelector('#df-3d27fec2-e11e-48f5-97e1-0e41d0b6a6d7 button.colab-df-quickchart');\n",
              "  quickchartButtonEl.style.display =\n",
              "    google.colab.kernel.accessAllowed ? 'block' : 'none';\n",
              "}\n",
              "\n",
              "        displayQuickchartButton(document);\n",
              "      </script>\n",
              "      <style>\n",
              "    .colab-df-container {\n",
              "      display:flex;\n",
              "      flex-wrap:wrap;\n",
              "      gap: 12px;\n",
              "    }\n",
              "\n",
              "    .colab-df-convert {\n",
              "      background-color: #E8F0FE;\n",
              "      border: none;\n",
              "      border-radius: 50%;\n",
              "      cursor: pointer;\n",
              "      display: none;\n",
              "      fill: #1967D2;\n",
              "      height: 32px;\n",
              "      padding: 0 0 0 0;\n",
              "      width: 32px;\n",
              "    }\n",
              "\n",
              "    .colab-df-convert:hover {\n",
              "      background-color: #E2EBFA;\n",
              "      box-shadow: 0px 1px 2px rgba(60, 64, 67, 0.3), 0px 1px 3px 1px rgba(60, 64, 67, 0.15);\n",
              "      fill: #174EA6;\n",
              "    }\n",
              "\n",
              "    [theme=dark] .colab-df-convert {\n",
              "      background-color: #3B4455;\n",
              "      fill: #D2E3FC;\n",
              "    }\n",
              "\n",
              "    [theme=dark] .colab-df-convert:hover {\n",
              "      background-color: #434B5C;\n",
              "      box-shadow: 0px 1px 3px 1px rgba(0, 0, 0, 0.15);\n",
              "      filter: drop-shadow(0px 1px 2px rgba(0, 0, 0, 0.3));\n",
              "      fill: #FFFFFF;\n",
              "    }\n",
              "  </style>\n",
              "\n",
              "      <script>\n",
              "        const buttonEl =\n",
              "          document.querySelector('#df-4137a790-87d5-4f66-a889-f2df76f161b4 button.colab-df-convert');\n",
              "        buttonEl.style.display =\n",
              "          google.colab.kernel.accessAllowed ? 'block' : 'none';\n",
              "\n",
              "        async function convertToInteractive(key) {\n",
              "          const element = document.querySelector('#df-4137a790-87d5-4f66-a889-f2df76f161b4');\n",
              "          const dataTable =\n",
              "            await google.colab.kernel.invokeFunction('convertToInteractive',\n",
              "                                                     [key], {});\n",
              "          if (!dataTable) return;\n",
              "\n",
              "          const docLinkHtml = 'Like what you see? Visit the ' +\n",
              "            '<a target=\"_blank\" href=https://colab.research.google.com/notebooks/data_table.ipynb>data table notebook</a>'\n",
              "            + ' to learn more about interactive tables.';\n",
              "          element.innerHTML = '';\n",
              "          dataTable['output_type'] = 'display_data';\n",
              "          await google.colab.output.renderOutput(dataTable, element);\n",
              "          const docLink = document.createElement('div');\n",
              "          docLink.innerHTML = docLinkHtml;\n",
              "          element.appendChild(docLink);\n",
              "        }\n",
              "      </script>\n",
              "    </div>\n",
              "  </div>\n"
            ]
          },
          "metadata": {},
          "execution_count": 77
        }
      ]
    },
    {
      "cell_type": "code",
      "source": [
        "top_num = 6  # Number of top structures"
      ],
      "metadata": {
        "id": "nd2I9_7MO9F7"
      },
      "execution_count": 78,
      "outputs": []
    },
    {
      "cell_type": "code",
      "source": [
        "selected_pdb_ids = resolution[:top_num][\"pdb_id\"].to_list()\n",
        "print(f\"Selected PDB IDs: {selected_pdb_ids}\")"
      ],
      "metadata": {
        "colab": {
          "base_uri": "https://localhost:8080/"
        },
        "id": "1aOLG3wpO__K",
        "outputId": "0e6f86f4-35d9-4f08-daae-175d40b5bb80"
      },
      "execution_count": 79,
      "outputs": [
        {
          "output_type": "stream",
          "name": "stdout",
          "text": [
            "Selected PDB IDs: ['5UG9', '5HG8', '5UG8', '3POZ', '5HG5', '5UGC']\n"
          ]
        }
      ]
    },
    {
      "cell_type": "code",
      "source": [
        "selected_pdb_ids = [\"5UG9\", \"5HG8\", \"5UG8\", \"5UGC\"]\n",
        "print(f\"Selected PDB IDs (frozen set): {selected_pdb_ids}\")"
      ],
      "metadata": {
        "colab": {
          "base_uri": "https://localhost:8080/"
        },
        "id": "Gt5C0Pu6PG8o",
        "outputId": "9dc4af42-50fb-4623-c057-7778952822cf"
      },
      "execution_count": 80,
      "outputs": [
        {
          "output_type": "stream",
          "name": "stdout",
          "text": [
            "Selected PDB IDs (frozen set): ['5UG9', '5HG8', '5UG8', '5UGC']\n"
          ]
        }
      ]
    },
    {
      "cell_type": "code",
      "source": [
        "def get_ligands(pdb_id):\n",
        "    \"\"\"\n",
        "    RCSB has not provided a new endpoint for ligand information yet. As a\n",
        "    workaround we are obtaining extra information from ligand-expo.rcsb.org,\n",
        "    using HTML parsing. Check Talktorial T011 for more info on this technique!\n",
        "    \"\"\"\n",
        "    pdb_info = _fetch_pdb_nonpolymer_info(pdb_id)\n",
        "    ligand_expo_ids = [\n",
        "        nonpolymer_entities[\"pdbx_entity_nonpoly\"][\"comp_id\"]\n",
        "        for nonpolymer_entities in pdb_info[\"data\"][\"entry\"][\"nonpolymer_entities\"]\n",
        "    ]\n",
        "\n",
        "    ligands = {}\n",
        "    for ligand_expo_id in ligand_expo_ids:\n",
        "        ligand_expo_info = _fetch_ligand_expo_info(ligand_expo_id)\n",
        "        ligands[ligand_expo_id] = ligand_expo_info\n",
        "\n",
        "    return ligands\n",
        "\n",
        "\n",
        "def _fetch_pdb_nonpolymer_info(pdb_id):\n",
        "    \"\"\"\n",
        "    Fetch nonpolymer data from rcsb.org.\n",
        "    Thanks @BJWiley233 and Rachel Green for this GraphQL solution.\n",
        "    \"\"\"\n",
        "    query = (\n",
        "        \"\"\"{\n",
        "          entry(entry_id: \"%s\") {\n",
        "            nonpolymer_entities {\n",
        "              pdbx_entity_nonpoly {\n",
        "                comp_id\n",
        "                name\n",
        "                rcsb_prd_id\n",
        "              }\n",
        "            }\n",
        "          }\n",
        "        }\"\"\"\n",
        "        % pdb_id\n",
        "    )\n",
        "\n",
        "    query_url = f\"https://data.rcsb.org/graphql?query={query}\"\n",
        "    response = requests.get(query_url)\n",
        "    response.raise_for_status()\n",
        "    info = response.json()\n",
        "    return info\n",
        "\n",
        "\n",
        "def _fetch_ligand_expo_info(ligand_expo_id):\n",
        "    \"\"\"\n",
        "    Fetch ligand data from ligand-expo.rcsb.org.\n",
        "    \"\"\"\n",
        "    r = requests.get(f\"http://ligand-expo.rcsb.org/reports/{ligand_expo_id[0]}/{ligand_expo_id}/\")\n",
        "    r.raise_for_status()\n",
        "    html = BeautifulSoup(r.text)\n",
        "    info = {}\n",
        "    for table in html.find_all(\"table\"):\n",
        "        for row in table.find_all(\"tr\"):\n",
        "            cells = row.find_all(\"td\")\n",
        "            if len(cells) != 2:\n",
        "                continue\n",
        "            key, value = cells\n",
        "            if key.string and key.string.strip():\n",
        "                info[key.string.strip()] = \"\".join(value.find_all(string=True))\n",
        "\n",
        "    # Postprocess some known values\n",
        "    info[\"Molecular weight\"] = float(info[\"Molecular weight\"].split()[0])\n",
        "    info[\"Formal charge\"] = int(info[\"Formal charge\"])\n",
        "    info[\"Atom count\"] = int(info[\"Atom count\"])\n",
        "    info[\"Chiral atom count\"] = int(info[\"Chiral atom count\"])\n",
        "    info[\"Bond count\"] = int(info[\"Bond count\"])\n",
        "    info[\"Aromatic bond count\"] = int(info[\"Aromatic bond count\"])\n",
        "    return info"
      ],
      "metadata": {
        "id": "X092AMmJPNiH"
      },
      "execution_count": 81,
      "outputs": []
    },
    {
      "cell_type": "code",
      "source": [
        "columns = [\n",
        "    \"@structureId\",\n",
        "    \"@chemicalID\",\n",
        "    \"@type\",\n",
        "    \"@molecularWeight\",\n",
        "    \"chemicalName\",\n",
        "    \"formula\",\n",
        "    \"InChI\",\n",
        "    \"InChIKey\",\n",
        "    \"smiles\",\n",
        "]\n",
        "rows = []\n",
        "for pdb_id in selected_pdb_ids:\n",
        "    ligands = get_ligands(pdb_id)\n",
        "    # If several ligands contained, take largest (first in results)\n",
        "    ligand_id, properties = max(ligands.items(), key=lambda kv: kv[1][\"Molecular weight\"])\n",
        "    rows.append(\n",
        "        [\n",
        "            pdb_id,\n",
        "            ligand_id,\n",
        "            properties[\"Component type\"],\n",
        "            properties[\"Molecular weight\"],\n",
        "            properties[\"Name\"],\n",
        "            properties[\"Formula\"],\n",
        "            properties[\"InChI descriptor\"],\n",
        "            properties[\"InChIKey descriptor\"],\n",
        "            properties[\"Stereo SMILES (OpenEye)\"],\n",
        "        ]\n",
        "    )"
      ],
      "metadata": {
        "id": "UaiNgd6FPP35"
      },
      "execution_count": 82,
      "outputs": []
    },
    {
      "cell_type": "code",
      "source": [
        "# NBVAL_CHECK_OUTPUT\n",
        "# Change the format to DataFrame\n",
        "ligands = pd.DataFrame(rows, columns=columns)\n",
        "ligands"
      ],
      "metadata": {
        "colab": {
          "base_uri": "https://localhost:8080/",
          "height": 517
        },
        "id": "URP73kZrPTpB",
        "outputId": "a8882f03-1645-459d-97ce-3749662b05d0"
      },
      "execution_count": 83,
      "outputs": [
        {
          "output_type": "execute_result",
          "data": {
            "text/plain": [
              "  @structureId @chemicalID        @type  @molecularWeight  \\\n",
              "0         5UG9         8AM  NON-POLYMER           445.494   \n",
              "1         5HG8         634  NON-POLYMER           377.400   \n",
              "2         5UG8         8BP  NON-POLYMER           415.468   \n",
              "3         5UGC         8BS  NON-POLYMER           417.441   \n",
              "\n",
              "                                        chemicalName          formula  \\\n",
              "0  N-[(3R,4R)-4-fluoro-1-{6-[(3-methoxy-1-methyl-...  C20 H28 F N9 O2   \n",
              "1  N-[3-({2-[(1-methyl-1H-pyrazol-4-yl)amino]-7H-...    C19 H19 N7 O2   \n",
              "2  N-[(3R,4R)-4-fluoro-1-{6-[(1-methyl-1H-pyrazol...   C19 H26 F N9 O   \n",
              "3  N-[(3R,4R)-4-fluoro-1-{6-[(3-methoxy-1-methyl-...  C18 H24 F N9 O2   \n",
              "\n",
              "                                               InChI  \\\n",
              "0  InChI=1S/C20H28FN9O2/c1-6-15(31)23-13-9-29(7-1...   \n",
              "1  InChI=1S/C19H19N7O2/c1-3-16(27)22-12-5-4-6-14(...   \n",
              "2  InChI=1S/C19H26FN9O/c1-5-15(30)24-14-9-28(8-13...   \n",
              "3  InChI=1S/C18H24FN9O2/c1-5-13(29)21-11-8-28(6-1...   \n",
              "\n",
              "                      InChIKey  \\\n",
              "0  MJLFLAORJNTNDV-CHWSQXEVSA-N   \n",
              "1  YWNHZBNRKJYHTR-UHFFFAOYSA-N   \n",
              "2  CGULPICMFDDQRH-ZIAGYGMSSA-N   \n",
              "3  XWNKXCUQRQRAFF-GHMZBOCLSA-N   \n",
              "\n",
              "                                              smiles  \n",
              "0  CCC(=O)N[C@@H]1CN(C[C@H]1F)c2nc(c3c(n2)n(cn3)C...  \n",
              "1   CCC(=O)Nc1cccc(c1)Oc2c3cc[nH]c3nc(n2)Nc4cnn(c4)C  \n",
              "2  CCC(=O)N[C@@H]1CN(C[C@H]1F)c2nc(c3c(n2)n(cn3)C...  \n",
              "3  CCC(=O)N[C@@H]1CN(C[C@H]1F)c2nc(c3c(n2)n(cn3)C...  "
            ],
            "text/html": [
              "\n",
              "\n",
              "  <div id=\"df-e7c01a5e-0a36-4c0a-a706-236ed5bf3229\">\n",
              "    <div class=\"colab-df-container\">\n",
              "      <div>\n",
              "<style scoped>\n",
              "    .dataframe tbody tr th:only-of-type {\n",
              "        vertical-align: middle;\n",
              "    }\n",
              "\n",
              "    .dataframe tbody tr th {\n",
              "        vertical-align: top;\n",
              "    }\n",
              "\n",
              "    .dataframe thead th {\n",
              "        text-align: right;\n",
              "    }\n",
              "</style>\n",
              "<table border=\"1\" class=\"dataframe\">\n",
              "  <thead>\n",
              "    <tr style=\"text-align: right;\">\n",
              "      <th></th>\n",
              "      <th>@structureId</th>\n",
              "      <th>@chemicalID</th>\n",
              "      <th>@type</th>\n",
              "      <th>@molecularWeight</th>\n",
              "      <th>chemicalName</th>\n",
              "      <th>formula</th>\n",
              "      <th>InChI</th>\n",
              "      <th>InChIKey</th>\n",
              "      <th>smiles</th>\n",
              "    </tr>\n",
              "  </thead>\n",
              "  <tbody>\n",
              "    <tr>\n",
              "      <th>0</th>\n",
              "      <td>5UG9</td>\n",
              "      <td>8AM</td>\n",
              "      <td>NON-POLYMER</td>\n",
              "      <td>445.494</td>\n",
              "      <td>N-[(3R,4R)-4-fluoro-1-{6-[(3-methoxy-1-methyl-...</td>\n",
              "      <td>C20 H28 F N9 O2</td>\n",
              "      <td>InChI=1S/C20H28FN9O2/c1-6-15(31)23-13-9-29(7-1...</td>\n",
              "      <td>MJLFLAORJNTNDV-CHWSQXEVSA-N</td>\n",
              "      <td>CCC(=O)N[C@@H]1CN(C[C@H]1F)c2nc(c3c(n2)n(cn3)C...</td>\n",
              "    </tr>\n",
              "    <tr>\n",
              "      <th>1</th>\n",
              "      <td>5HG8</td>\n",
              "      <td>634</td>\n",
              "      <td>NON-POLYMER</td>\n",
              "      <td>377.400</td>\n",
              "      <td>N-[3-({2-[(1-methyl-1H-pyrazol-4-yl)amino]-7H-...</td>\n",
              "      <td>C19 H19 N7 O2</td>\n",
              "      <td>InChI=1S/C19H19N7O2/c1-3-16(27)22-12-5-4-6-14(...</td>\n",
              "      <td>YWNHZBNRKJYHTR-UHFFFAOYSA-N</td>\n",
              "      <td>CCC(=O)Nc1cccc(c1)Oc2c3cc[nH]c3nc(n2)Nc4cnn(c4)C</td>\n",
              "    </tr>\n",
              "    <tr>\n",
              "      <th>2</th>\n",
              "      <td>5UG8</td>\n",
              "      <td>8BP</td>\n",
              "      <td>NON-POLYMER</td>\n",
              "      <td>415.468</td>\n",
              "      <td>N-[(3R,4R)-4-fluoro-1-{6-[(1-methyl-1H-pyrazol...</td>\n",
              "      <td>C19 H26 F N9 O</td>\n",
              "      <td>InChI=1S/C19H26FN9O/c1-5-15(30)24-14-9-28(8-13...</td>\n",
              "      <td>CGULPICMFDDQRH-ZIAGYGMSSA-N</td>\n",
              "      <td>CCC(=O)N[C@@H]1CN(C[C@H]1F)c2nc(c3c(n2)n(cn3)C...</td>\n",
              "    </tr>\n",
              "    <tr>\n",
              "      <th>3</th>\n",
              "      <td>5UGC</td>\n",
              "      <td>8BS</td>\n",
              "      <td>NON-POLYMER</td>\n",
              "      <td>417.441</td>\n",
              "      <td>N-[(3R,4R)-4-fluoro-1-{6-[(3-methoxy-1-methyl-...</td>\n",
              "      <td>C18 H24 F N9 O2</td>\n",
              "      <td>InChI=1S/C18H24FN9O2/c1-5-13(29)21-11-8-28(6-1...</td>\n",
              "      <td>XWNKXCUQRQRAFF-GHMZBOCLSA-N</td>\n",
              "      <td>CCC(=O)N[C@@H]1CN(C[C@H]1F)c2nc(c3c(n2)n(cn3)C...</td>\n",
              "    </tr>\n",
              "  </tbody>\n",
              "</table>\n",
              "</div>\n",
              "      <button class=\"colab-df-convert\" onclick=\"convertToInteractive('df-e7c01a5e-0a36-4c0a-a706-236ed5bf3229')\"\n",
              "              title=\"Convert this dataframe to an interactive table.\"\n",
              "              style=\"display:none;\">\n",
              "\n",
              "  <svg xmlns=\"http://www.w3.org/2000/svg\" height=\"24px\"viewBox=\"0 0 24 24\"\n",
              "       width=\"24px\">\n",
              "    <path d=\"M0 0h24v24H0V0z\" fill=\"none\"/>\n",
              "    <path d=\"M18.56 5.44l.94 2.06.94-2.06 2.06-.94-2.06-.94-.94-2.06-.94 2.06-2.06.94zm-11 1L8.5 8.5l.94-2.06 2.06-.94-2.06-.94L8.5 2.5l-.94 2.06-2.06.94zm10 10l.94 2.06.94-2.06 2.06-.94-2.06-.94-.94-2.06-.94 2.06-2.06.94z\"/><path d=\"M17.41 7.96l-1.37-1.37c-.4-.4-.92-.59-1.43-.59-.52 0-1.04.2-1.43.59L10.3 9.45l-7.72 7.72c-.78.78-.78 2.05 0 2.83L4 21.41c.39.39.9.59 1.41.59.51 0 1.02-.2 1.41-.59l7.78-7.78 2.81-2.81c.8-.78.8-2.07 0-2.86zM5.41 20L4 18.59l7.72-7.72 1.47 1.35L5.41 20z\"/>\n",
              "  </svg>\n",
              "      </button>\n",
              "\n",
              "\n",
              "\n",
              "    <div id=\"df-99e48626-74c0-465b-8013-8c05ce4936ba\">\n",
              "      <button class=\"colab-df-quickchart\" onclick=\"quickchart('df-99e48626-74c0-465b-8013-8c05ce4936ba')\"\n",
              "              title=\"Suggest charts.\"\n",
              "              style=\"display:none;\">\n",
              "\n",
              "<svg xmlns=\"http://www.w3.org/2000/svg\" height=\"24px\"viewBox=\"0 0 24 24\"\n",
              "     width=\"24px\">\n",
              "    <g>\n",
              "        <path d=\"M19 3H5c-1.1 0-2 .9-2 2v14c0 1.1.9 2 2 2h14c1.1 0 2-.9 2-2V5c0-1.1-.9-2-2-2zM9 17H7v-7h2v7zm4 0h-2V7h2v10zm4 0h-2v-4h2v4z\"/>\n",
              "    </g>\n",
              "</svg>\n",
              "      </button>\n",
              "    </div>\n",
              "\n",
              "<style>\n",
              "  .colab-df-quickchart {\n",
              "    background-color: #E8F0FE;\n",
              "    border: none;\n",
              "    border-radius: 50%;\n",
              "    cursor: pointer;\n",
              "    display: none;\n",
              "    fill: #1967D2;\n",
              "    height: 32px;\n",
              "    padding: 0 0 0 0;\n",
              "    width: 32px;\n",
              "  }\n",
              "\n",
              "  .colab-df-quickchart:hover {\n",
              "    background-color: #E2EBFA;\n",
              "    box-shadow: 0px 1px 2px rgba(60, 64, 67, 0.3), 0px 1px 3px 1px rgba(60, 64, 67, 0.15);\n",
              "    fill: #174EA6;\n",
              "  }\n",
              "\n",
              "  [theme=dark] .colab-df-quickchart {\n",
              "    background-color: #3B4455;\n",
              "    fill: #D2E3FC;\n",
              "  }\n",
              "\n",
              "  [theme=dark] .colab-df-quickchart:hover {\n",
              "    background-color: #434B5C;\n",
              "    box-shadow: 0px 1px 3px 1px rgba(0, 0, 0, 0.15);\n",
              "    filter: drop-shadow(0px 1px 2px rgba(0, 0, 0, 0.3));\n",
              "    fill: #FFFFFF;\n",
              "  }\n",
              "</style>\n",
              "\n",
              "    <script>\n",
              "      async function quickchart(key) {\n",
              "        const containerElement = document.querySelector('#' + key);\n",
              "        const charts = await google.colab.kernel.invokeFunction(\n",
              "            'suggestCharts', [key], {});\n",
              "      }\n",
              "    </script>\n",
              "\n",
              "      <script>\n",
              "\n",
              "function displayQuickchartButton(domScope) {\n",
              "  let quickchartButtonEl =\n",
              "    domScope.querySelector('#df-99e48626-74c0-465b-8013-8c05ce4936ba button.colab-df-quickchart');\n",
              "  quickchartButtonEl.style.display =\n",
              "    google.colab.kernel.accessAllowed ? 'block' : 'none';\n",
              "}\n",
              "\n",
              "        displayQuickchartButton(document);\n",
              "      </script>\n",
              "      <style>\n",
              "    .colab-df-container {\n",
              "      display:flex;\n",
              "      flex-wrap:wrap;\n",
              "      gap: 12px;\n",
              "    }\n",
              "\n",
              "    .colab-df-convert {\n",
              "      background-color: #E8F0FE;\n",
              "      border: none;\n",
              "      border-radius: 50%;\n",
              "      cursor: pointer;\n",
              "      display: none;\n",
              "      fill: #1967D2;\n",
              "      height: 32px;\n",
              "      padding: 0 0 0 0;\n",
              "      width: 32px;\n",
              "    }\n",
              "\n",
              "    .colab-df-convert:hover {\n",
              "      background-color: #E2EBFA;\n",
              "      box-shadow: 0px 1px 2px rgba(60, 64, 67, 0.3), 0px 1px 3px 1px rgba(60, 64, 67, 0.15);\n",
              "      fill: #174EA6;\n",
              "    }\n",
              "\n",
              "    [theme=dark] .colab-df-convert {\n",
              "      background-color: #3B4455;\n",
              "      fill: #D2E3FC;\n",
              "    }\n",
              "\n",
              "    [theme=dark] .colab-df-convert:hover {\n",
              "      background-color: #434B5C;\n",
              "      box-shadow: 0px 1px 3px 1px rgba(0, 0, 0, 0.15);\n",
              "      filter: drop-shadow(0px 1px 2px rgba(0, 0, 0, 0.3));\n",
              "      fill: #FFFFFF;\n",
              "    }\n",
              "  </style>\n",
              "\n",
              "      <script>\n",
              "        const buttonEl =\n",
              "          document.querySelector('#df-e7c01a5e-0a36-4c0a-a706-236ed5bf3229 button.colab-df-convert');\n",
              "        buttonEl.style.display =\n",
              "          google.colab.kernel.accessAllowed ? 'block' : 'none';\n",
              "\n",
              "        async function convertToInteractive(key) {\n",
              "          const element = document.querySelector('#df-e7c01a5e-0a36-4c0a-a706-236ed5bf3229');\n",
              "          const dataTable =\n",
              "            await google.colab.kernel.invokeFunction('convertToInteractive',\n",
              "                                                     [key], {});\n",
              "          if (!dataTable) return;\n",
              "\n",
              "          const docLinkHtml = 'Like what you see? Visit the ' +\n",
              "            '<a target=\"_blank\" href=https://colab.research.google.com/notebooks/data_table.ipynb>data table notebook</a>'\n",
              "            + ' to learn more about interactive tables.';\n",
              "          element.innerHTML = '';\n",
              "          dataTable['output_type'] = 'display_data';\n",
              "          await google.colab.output.renderOutput(dataTable, element);\n",
              "          const docLink = document.createElement('div');\n",
              "          docLink.innerHTML = docLinkHtml;\n",
              "          element.appendChild(docLink);\n",
              "        }\n",
              "      </script>\n",
              "    </div>\n",
              "  </div>\n"
            ]
          },
          "metadata": {},
          "execution_count": 83
        }
      ]
    },
    {
      "cell_type": "code",
      "source": [
        "ligands.to_csv(\"PDB_top_ligands.csv\", header=True, index=False)"
      ],
      "metadata": {
        "id": "_7D87fevPYdR"
      },
      "execution_count": 84,
      "outputs": []
    },
    {
      "cell_type": "code",
      "source": [
        "PandasTools.AddMoleculeColumnToFrame(ligands, \"smiles\")\n",
        "Draw.MolsToGridImage(\n",
        "    mols=list(ligands.ROMol),\n",
        "    legends=list(ligands[\"@chemicalID\"] + \", \" + ligands[\"@structureId\"]),\n",
        "    molsPerRow=top_num,\n",
        ")"
      ],
      "metadata": {
        "colab": {
          "base_uri": "https://localhost:8080/",
          "height": 189
        },
        "id": "aW61ZpLUPbiJ",
        "outputId": "6d5729d4-2851-4bc4-ac68-ee15017d545a"
      },
      "execution_count": 85,
      "outputs": [
        {
          "output_type": "execute_result",
          "data": {
            "image/png": "[encoded data removed]",
            "text/plain": [
              "<IPython.core.display.Image object>"
            ]
          },
          "metadata": {},
          "execution_count": 85
        }
      ]
    },
    {
      "cell_type": "code",
      "source": [
        "# NBVAL_CHECK_OUTPUT\n",
        "pairs = collections.OrderedDict(zip(ligands[\"@structureId\"], ligands[\"@chemicalID\"]))\n",
        "pairs"
      ],
      "metadata": {
        "colab": {
          "base_uri": "https://localhost:8080/"
        },
        "id": "9EArgAcGPfEc",
        "outputId": "0cbdf228-5502-4b91-cc49-77f1d8a2d283"
      },
      "execution_count": 86,
      "outputs": [
        {
          "output_type": "execute_result",
          "data": {
            "text/plain": [
              "OrderedDict([('5UG9', '8AM'),\n",
              "             ('5HG8', '634'),\n",
              "             ('5UG8', '8BP'),\n",
              "             ('5UGC', '8BS')])"
            ]
          },
          "metadata": {},
          "execution_count": 86
        }
      ]
    },
    {
      "cell_type": "code",
      "source": [
        "pip install mdanalysis"
      ],
      "metadata": {
        "colab": {
          "base_uri": "https://localhost:8080/",
          "height": 674
        },
        "id": "pijv3AmtgIk6",
        "outputId": "5d0e056a-2561-4030-cc52-bef90af88e37"
      },
      "execution_count": 33,
      "outputs": [
        {
          "output_type": "stream",
          "name": "stdout",
          "text": [
            "Requirement already satisfied: mdanalysis in /usr/local/lib/python3.10/dist-packages (2.5.0)\n",
            "Requirement already satisfied: numpy>=1.21.0 in /usr/local/lib/python3.10/dist-packages (from mdanalysis) (1.23.5)\n",
            "Collecting biopython>=1.80 (from mdanalysis)\n",
            "  Using cached biopython-1.81-cp310-cp310-manylinux_2_17_x86_64.manylinux2014_x86_64.whl (3.1 MB)\n",
            "Requirement already satisfied: networkx>=2.0 in /usr/local/lib/python3.10/dist-packages (from mdanalysis) (3.1)\n",
            "Requirement already satisfied: GridDataFormats>=0.4.0 in /usr/local/lib/python3.10/dist-packages (from mdanalysis) (1.0.1)\n",
            "Requirement already satisfied: mmtf-python>=1.0.0 in /usr/local/lib/python3.10/dist-packages (from mdanalysis) (1.1.3)\n",
            "Requirement already satisfied: joblib>=0.12 in /usr/local/lib/python3.10/dist-packages (from mdanalysis) (1.3.2)\n",
            "Requirement already satisfied: scipy>=1.5.0 in /usr/local/lib/python3.10/dist-packages (from mdanalysis) (1.10.1)\n",
            "Requirement already satisfied: matplotlib>=1.5.1 in /usr/local/lib/python3.10/dist-packages (from mdanalysis) (3.7.1)\n",
            "Requirement already satisfied: tqdm>=4.43.0 in /usr/local/lib/python3.10/dist-packages (from mdanalysis) (4.66.0)\n",
            "Requirement already satisfied: threadpoolctl in /usr/local/lib/python3.10/dist-packages (from mdanalysis) (3.2.0)\n",
            "Requirement already satisfied: packaging in /usr/local/lib/python3.10/dist-packages (from mdanalysis) (23.1)\n",
            "Requirement already satisfied: fasteners in /usr/local/lib/python3.10/dist-packages (from mdanalysis) (0.18)\n",
            "Requirement already satisfied: gsd>=1.9.3 in /usr/local/lib/python3.10/dist-packages (from mdanalysis) (3.1.1)\n",
            "Requirement already satisfied: mrcfile in /usr/local/lib/python3.10/dist-packages (from GridDataFormats>=0.4.0->mdanalysis) (1.4.3)\n",
            "Requirement already satisfied: contourpy>=1.0.1 in /usr/local/lib/python3.10/dist-packages (from matplotlib>=1.5.1->mdanalysis) (1.1.0)\n",
            "Requirement already satisfied: cycler>=0.10 in /usr/local/lib/python3.10/dist-packages (from matplotlib>=1.5.1->mdanalysis) (0.11.0)\n",
            "Requirement already satisfied: fonttools>=4.22.0 in /usr/local/lib/python3.10/dist-packages (from matplotlib>=1.5.1->mdanalysis) (4.42.0)\n",
            "Requirement already satisfied: kiwisolver>=1.0.1 in /usr/local/lib/python3.10/dist-packages (from matplotlib>=1.5.1->mdanalysis) (1.4.4)\n",
            "Requirement already satisfied: pillow>=6.2.0 in /usr/local/lib/python3.10/dist-packages (from matplotlib>=1.5.1->mdanalysis) (9.4.0)\n",
            "Requirement already satisfied: pyparsing>=2.3.1 in /usr/local/lib/python3.10/dist-packages (from matplotlib>=1.5.1->mdanalysis) (3.1.1)\n",
            "Requirement already satisfied: python-dateutil>=2.7 in /usr/local/lib/python3.10/dist-packages (from matplotlib>=1.5.1->mdanalysis) (2.8.2)\n",
            "Requirement already satisfied: msgpack>=1.0.0 in /usr/local/lib/python3.10/dist-packages (from mmtf-python>=1.0.0->mdanalysis) (1.0.5)\n",
            "Requirement already satisfied: six>=1.5 in /usr/local/lib/python3.10/dist-packages (from python-dateutil>=2.7->matplotlib>=1.5.1->mdanalysis) (1.16.0)\n",
            "Installing collected packages: biopython\n",
            "  Attempting uninstall: biopython\n",
            "    Found existing installation: biopython 1.77\n",
            "    Uninstalling biopython-1.77:\n",
            "      Successfully uninstalled biopython-1.77\n",
            "Successfully installed biopython-1.81\n"
          ]
        },
        {
          "output_type": "display_data",
          "data": {
            "application/vnd.colab-display-data+json": {
              "pip_warning": {
                "packages": [
                  "Bio"
                ]
              }
            }
          },
          "metadata": {}
        }
      ]
    },
    {
      "cell_type": "code",
      "source": [
        "from opencadd.structure.core import Structure"
      ],
      "metadata": {
        "colab": {
          "base_uri": "https://localhost:8080/"
        },
        "id": "0WaZ7spgf876",
        "outputId": "965139ad-ab3b-4375-9824-f5bb10034a96"
      },
      "execution_count": 34,
      "outputs": [
        {
          "output_type": "stream",
          "name": "stderr",
          "text": [
            "WARNING:MDAnalysis.coordinates.AMBER:netCDF4 is not available. Writing AMBER ncdf files will be slow.\n"
          ]
        }
      ]
    },
    {
      "cell_type": "code",
      "source": [
        "# Download PDB structures\n",
        "structures = [Structure.from_pdbid(pdb_id) for pdb_id in pairs]\n",
        "structures"
      ],
      "metadata": {
        "colab": {
          "base_uri": "https://localhost:8080/"
        },
        "id": "hveZnDkoPpU_",
        "outputId": "2ce094de-399d-46d7-c833-b27f5041ad49"
      },
      "execution_count": 87,
      "outputs": [
        {
          "output_type": "execute_result",
          "data": {
            "text/plain": [
              "[<Universe with 2664 atoms>,\n",
              " <Universe with 2716 atoms>,\n",
              " <Universe with 2632 atoms>,\n",
              " <Universe with 2542 atoms>]"
            ]
          },
          "metadata": {},
          "execution_count": 87
        }
      ]
    },
    {
      "cell_type": "code",
      "source": [
        "complexes = [\n",
        "    Structure.from_atomgroup(structure.select_atoms(f\"protein or resname {ligand}\"))\n",
        "    for structure, ligand in zip(structures, pairs.values())\n",
        "]\n",
        "complexes"
      ],
      "metadata": {
        "colab": {
          "base_uri": "https://localhost:8080/"
        },
        "id": "OnRMUHGkgebJ",
        "outputId": "f9189677-98ca-4388-ca01-dd0d53cb1348"
      },
      "execution_count": 88,
      "outputs": [
        {
          "output_type": "execute_result",
          "data": {
            "text/plain": [
              "[<Universe with 2330 atoms>,\n",
              " <Universe with 2491 atoms>,\n",
              " <Universe with 2319 atoms>,\n",
              " <Universe with 2320 atoms>]"
            ]
          },
          "metadata": {},
          "execution_count": 88
        }
      ]
    },
    {
      "cell_type": "code",
      "source": [
        "# Write complex to file\n",
        "for complex_, pdb_id in zip(complexes, pairs.keys()):\n",
        "    complex_.write(f\"{pdb_id}.pdb\")"
      ],
      "metadata": {
        "id": "IYTNB_zjgXza"
      },
      "execution_count": 89,
      "outputs": []
    },
    {
      "cell_type": "code",
      "source": [
        "from opencadd.structure.superposition.api import align, METHODS\n"
      ],
      "metadata": {
        "id": "gdKMcn3FgnqR"
      },
      "execution_count": 38,
      "outputs": []
    },
    {
      "cell_type": "code",
      "source": [
        "pip install biopython==1.77\n"
      ],
      "metadata": {
        "colab": {
          "base_uri": "https://localhost:8080/",
          "height": 345
        },
        "id": "8CY70cKXLNWd",
        "outputId": "ab9688e4-19d1-4873-905f-584ed12a7c52"
      },
      "execution_count": 39,
      "outputs": [
        {
          "output_type": "stream",
          "name": "stdout",
          "text": [
            "Collecting biopython==1.77\n",
            "  Using cached biopython-1.77-cp310-cp310-linux_x86_64.whl\n",
            "Requirement already satisfied: numpy in /usr/local/lib/python3.10/dist-packages (from biopython==1.77) (1.23.5)\n",
            "Installing collected packages: biopython\n",
            "  Attempting uninstall: biopython\n",
            "    Found existing installation: biopython 1.81\n",
            "    Uninstalling biopython-1.81:\n",
            "      Successfully uninstalled biopython-1.81\n",
            "\u001b[31mERROR: pip's dependency resolver does not currently take into account all the packages that are installed. This behaviour is the source of the following dependency conflicts.\n",
            "mdanalysis 2.5.0 requires biopython>=1.80, but you have biopython 1.77 which is incompatible.\n",
            "bio 1.5.9 requires biopython>=1.80, but you have biopython 1.77 which is incompatible.\u001b[0m\u001b[31m\n",
            "\u001b[0mSuccessfully installed biopython-1.77\n"
          ]
        },
        {
          "output_type": "display_data",
          "data": {
            "application/vnd.colab-display-data+json": {
              "pip_warning": {
                "packages": [
                  "Bio"
                ]
              }
            }
          },
          "metadata": {}
        }
      ]
    },
    {
      "cell_type": "code",
      "source": [
        "import Bio; print(Bio.__version__)"
      ],
      "metadata": {
        "colab": {
          "base_uri": "https://localhost:8080/"
        },
        "id": "cCYz3_sOL6h8",
        "outputId": "0549689b-b6c0-4db8-d3b2-4249e915d541"
      },
      "execution_count": 40,
      "outputs": [
        {
          "output_type": "stream",
          "name": "stdout",
          "text": [
            "1.77\n"
          ]
        }
      ]
    },
    {
      "cell_type": "code",
      "source": [
        "results = align(complexes, method=METHODS[\"mda\"])"
      ],
      "metadata": {
        "colab": {
          "base_uri": "https://localhost:8080/",
          "height": 341
        },
        "id": "TzDJxuhBgiMo",
        "outputId": "9a87d47f-980f-466f-a29f-c77f05e72005"
      },
      "execution_count": 90,
      "outputs": [
        {
          "output_type": "error",
          "ename": "AttributeError",
          "evalue": "ignored",
          "traceback": [
            "\u001b[0;31m---------------------------------------------------------------------------\u001b[0m",
            "\u001b[0;31mAttributeError\u001b[0m                            Traceback (most recent call last)",
            "\u001b[0;32m<ipython-input-90-75600e02e635>\u001b[0m in \u001b[0;36m<cell line: 1>\u001b[0;34m()\u001b[0m\n\u001b[0;32m----> 1\u001b[0;31m \u001b[0mresults\u001b[0m \u001b[0;34m=\u001b[0m \u001b[0malign\u001b[0m\u001b[0;34m(\u001b[0m\u001b[0mcomplexes\u001b[0m\u001b[0;34m,\u001b[0m \u001b[0mmethod\u001b[0m\u001b[0;34m=\u001b[0m\u001b[0mMETHODS\u001b[0m\u001b[0;34m[\u001b[0m\u001b[0;34m\"mda\"\u001b[0m\u001b[0;34m]\u001b[0m\u001b[0;34m)\u001b[0m\u001b[0;34m\u001b[0m\u001b[0;34m\u001b[0m\u001b[0m\n\u001b[0m",
            "\u001b[0;32m/usr/local/lib/python3.10/dist-packages/opencadd/structure/superposition/api.py\u001b[0m in \u001b[0;36malign\u001b[0;34m(structures, user_select, method, **kwargs)\u001b[0m\n\u001b[1;32m     92\u001b[0m         \u001b[0;32mfor\u001b[0m \u001b[0mmobile\u001b[0m \u001b[0;32min\u001b[0m \u001b[0mmobiles\u001b[0m\u001b[0;34m:\u001b[0m\u001b[0;34m\u001b[0m\u001b[0;34m\u001b[0m\u001b[0m\n\u001b[1;32m     93\u001b[0m             \u001b[0mmobile\u001b[0m \u001b[0;34m=\u001b[0m \u001b[0m_universe_to_atomgroup\u001b[0m\u001b[0;34m(\u001b[0m\u001b[0mmobile\u001b[0m\u001b[0;34m)\u001b[0m\u001b[0;34m\u001b[0m\u001b[0;34m\u001b[0m\u001b[0m\n\u001b[0;32m---> 94\u001b[0;31m             \u001b[0mresult\u001b[0m \u001b[0;34m=\u001b[0m \u001b[0maligner\u001b[0m\u001b[0;34m.\u001b[0m\u001b[0mcalculate\u001b[0m\u001b[0;34m(\u001b[0m\u001b[0mstructures\u001b[0m\u001b[0;34m=\u001b[0m\u001b[0;34m[\u001b[0m\u001b[0mreference\u001b[0m\u001b[0;34m,\u001b[0m \u001b[0mmobile\u001b[0m\u001b[0;34m]\u001b[0m\u001b[0;34m,\u001b[0m \u001b[0mselections\u001b[0m\u001b[0;34m=\u001b[0m\u001b[0;34m[\u001b[0m\u001b[0;34m]\u001b[0m\u001b[0;34m)\u001b[0m\u001b[0;34m\u001b[0m\u001b[0;34m\u001b[0m\u001b[0m\n\u001b[0m\u001b[1;32m     95\u001b[0m             \u001b[0;31m# size of whole structures\u001b[0m\u001b[0;34m\u001b[0m\u001b[0;34m\u001b[0m\u001b[0m\n\u001b[1;32m     96\u001b[0m             \u001b[0mreference_size\u001b[0m \u001b[0;34m=\u001b[0m \u001b[0mlen\u001b[0m\u001b[0;34m(\u001b[0m\u001b[0mreference\u001b[0m\u001b[0;34m.\u001b[0m\u001b[0mresidues\u001b[0m\u001b[0;34m)\u001b[0m\u001b[0;34m\u001b[0m\u001b[0;34m\u001b[0m\u001b[0m\n",
            "\u001b[0;32m/usr/local/lib/python3.10/dist-packages/opencadd/structure/superposition/engines/base.py\u001b[0m in \u001b[0;36mcalculate\u001b[0;34m(self, structures, selections, *args, **kwargs)\u001b[0m\n\u001b[1;32m     35\u001b[0m         \u001b[0;32massert\u001b[0m \u001b[0mlen\u001b[0m\u001b[0;34m(\u001b[0m\u001b[0mstructures\u001b[0m\u001b[0;34m)\u001b[0m \u001b[0;34m==\u001b[0m \u001b[0;36m2\u001b[0m\u001b[0;34m,\u001b[0m \u001b[0mmessage\u001b[0m\u001b[0;34m\u001b[0m\u001b[0;34m\u001b[0m\u001b[0m\n\u001b[1;32m     36\u001b[0m \u001b[0;34m\u001b[0m\u001b[0m\n\u001b[0;32m---> 37\u001b[0;31m         \u001b[0;32mreturn\u001b[0m \u001b[0mself\u001b[0m\u001b[0;34m.\u001b[0m\u001b[0m_calculate\u001b[0m\u001b[0;34m(\u001b[0m\u001b[0mstructures\u001b[0m\u001b[0;34m,\u001b[0m \u001b[0mselections\u001b[0m\u001b[0;34m,\u001b[0m \u001b[0;34m*\u001b[0m\u001b[0margs\u001b[0m\u001b[0;34m,\u001b[0m \u001b[0;34m**\u001b[0m\u001b[0mkwargs\u001b[0m\u001b[0;34m)\u001b[0m\u001b[0;34m\u001b[0m\u001b[0;34m\u001b[0m\u001b[0m\n\u001b[0m\u001b[1;32m     38\u001b[0m \u001b[0;34m\u001b[0m\u001b[0m\n\u001b[1;32m     39\u001b[0m     \u001b[0;32mdef\u001b[0m \u001b[0m_calculate\u001b[0m\u001b[0;34m(\u001b[0m\u001b[0mself\u001b[0m\u001b[0;34m,\u001b[0m \u001b[0mstructures\u001b[0m\u001b[0;34m,\u001b[0m \u001b[0mselections\u001b[0m\u001b[0;34m,\u001b[0m \u001b[0;34m*\u001b[0m\u001b[0margs\u001b[0m\u001b[0;34m,\u001b[0m \u001b[0;34m**\u001b[0m\u001b[0mkwargs\u001b[0m\u001b[0;34m)\u001b[0m\u001b[0;34m:\u001b[0m\u001b[0;34m\u001b[0m\u001b[0;34m\u001b[0m\u001b[0m\n",
            "\u001b[0;32m/usr/local/lib/python3.10/dist-packages/opencadd/structure/superposition/engines/mda.py\u001b[0m in \u001b[0;36m_calculate\u001b[0;34m(self, structures, selections, *args, **kwargs)\u001b[0m\n\u001b[1;32m    136\u001b[0m \u001b[0;34m\u001b[0m\u001b[0m\n\u001b[1;32m    137\u001b[0m         \u001b[0;31m# Get matching atoms of selection\u001b[0m\u001b[0;34m\u001b[0m\u001b[0;34m\u001b[0m\u001b[0m\n\u001b[0;32m--> 138\u001b[0;31m         \u001b[0mselection\u001b[0m\u001b[0;34m,\u001b[0m \u001b[0malignment\u001b[0m \u001b[0;34m=\u001b[0m \u001b[0mself\u001b[0m\u001b[0;34m.\u001b[0m\u001b[0mmatching_selection\u001b[0m\u001b[0;34m(\u001b[0m\u001b[0;34m*\u001b[0m\u001b[0mselections\u001b[0m\u001b[0;34m)\u001b[0m\u001b[0;34m\u001b[0m\u001b[0;34m\u001b[0m\u001b[0m\n\u001b[0m\u001b[1;32m    139\u001b[0m         \u001b[0mref_atoms\u001b[0m \u001b[0;34m=\u001b[0m \u001b[0mref_selection\u001b[0m\u001b[0;34m.\u001b[0m\u001b[0mselect_atoms\u001b[0m\u001b[0;34m(\u001b[0m\u001b[0mselection\u001b[0m\u001b[0;34m[\u001b[0m\u001b[0;34m\"reference\"\u001b[0m\u001b[0;34m]\u001b[0m\u001b[0;34m)\u001b[0m\u001b[0;34m\u001b[0m\u001b[0;34m\u001b[0m\u001b[0m\n\u001b[1;32m    140\u001b[0m         \u001b[0mmobile_atoms\u001b[0m \u001b[0;34m=\u001b[0m \u001b[0mmob_selection\u001b[0m\u001b[0;34m.\u001b[0m\u001b[0mselect_atoms\u001b[0m\u001b[0;34m(\u001b[0m\u001b[0mselection\u001b[0m\u001b[0;34m[\u001b[0m\u001b[0;34m\"mobile\"\u001b[0m\u001b[0;34m]\u001b[0m\u001b[0;34m)\u001b[0m\u001b[0;34m\u001b[0m\u001b[0;34m\u001b[0m\u001b[0m\n",
            "\u001b[0;32m/usr/local/lib/python3.10/dist-packages/opencadd/structure/superposition/engines/mda.py\u001b[0m in \u001b[0;36mmatching_selection\u001b[0;34m(self, ref_selection, mob_selection)\u001b[0m\n\u001b[1;32m    229\u001b[0m                 \u001b[0mfasta\u001b[0m\u001b[0;34m[\u001b[0m\u001b[0;34m\"ref\"\u001b[0m\u001b[0;34m]\u001b[0m\u001b[0;34m,\u001b[0m \u001b[0mfasta\u001b[0m\u001b[0;34m[\u001b[0m\u001b[0;34m\"mob\"\u001b[0m\u001b[0;34m]\u001b[0m\u001b[0;34m,\u001b[0m \u001b[0;34m*\u001b[0m\u001b[0m_empty\u001b[0m \u001b[0;34m=\u001b[0m \u001b[0malignment\u001b[0m\u001b[0;34m.\u001b[0m\u001b[0mget_gapped_sequences\u001b[0m\u001b[0;34m(\u001b[0m\u001b[0;34m)\u001b[0m\u001b[0;34m\u001b[0m\u001b[0;34m\u001b[0m\u001b[0m\n\u001b[1;32m    230\u001b[0m                 \u001b[0mfasta\u001b[0m\u001b[0;34m.\u001b[0m\u001b[0mwrite\u001b[0m\u001b[0;34m(\u001b[0m\u001b[0;34m\"temp.fasta\"\u001b[0m\u001b[0;34m)\u001b[0m\u001b[0;34m\u001b[0m\u001b[0;34m\u001b[0m\u001b[0m\n\u001b[0;32m--> 231\u001b[0;31m                 selection = fasta2select(\n\u001b[0m\u001b[1;32m    232\u001b[0m                     \u001b[0;34m\"temp.fasta\"\u001b[0m\u001b[0;34m,\u001b[0m\u001b[0;34m\u001b[0m\u001b[0;34m\u001b[0m\u001b[0m\n\u001b[1;32m    233\u001b[0m                     \u001b[0mref_resids\u001b[0m\u001b[0;34m=\u001b[0m\u001b[0mref_resids\u001b[0m\u001b[0;34m,\u001b[0m\u001b[0;34m\u001b[0m\u001b[0;34m\u001b[0m\u001b[0m\n",
            "\u001b[0;32m/usr/local/lib/python3.10/dist-packages/opencadd/structure/superposition/sequences.py\u001b[0m in \u001b[0;36mfasta2select\u001b[0;34m(fastafilename, ref_resids, ref_segids, target_resids, target_segids, backbone_selection)\u001b[0m\n\u001b[1;32m    113\u001b[0m \u001b[0;34m\u001b[0m\u001b[0m\n\u001b[1;32m    114\u001b[0m     \"\"\"\n\u001b[0;32m--> 115\u001b[0;31m     \u001b[0mprotein_gapped\u001b[0m \u001b[0;34m=\u001b[0m \u001b[0mBio\u001b[0m\u001b[0;34m.\u001b[0m\u001b[0mAlphabet\u001b[0m\u001b[0;34m.\u001b[0m\u001b[0mGapped\u001b[0m\u001b[0;34m(\u001b[0m\u001b[0mBio\u001b[0m\u001b[0;34m.\u001b[0m\u001b[0mAlphabet\u001b[0m\u001b[0;34m.\u001b[0m\u001b[0mIUPAC\u001b[0m\u001b[0;34m.\u001b[0m\u001b[0mprotein\u001b[0m\u001b[0;34m)\u001b[0m\u001b[0;34m\u001b[0m\u001b[0;34m\u001b[0m\u001b[0m\n\u001b[0m\u001b[1;32m    116\u001b[0m     \u001b[0;32mwith\u001b[0m \u001b[0mopen\u001b[0m\u001b[0;34m(\u001b[0m\u001b[0mfastafilename\u001b[0m\u001b[0;34m)\u001b[0m \u001b[0;32mas\u001b[0m \u001b[0mfasta\u001b[0m\u001b[0;34m:\u001b[0m\u001b[0;34m\u001b[0m\u001b[0;34m\u001b[0m\u001b[0m\n\u001b[1;32m    117\u001b[0m         \u001b[0malignment\u001b[0m \u001b[0;34m=\u001b[0m \u001b[0mBio\u001b[0m\u001b[0;34m.\u001b[0m\u001b[0mAlignIO\u001b[0m\u001b[0;34m.\u001b[0m\u001b[0mread\u001b[0m\u001b[0;34m(\u001b[0m\u001b[0mfasta\u001b[0m\u001b[0;34m,\u001b[0m \u001b[0;34m\"fasta\"\u001b[0m\u001b[0;34m,\u001b[0m \u001b[0malphabet\u001b[0m\u001b[0;34m=\u001b[0m\u001b[0mprotein_gapped\u001b[0m\u001b[0;34m)\u001b[0m\u001b[0;34m\u001b[0m\u001b[0;34m\u001b[0m\u001b[0m\n",
            "\u001b[0;31mAttributeError\u001b[0m: module 'Bio' has no attribute 'Alphabet'"
          ]
        }
      ]
    },
    {
      "cell_type": "code",
      "source": [
        "ligands = [\n",
        "    Structure.from_atomgroup(complex_.select_atoms(f\"resname {ligand}\"))\n",
        "    for complex_, ligand in zip(complexes, pairs.values())\n",
        "]\n",
        "ligands"
      ],
      "metadata": {
        "colab": {
          "base_uri": "https://localhost:8080/"
        },
        "id": "D2YW2kGUMrXZ",
        "outputId": "2f357d8f-5bc1-43b1-c380-131ff83506ab"
      },
      "execution_count": 91,
      "outputs": [
        {
          "output_type": "execute_result",
          "data": {
            "text/plain": [
              "[<Universe with 32 atoms>,\n",
              " <Universe with 28 atoms>,\n",
              " <Universe with 30 atoms>,\n",
              " <Universe with 30 atoms>]"
            ]
          },
          "metadata": {},
          "execution_count": 91
        }
      ]
    },
    {
      "cell_type": "code",
      "source": [
        "from pathlib import Path"
      ],
      "metadata": {
        "id": "WPP8PfBXYr2S"
      },
      "execution_count": 92,
      "outputs": []
    },
    {
      "cell_type": "code",
      "source": [
        "# Define paths\n",
        "HERE = pathlib.Path(_dh[-1])\n",
        "DATA = HERE / \"data\""
      ],
      "metadata": {
        "id": "BZDdfmKkazJ7"
      },
      "execution_count": 103,
      "outputs": []
    },
    {
      "cell_type": "code",
      "source": [
        "for ligand, pdb_id in zip(ligands, pairs.keys()):\n",
        "    ligand.write(DATA / f\"{pdb_id}_lig.pdb\")"
      ],
      "metadata": {
        "id": "QSmjwI0gMtUB"
      },
      "execution_count": 104,
      "outputs": []
    },
    {
      "cell_type": "code",
      "source": [
        "ligand_files = []\n",
        "for file in \"*_lig.pdb\":\n",
        "    ligand_files.append(file)\n",
        "ligand_files"
      ],
      "metadata": {
        "colab": {
          "base_uri": "https://localhost:8080/"
        },
        "id": "wA7mnIvwMwzR",
        "outputId": "92555b8e-e7c1-44d5-b7fb-15a37c7b772a"
      },
      "execution_count": 53,
      "outputs": [
        {
          "output_type": "execute_result",
          "data": {
            "text/plain": [
              "['*', '_', 'l', 'i', 'g', '.', 'p', 'd', 'b']"
            ]
          },
          "metadata": {},
          "execution_count": 53
        }
      ]
    },
    {
      "cell_type": "code",
      "source": [
        "view = nglview.NGLWidget()\n",
        "for component_id, ligand in enumerate(ligands):\n",
        "    view.add_component(ligand.atoms)\n",
        "    view.remove_ball_and_stick(component=component_id)\n",
        "    view.add_licorice(component=component_id)\n",
        "view"
      ],
      "metadata": {
        "colab": {
          "base_uri": "https://localhost:8080/",
          "height": 317,
          "referenced_widgets": [
            "ca2a51b78dd64358af22c9fb7a431f76",
            "02a76b26e79c49bb903e89cdf2c521ce",
            "75817411ad774133890c5e5a3574373a",
            "abbbf582d6634035929f1c58548eb78c",
            "2fbb88fe740645b6b425fc04f6b4c072",
            "f3e3626f16df4985b120bd0725668e01",
            "84f30a7b8e874c7ba25f1e091a97212f",
            "1bf6a17f1c884600a1411354d0135d30",
            "f584524bfd3c4aabb0126e63d1f0d793",
            "ca55c46275854c79bc2b1a9981be5cdb",
            "22a58bd8e695438ca4df3ff403bb0b8a",
            "355ab8a08d1340a58440e85e200c5427",
            "2df161c84a824dce86b955dc906a540a"
          ]
        },
        "id": "9oefQXduNNZL",
        "outputId": "242d475a-0015-4c6e-dcbd-e35fdd224b25"
      },
      "execution_count": 49,
      "outputs": [
        {
          "output_type": "display_data",
          "data": {
            "text/plain": [
              "NGLWidget()"
            ],
            "application/vnd.jupyter.widget-view+json": {
              "version_major": 2,
              "version_minor": 0,
              "model_id": "ca2a51b78dd64358af22c9fb7a431f76"
            }
          },
          "metadata": {
            "application/vnd.jupyter.widget-view+json": {
              "colab": {
                "custom_widget_manager": {
                  "url": "https://ssl.gstatic.com/colaboratory-static/widgets/colab-cdn-widget-manager/b3e629b1971e1542/manager.min.js"
                }
              }
            }
          }
        }
      ]
    },
    {
      "cell_type": "code",
      "source": [
        "view.render_image(trim=True, factor=2, transparent=True);"
      ],
      "metadata": {
        "id": "GHYk82dQNV2K"
      },
      "execution_count": 50,
      "outputs": []
    },
    {
      "cell_type": "code",
      "source": [
        "view._display_image()"
      ],
      "metadata": {
        "colab": {
          "base_uri": "https://localhost:8080/",
          "height": 288
        },
        "id": "qbqOTx55NaXq",
        "outputId": "a3d344c0-86c2-4447-8c20-7d6a5ceaa518"
      },
      "execution_count": 51,
      "outputs": [
        {
          "output_type": "execute_result",
          "data": {
            "image/png": "[encoded data removed]",
            "text/plain": [
              "<IPython.core.display.Image object>"
            ]
          },
          "metadata": {},
          "execution_count": 51
        }
      ]
    }
  ]
}