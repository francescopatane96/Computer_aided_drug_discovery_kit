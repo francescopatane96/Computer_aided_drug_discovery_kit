{
  "nbformat": 4,
  "nbformat_minor": 0,
  "metadata": {
    "colab": {
      "provenance": [],
      "authorship_tag": "ABX9TyMhl5by69Rtau45j94YrnP9",
      "include_colab_link": true
    },
    "kernelspec": {
      "name": "python3",
      "display_name": "Python 3"
    },
    "language_info": {
      "name": "python"
    },
    "widgets": {
      "application/vnd.jupyter.widget-state+json": {
        "52147787709943c4a12bb9978d76b367": {
          "model_module": "nglview-js-widgets",
          "model_name": "ColormakerRegistryModel",
          "model_module_version": "3.0.6",
          "state": {
            "_dom_classes": [],
            "_model_module": "nglview-js-widgets",
            "_model_module_version": "3.0.6",
            "_model_name": "ColormakerRegistryModel",
            "_msg_ar": [],
            "_msg_q": [],
            "_ready": false,
            "_view_count": null,
            "_view_module": "nglview-js-widgets",
            "_view_module_version": "3.0.6",
            "_view_name": "ColormakerRegistryView",
            "layout": "IPY_MODEL_3ce59f961c214746b014c9447f74fbe8"
          }
        },
        "72ba50f3d9104698bfce4a5892b594af": {
          "model_module": "nglview-js-widgets",
          "model_name": "NGLModel",
          "model_module_version": "3.0.6",
          "state": {
            "_camera_orientation": [
              22.761460385157676,
              0,
              0,
              0,
              0,
              22.761460385157676,
              0,
              0,
              0,
              0,
              22.761460385157676,
              0,
              -0.40600013732910156,
              -0.41050004959106445,
              0.2825000286102295,
              1
            ],
            "_camera_str": "orthographic",
            "_dom_classes": [],
            "_gui_theme": null,
            "_ibtn_fullscreen": "IPY_MODEL_55dd9deac9974f49989b35bee53d0909",
            "_igui": null,
            "_iplayer": "IPY_MODEL_6a9c531a57414858978d52f3430f115e",
            "_model_module": "nglview-js-widgets",
            "_model_module_version": "3.0.6",
            "_model_name": "NGLModel",
            "_ngl_color_dict": {},
            "_ngl_coordinate_resource": {},
            "_ngl_full_stage_parameters": {
              "impostor": true,
              "quality": "medium",
              "workerDefault": true,
              "sampleLevel": 0,
              "backgroundColor": "white",
              "rotateSpeed": 2,
              "zoomSpeed": 1.2,
              "panSpeed": 1,
              "clipNear": 0,
              "clipFar": 100,
              "clipDist": 10,
              "clipMode": "scene",
              "clipScale": "relative",
              "fogNear": 50,
              "fogFar": 100,
              "cameraFov": 40,
              "cameraEyeSep": 0.3,
              "cameraType": "perspective",
              "lightColor": 14540253,
              "lightIntensity": 1,
              "ambientColor": 14540253,
              "ambientIntensity": 0.2,
              "hoverTimeout": 0,
              "tooltip": true,
              "mousePreset": "default"
            },
            "_ngl_msg_archive": [
              {
                "target": "Stage",
                "type": "call_method",
                "methodName": "loadFile",
                "reconstruc_color_scheme": false,
                "args": [
                  {
                    "type": "blob",
                    "data": "HETATM    1  C1  UNL     1       7.719  -3.255  -1.557  1.00  0.00           C  \nHETATM    2  N1  UNL     1       6.536  -3.614  -0.754  1.00  0.00           N  \nHETATM    3  C2  UNL     1       6.790  -3.526   0.698  1.00  0.00           C  \nHETATM    4  C3  UNL     1       6.825  -2.072   1.203  1.00  0.00           C  \nHETATM    5  N2  UNL     1       5.608  -1.323   0.833  1.00  0.00           N  \nHETATM    6  C4  UNL     1       4.440  -1.699   1.662  1.00  0.00           C  \nHETATM    7  C5  UNL     1       3.363  -0.648   1.578  1.00  0.00           C  \nHETATM    8  C6  UNL     1       3.652   0.684   1.912  1.00  0.00           C  \nHETATM    9  C7  UNL     1       2.657   1.663   1.837  1.00  0.00           C  \nHETATM   10  C8  UNL     1       1.352   1.327   1.431  1.00  0.00           C  \nHETATM   11  C9  UNL     1       1.064  -0.013   1.116  1.00  0.00           C  \nHETATM   12  C10 UNL     1       2.060  -0.990   1.186  1.00  0.00           C  \nHETATM   13  C11 UNL     1       0.298   2.369   1.362  1.00  0.00           C  \nHETATM   14  O1  UNL     1       0.494   3.493   1.902  1.00  0.00           O  \nHETATM   15  N3  UNL     1      -0.922   2.130   0.643  1.00  0.00           N  \nHETATM   16  C12 UNL     1      -2.187   2.736   0.966  1.00  0.00           C  \nHETATM   17  C13 UNL     1      -2.463   3.234   2.249  1.00  0.00           C  \nHETATM   18  C14 UNL     1      -3.712   3.788   2.538  1.00  0.00           C  \nHETATM   19  C15 UNL     1      -4.723   3.820   1.566  1.00  0.00           C  \nHETATM   20  C16 UNL     1      -6.068   4.401   1.912  1.00  0.00           C  \nHETATM   21  C17 UNL     1      -4.470   3.283   0.283  1.00  0.00           C  \nHETATM   22  N4  UNL     1      -5.499   3.275  -0.726  1.00  0.00           N  \nHETATM   23  C18 UNL     1      -5.758   2.152  -1.581  1.00  0.00           C  \nHETATM   24  N5  UNL     1      -6.716   2.240  -2.540  1.00  0.00           N  \nHETATM   25  C19 UNL     1      -6.997   1.184  -3.345  1.00  0.00           C  \nHETATM   26  C20 UNL     1      -6.301  -0.016  -3.195  1.00  0.00           C  \nHETATM   27  C21 UNL     1      -5.306  -0.101  -2.207  1.00  0.00           C  \nHETATM   28  N6  UNL     1      -5.077   0.985  -1.420  1.00  0.00           N  \nHETATM   29  C22 UNL     1      -4.501  -1.335  -1.983  1.00  0.00           C  \nHETATM   30  C23 UNL     1      -3.824  -1.520  -0.763  1.00  0.00           C  \nHETATM   31  C24 UNL     1      -3.050  -2.661  -0.550  1.00  0.00           C  \nHETATM   32  C25 UNL     1      -2.951  -3.617  -1.560  1.00  0.00           C  \nHETATM   33  N7  UNL     1      -3.595  -3.428  -2.741  1.00  0.00           N  \nHETATM   34  C26 UNL     1      -4.355  -2.325  -2.976  1.00  0.00           C  \nHETATM   35  C27 UNL     1      -3.193   2.771  -0.008  1.00  0.00           C  \nHETATM   36  C28 UNL     1       5.348  -1.403  -0.621  1.00  0.00           C  \nHETATM   37  C29 UNL     1       5.335  -2.852  -1.149  1.00  0.00           C  \nHETATM   38  H1  UNL     1       7.517  -3.438  -2.634  1.00  0.00           H  \nHETATM   39  H2  UNL     1       8.005  -2.190  -1.424  1.00  0.00           H  \nHETATM   40  H3  UNL     1       8.581  -3.897  -1.273  1.00  0.00           H  \nHETATM   41  H4  UNL     1       7.750  -4.026   0.954  1.00  0.00           H  \nHETATM   42  H5  UNL     1       5.998  -4.088   1.237  1.00  0.00           H  \nHETATM   43  H6  UNL     1       6.965  -2.071   2.306  1.00  0.00           H  \nHETATM   44  H7  UNL     1       7.712  -1.549   0.786  1.00  0.00           H  \nHETATM   45  H8  UNL     1       4.046  -2.697   1.371  1.00  0.00           H  \nHETATM   46  H9  UNL     1       4.735  -1.773   2.732  1.00  0.00           H  \nHETATM   47  H10 UNL     1       4.650   0.964   2.223  1.00  0.00           H  \nHETATM   48  H11 UNL     1       2.911   2.684   2.090  1.00  0.00           H  \nHETATM   49  H12 UNL     1       0.065  -0.318   0.833  1.00  0.00           H  \nHETATM   50  H13 UNL     1       1.812  -2.015   0.938  1.00  0.00           H  \nHETATM   51  H14 UNL     1      -0.874   1.519  -0.203  1.00  0.00           H  \nHETATM   52  H15 UNL     1      -1.726   3.182   3.039  1.00  0.00           H  \nHETATM   53  H16 UNL     1      -3.893   4.178   3.533  1.00  0.00           H  \nHETATM   54  H17 UNL     1      -6.138   4.657   2.991  1.00  0.00           H  \nHETATM   55  H18 UNL     1      -6.235   5.329   1.323  1.00  0.00           H  \nHETATM   56  H19 UNL     1      -6.868   3.668   1.679  1.00  0.00           H  \nHETATM   57  H20 UNL     1      -6.157   4.085  -0.782  1.00  0.00           H  \nHETATM   58  H21 UNL     1      -7.769   1.272  -4.098  1.00  0.00           H  \nHETATM   59  H22 UNL     1      -6.561  -0.853  -3.826  1.00  0.00           H  \nHETATM   60  H23 UNL     1      -3.895  -0.787   0.032  1.00  0.00           H  \nHETATM   61  H24 UNL     1      -2.533  -2.803   0.390  1.00  0.00           H  \nHETATM   62  H25 UNL     1      -2.356  -4.508  -1.407  1.00  0.00           H  \nHETATM   63  H26 UNL     1      -4.816  -2.219  -3.947  1.00  0.00           H  \nHETATM   64  H27 UNL     1      -2.974   2.403  -1.003  1.00  0.00           H  \nHETATM   65  H28 UNL     1       6.127  -0.820  -1.158  1.00  0.00           H  \nHETATM   66  H29 UNL     1       4.381  -0.917  -0.874  1.00  0.00           H  \nHETATM   67  H30 UNL     1       4.432  -3.381  -0.775  1.00  0.00           H  \nHETATM   68  H31 UNL     1       5.236  -2.834  -2.257  1.00  0.00           H  \nCONECT    1    2   38   39   40\nCONECT    2    3   37\nCONECT    3    4   41   42\nCONECT    4    5   43   44\nCONECT    5    6   36\nCONECT    6    7   45   46\nCONECT    7    8    8   12\nCONECT    8    9   47\nCONECT    9   10   10   48\nCONECT   10   11   13\nCONECT   11   12   12   49\nCONECT   12   50\nCONECT   13   14   14   15\nCONECT   15   16   51\nCONECT   16   17   17   35\nCONECT   17   18   52\nCONECT   18   19   19   53\nCONECT   19   20   21\nCONECT   20   54   55   56\nCONECT   21   22   35   35\nCONECT   22   23   57\nCONECT   23   24   24   28\nCONECT   24   25\nCONECT   25   26   26   58\nCONECT   26   27   59\nCONECT   27   28   28   29\nCONECT   29   30   30   34\nCONECT   30   31   60\nCONECT   31   32   32   61\nCONECT   32   33   62\nCONECT   33   34   34\nCONECT   34   63\nCONECT   35   64\nCONECT   36   37   65   66\nCONECT   37   67   68\nEND\n",
                    "binary": false
                  }
                ],
                "kwargs": {
                  "defaultRepresentation": true,
                  "ext": "pdb"
                }
              }
            ],
            "_ngl_original_stage_parameters": {
              "impostor": true,
              "quality": "medium",
              "workerDefault": true,
              "sampleLevel": 0,
              "backgroundColor": "white",
              "rotateSpeed": 2,
              "zoomSpeed": 1.2,
              "panSpeed": 1,
              "clipNear": 0,
              "clipFar": 100,
              "clipDist": 10,
              "clipMode": "scene",
              "clipScale": "relative",
              "fogNear": 50,
              "fogFar": 100,
              "cameraFov": 40,
              "cameraEyeSep": 0.3,
              "cameraType": "perspective",
              "lightColor": 14540253,
              "lightIntensity": 1,
              "ambientColor": 14540253,
              "ambientIntensity": 0.2,
              "hoverTimeout": 0,
              "tooltip": true,
              "mousePreset": "default"
            },
            "_ngl_repr_dict": {
              "0": {
                "0": {
                  "type": "ball+stick",
                  "params": {
                    "lazy": false,
                    "visible": true,
                    "quality": "high",
                    "sphereDetail": 2,
                    "radialSegments": 20,
                    "openEnded": true,
                    "disableImpostor": false,
                    "aspectRatio": 1.5,
                    "lineOnly": false,
                    "cylinderOnly": false,
                    "multipleBond": "off",
                    "bondScale": 0.3,
                    "bondSpacing": 0.75,
                    "linewidth": 2,
                    "radiusType": "size",
                    "radiusData": {},
                    "radiusSize": 0.15,
                    "radiusScale": 2,
                    "assembly": "default",
                    "defaultAssembly": "",
                    "clipNear": 0,
                    "clipRadius": 0,
                    "clipCenter": {
                      "x": 0,
                      "y": 0,
                      "z": 0
                    },
                    "flatShaded": false,
                    "opacity": 1,
                    "depthWrite": true,
                    "side": "double",
                    "wireframe": false,
                    "colorScheme": "element",
                    "colorScale": "",
                    "colorReverse": false,
                    "colorValue": 9474192,
                    "colorMode": "hcl",
                    "roughness": 0.4,
                    "metalness": 0,
                    "diffuse": 16777215,
                    "diffuseInterior": false,
                    "useInteriorColor": true,
                    "interiorColor": 2236962,
                    "interiorDarkening": 0,
                    "matrix": {
                      "elements": [
                        1,
                        0,
                        0,
                        0,
                        0,
                        1,
                        0,
                        0,
                        0,
                        0,
                        1,
                        0,
                        0,
                        0,
                        0,
                        1
                      ]
                    },
                    "disablePicking": false,
                    "sele": ""
                  }
                }
              },
              "1": {
                "0": {
                  "type": "ball+stick",
                  "params": {
                    "lazy": false,
                    "visible": true,
                    "quality": "high",
                    "sphereDetail": 2,
                    "radialSegments": 20,
                    "openEnded": true,
                    "disableImpostor": false,
                    "aspectRatio": 1.5,
                    "lineOnly": false,
                    "cylinderOnly": false,
                    "multipleBond": "off",
                    "bondScale": 0.3,
                    "bondSpacing": 0.75,
                    "linewidth": 2,
                    "radiusType": "size",
                    "radiusData": {},
                    "radiusSize": 0.15,
                    "radiusScale": 2,
                    "assembly": "default",
                    "defaultAssembly": "",
                    "clipNear": 0,
                    "clipRadius": 0,
                    "clipCenter": {
                      "x": 0,
                      "y": 0,
                      "z": 0
                    },
                    "flatShaded": false,
                    "opacity": 1,
                    "depthWrite": true,
                    "side": "double",
                    "wireframe": false,
                    "colorScheme": "element",
                    "colorScale": "",
                    "colorReverse": false,
                    "colorValue": 9474192,
                    "colorMode": "hcl",
                    "roughness": 0.4,
                    "metalness": 0,
                    "diffuse": 16777215,
                    "diffuseInterior": false,
                    "useInteriorColor": true,
                    "interiorColor": 2236962,
                    "interiorDarkening": 0,
                    "matrix": {
                      "elements": [
                        1,
                        0,
                        0,
                        0,
                        0,
                        1,
                        0,
                        0,
                        0,
                        0,
                        1,
                        0,
                        0,
                        0,
                        0,
                        1
                      ]
                    },
                    "disablePicking": false,
                    "sele": ""
                  }
                }
              }
            },
            "_ngl_serialize": false,
            "_ngl_version": "2.0.0-dev.39",
            "_ngl_view_id": [
              "4380C023-69DD-4ECE-8D36-AC2E0A0787A1"
            ],
            "_player_dict": {},
            "_scene_position": {},
            "_scene_rotation": {},
            "_synced_model_ids": [],
            "_synced_repr_model_ids": [],
            "_view_count": null,
            "_view_height": "",
            "_view_module": "nglview-js-widgets",
            "_view_module_version": "3.0.6",
            "_view_name": "NGLView",
            "_view_width": "",
            "background": "white",
            "frame": 0,
            "gui_style": null,
            "layout": "IPY_MODEL_1ced863767ac4b659c5ecef4024d6f96",
            "max_frame": 0,
            "n_components": 2,
            "picked": {}
          }
        },
        "1ced863767ac4b659c5ecef4024d6f96": {
          "model_module": "@jupyter-widgets/base",
          "model_name": "LayoutModel",
          "model_module_version": "1.2.0",
          "state": {
            "_model_module": "@jupyter-widgets/base",
            "_model_module_version": "1.2.0",
            "_model_name": "LayoutModel",
            "_view_count": null,
            "_view_module": "@jupyter-widgets/base",
            "_view_module_version": "1.2.0",
            "_view_name": "LayoutView",
            "align_content": null,
            "align_items": null,
            "align_self": null,
            "border": null,
            "bottom": null,
            "display": null,
            "flex": null,
            "flex_flow": null,
            "grid_area": null,
            "grid_auto_columns": null,
            "grid_auto_flow": null,
            "grid_auto_rows": null,
            "grid_column": null,
            "grid_gap": null,
            "grid_row": null,
            "grid_template_areas": null,
            "grid_template_columns": null,
            "grid_template_rows": null,
            "height": null,
            "justify_content": null,
            "justify_items": null,
            "left": null,
            "margin": null,
            "max_height": null,
            "max_width": null,
            "min_height": null,
            "min_width": null,
            "object_fit": null,
            "object_position": null,
            "order": null,
            "overflow": null,
            "overflow_x": null,
            "overflow_y": null,
            "padding": null,
            "right": null,
            "top": null,
            "visibility": null,
            "width": null
          }
        },
        "55dd9deac9974f49989b35bee53d0909": {
          "model_module": "@jupyter-widgets/controls",
          "model_name": "ButtonModel",
          "model_module_version": "1.5.0",
          "state": {
            "_dom_classes": [],
            "_model_module": "@jupyter-widgets/controls",
            "_model_module_version": "1.5.0",
            "_model_name": "ButtonModel",
            "_view_count": null,
            "_view_module": "@jupyter-widgets/controls",
            "_view_module_version": "1.5.0",
            "_view_name": "ButtonView",
            "button_style": "",
            "description": "",
            "disabled": false,
            "icon": "compress",
            "layout": "IPY_MODEL_aaa19a827b0e4bbf9410bb630270b3dc",
            "style": "IPY_MODEL_15202c332f084623b3f0a8cdb6494275",
            "tooltip": ""
          }
        },
        "6a9c531a57414858978d52f3430f115e": {
          "model_module": "@jupyter-widgets/controls",
          "model_name": "HBoxModel",
          "model_module_version": "1.5.0",
          "state": {
            "_dom_classes": [],
            "_model_module": "@jupyter-widgets/controls",
            "_model_module_version": "1.5.0",
            "_model_name": "HBoxModel",
            "_view_count": null,
            "_view_module": "@jupyter-widgets/controls",
            "_view_module_version": "1.5.0",
            "_view_name": "HBoxView",
            "box_style": "",
            "children": [
              "IPY_MODEL_ecd2833607814190830d22d21c264bd6",
              "IPY_MODEL_10adda7e2ce2496eb181bec2e37c3f26"
            ],
            "layout": "IPY_MODEL_6afc655db0f340bd83ad8293b78ef2b7"
          }
        },
        "19048b4381e24f4797080e12edbb3bcc": {
          "model_module": "@jupyter-widgets/base",
          "model_name": "LayoutModel",
          "model_module_version": "1.2.0",
          "state": {
            "_model_module": "@jupyter-widgets/base",
            "_model_module_version": "1.2.0",
            "_model_name": "LayoutModel",
            "_view_count": null,
            "_view_module": "@jupyter-widgets/base",
            "_view_module_version": "1.2.0",
            "_view_name": "LayoutView",
            "align_content": null,
            "align_items": null,
            "align_self": null,
            "border": null,
            "bottom": null,
            "display": null,
            "flex": null,
            "flex_flow": null,
            "grid_area": null,
            "grid_auto_columns": null,
            "grid_auto_flow": null,
            "grid_auto_rows": null,
            "grid_column": null,
            "grid_gap": null,
            "grid_row": null,
            "grid_template_areas": null,
            "grid_template_columns": null,
            "grid_template_rows": null,
            "height": null,
            "justify_content": null,
            "justify_items": null,
            "left": null,
            "margin": null,
            "max_height": null,
            "max_width": null,
            "min_height": null,
            "min_width": null,
            "object_fit": null,
            "object_position": null,
            "order": null,
            "overflow": null,
            "overflow_x": null,
            "overflow_y": null,
            "padding": null,
            "right": null,
            "top": null,
            "visibility": null,
            "width": null
          }
        },
        "8b539872ac6547d897ff50ad7abfa35f": {
          "model_module": "@jupyter-widgets/controls",
          "model_name": "DescriptionStyleModel",
          "model_module_version": "1.5.0",
          "state": {
            "_model_module": "@jupyter-widgets/controls",
            "_model_module_version": "1.5.0",
            "_model_name": "DescriptionStyleModel",
            "_view_count": null,
            "_view_module": "@jupyter-widgets/base",
            "_view_module_version": "1.2.0",
            "_view_name": "StyleView",
            "description_width": ""
          }
        },
        "cfee6c848721407fb2f9c856472ec210": {
          "model_module": "@jupyter-widgets/base",
          "model_name": "LayoutModel",
          "model_module_version": "1.2.0",
          "state": {
            "_model_module": "@jupyter-widgets/base",
            "_model_module_version": "1.2.0",
            "_model_name": "LayoutModel",
            "_view_count": null,
            "_view_module": "@jupyter-widgets/base",
            "_view_module_version": "1.2.0",
            "_view_name": "LayoutView",
            "align_content": null,
            "align_items": null,
            "align_self": null,
            "border": null,
            "bottom": null,
            "display": null,
            "flex": null,
            "flex_flow": null,
            "grid_area": null,
            "grid_auto_columns": null,
            "grid_auto_flow": null,
            "grid_auto_rows": null,
            "grid_column": null,
            "grid_gap": null,
            "grid_row": null,
            "grid_template_areas": null,
            "grid_template_columns": null,
            "grid_template_rows": null,
            "height": null,
            "justify_content": null,
            "justify_items": null,
            "left": null,
            "margin": null,
            "max_height": null,
            "max_width": null,
            "min_height": null,
            "min_width": null,
            "object_fit": null,
            "object_position": null,
            "order": null,
            "overflow": null,
            "overflow_x": null,
            "overflow_y": null,
            "padding": null,
            "right": null,
            "top": null,
            "visibility": null,
            "width": null
          }
        },
        "6bd6a2bb59f54b14a53880548d18ad81": {
          "model_module": "@jupyter-widgets/controls",
          "model_name": "SliderStyleModel",
          "model_module_version": "1.5.0",
          "state": {
            "_model_module": "@jupyter-widgets/controls",
            "_model_module_version": "1.5.0",
            "_model_name": "SliderStyleModel",
            "_view_count": null,
            "_view_module": "@jupyter-widgets/base",
            "_view_module_version": "1.2.0",
            "_view_name": "StyleView",
            "description_width": "",
            "handle_color": null
          }
        },
        "ecd2833607814190830d22d21c264bd6": {
          "model_module": "@jupyter-widgets/controls",
          "model_name": "PlayModel",
          "model_module_version": "1.5.0",
          "state": {
            "_dom_classes": [],
            "_model_module": "@jupyter-widgets/controls",
            "_model_module_version": "1.5.0",
            "_model_name": "PlayModel",
            "_playing": false,
            "_repeat": false,
            "_view_count": null,
            "_view_module": "@jupyter-widgets/controls",
            "_view_module_version": "1.5.0",
            "_view_name": "PlayView",
            "description": "",
            "description_tooltip": null,
            "disabled": false,
            "interval": 100,
            "layout": "IPY_MODEL_19048b4381e24f4797080e12edbb3bcc",
            "max": 0,
            "min": 0,
            "show_repeat": true,
            "step": 1,
            "style": "IPY_MODEL_8b539872ac6547d897ff50ad7abfa35f",
            "value": 0
          }
        },
        "10adda7e2ce2496eb181bec2e37c3f26": {
          "model_module": "@jupyter-widgets/controls",
          "model_name": "IntSliderModel",
          "model_module_version": "1.5.0",
          "state": {
            "_dom_classes": [],
            "_model_module": "@jupyter-widgets/controls",
            "_model_module_version": "1.5.0",
            "_model_name": "IntSliderModel",
            "_view_count": null,
            "_view_module": "@jupyter-widgets/controls",
            "_view_module_version": "1.5.0",
            "_view_name": "IntSliderView",
            "continuous_update": true,
            "description": "",
            "description_tooltip": null,
            "disabled": false,
            "layout": "IPY_MODEL_cfee6c848721407fb2f9c856472ec210",
            "max": 0,
            "min": 0,
            "orientation": "horizontal",
            "readout": true,
            "readout_format": "d",
            "step": 1,
            "style": "IPY_MODEL_6bd6a2bb59f54b14a53880548d18ad81",
            "value": 0
          }
        },
        "aaa19a827b0e4bbf9410bb630270b3dc": {
          "model_module": "@jupyter-widgets/base",
          "model_name": "LayoutModel",
          "model_module_version": "1.2.0",
          "state": {
            "_model_module": "@jupyter-widgets/base",
            "_model_module_version": "1.2.0",
            "_model_name": "LayoutModel",
            "_view_count": null,
            "_view_module": "@jupyter-widgets/base",
            "_view_module_version": "1.2.0",
            "_view_name": "LayoutView",
            "align_content": null,
            "align_items": null,
            "align_self": null,
            "border": null,
            "bottom": null,
            "display": null,
            "flex": null,
            "flex_flow": null,
            "grid_area": null,
            "grid_auto_columns": null,
            "grid_auto_flow": null,
            "grid_auto_rows": null,
            "grid_column": null,
            "grid_gap": null,
            "grid_row": null,
            "grid_template_areas": null,
            "grid_template_columns": null,
            "grid_template_rows": null,
            "height": null,
            "justify_content": null,
            "justify_items": null,
            "left": null,
            "margin": null,
            "max_height": null,
            "max_width": null,
            "min_height": null,
            "min_width": null,
            "object_fit": null,
            "object_position": null,
            "order": null,
            "overflow": null,
            "overflow_x": null,
            "overflow_y": null,
            "padding": null,
            "right": null,
            "top": null,
            "visibility": null,
            "width": "34px"
          }
        },
        "15202c332f084623b3f0a8cdb6494275": {
          "model_module": "@jupyter-widgets/controls",
          "model_name": "ButtonStyleModel",
          "model_module_version": "1.5.0",
          "state": {
            "_model_module": "@jupyter-widgets/controls",
            "_model_module_version": "1.5.0",
            "_model_name": "ButtonStyleModel",
            "_view_count": null,
            "_view_module": "@jupyter-widgets/base",
            "_view_module_version": "1.2.0",
            "_view_name": "StyleView",
            "button_color": null,
            "font_weight": ""
          }
        },
        "6afc655db0f340bd83ad8293b78ef2b7": {
          "model_module": "@jupyter-widgets/base",
          "model_name": "LayoutModel",
          "model_module_version": "1.2.0",
          "state": {
            "_model_module": "@jupyter-widgets/base",
            "_model_module_version": "1.2.0",
            "_model_name": "LayoutModel",
            "_view_count": null,
            "_view_module": "@jupyter-widgets/base",
            "_view_module_version": "1.2.0",
            "_view_name": "LayoutView",
            "align_content": null,
            "align_items": null,
            "align_self": null,
            "border": null,
            "bottom": null,
            "display": null,
            "flex": null,
            "flex_flow": null,
            "grid_area": null,
            "grid_auto_columns": null,
            "grid_auto_flow": null,
            "grid_auto_rows": null,
            "grid_column": null,
            "grid_gap": null,
            "grid_row": null,
            "grid_template_areas": null,
            "grid_template_columns": null,
            "grid_template_rows": null,
            "height": null,
            "justify_content": null,
            "justify_items": null,
            "left": null,
            "margin": null,
            "max_height": null,
            "max_width": null,
            "min_height": null,
            "min_width": null,
            "object_fit": null,
            "object_position": null,
            "order": null,
            "overflow": null,
            "overflow_x": null,
            "overflow_y": null,
            "padding": null,
            "right": null,
            "top": null,
            "visibility": null,
            "width": null
          }
        },
        "e78d9027b20a418ca2020d62bce5bfc3": {
          "model_module": "nglview-js-widgets",
          "model_name": "NGLModel",
          "model_module_version": "3.0.6",
          "state": {
            "_camera_orientation": [
              125.81517590104193,
              0,
              0,
              0,
              0,
              125.81517590104193,
              0,
              0,
              0,
              0,
              125.81517590104193,
              0,
              -10.970355987548828,
              -12.237818717956543,
              -35.275373458862305,
              1
            ],
            "_camera_str": "orthographic",
            "_dom_classes": [],
            "_gui_theme": null,
            "_ibtn_fullscreen": "IPY_MODEL_1562ad375b5941fbb0380e1d50ec4887",
            "_igui": null,
            "_iplayer": "IPY_MODEL_fd73ebc6f5014d9fb9dfb3c7a4789607",
            "_model_module": "nglview-js-widgets",
            "_model_module_version": "3.0.6",
            "_model_name": "NGLModel",
            "_ngl_color_dict": {},
            "_ngl_coordinate_resource": {},
            "_ngl_full_stage_parameters": {
              "impostor": true,
              "quality": "medium",
              "workerDefault": true,
              "sampleLevel": 0,
              "backgroundColor": "white",
              "rotateSpeed": 2,
              "zoomSpeed": 1.2,
              "panSpeed": 1,
              "clipNear": 0,
              "clipFar": 100,
              "clipDist": 10,
              "clipMode": "scene",
              "clipScale": "relative",
              "fogNear": 50,
              "fogFar": 100,
              "cameraFov": 40,
              "cameraEyeSep": 0.3,
              "cameraType": "perspective",
              "lightColor": 14540253,
              "lightIntensity": 1,
              "ambientColor": 14540253,
              "ambientIntensity": 0.2,
              "hoverTimeout": 0,
              "tooltip": true,
              "mousePreset": "default"
            },
            "_ngl_msg_archive": [
              {
                "target": "Stage",
                "type": "call_method",
                "methodName": "loadFile",
                "reconstruc_color_scheme": false,
                "args": [
                  {
                    "type": "url",
                    "data": "rcsb://3HEC.pdb",
                    "binary": false
                  }
                ],
                "kwargs": {
                  "defaultRepresentation": true
                }
              },
              {
                "target": "Stage",
                "type": "call_method",
                "methodName": "loadFile",
                "reconstruc_color_scheme": false,
                "args": [
                  {
                    "type": "url",
                    "data": "rcsb://2PL0.pdb",
                    "binary": false
                  }
                ],
                "kwargs": {
                  "defaultRepresentation": true
                }
              },
              {
                "target": "Stage",
                "type": "call_method",
                "methodName": "loadFile",
                "reconstruc_color_scheme": false,
                "args": [
                  {
                    "type": "url",
                    "data": "rcsb://4CSV.pdb",
                    "binary": false
                  }
                ],
                "kwargs": {
                  "defaultRepresentation": true
                }
              },
              {
                "target": "Stage",
                "type": "call_method",
                "methodName": "loadFile",
                "reconstruc_color_scheme": false,
                "args": [
                  {
                    "type": "url",
                    "data": "rcsb://4R7I.pdb",
                    "binary": false
                  }
                ],
                "kwargs": {
                  "defaultRepresentation": true
                }
              },
              {
                "target": "Stage",
                "type": "call_method",
                "methodName": "loadFile",
                "reconstruc_color_scheme": false,
                "args": [
                  {
                    "type": "url",
                    "data": "rcsb://1XBB.pdb",
                    "binary": false
                  }
                ],
                "kwargs": {
                  "defaultRepresentation": true
                }
              },
              {
                "target": "Stage",
                "type": "call_method",
                "methodName": "loadFile",
                "reconstruc_color_scheme": false,
                "args": [
                  {
                    "type": "url",
                    "data": "rcsb://3FW1.pdb",
                    "binary": false
                  }
                ],
                "kwargs": {
                  "defaultRepresentation": true
                }
              },
              {
                "target": "Stage",
                "type": "call_method",
                "methodName": "loadFile",
                "reconstruc_color_scheme": false,
                "args": [
                  {
                    "type": "url",
                    "data": "rcsb://1T46.pdb",
                    "binary": false
                  }
                ],
                "kwargs": {
                  "defaultRepresentation": true
                }
              }
            ],
            "_ngl_original_stage_parameters": {
              "impostor": true,
              "quality": "medium",
              "workerDefault": true,
              "sampleLevel": 0,
              "backgroundColor": "white",
              "rotateSpeed": 2,
              "zoomSpeed": 1.2,
              "panSpeed": 1,
              "clipNear": 0,
              "clipFar": 100,
              "clipDist": 10,
              "clipMode": "scene",
              "clipScale": "relative",
              "fogNear": 50,
              "fogFar": 100,
              "cameraFov": 40,
              "cameraEyeSep": 0.3,
              "cameraType": "perspective",
              "lightColor": 14540253,
              "lightIntensity": 1,
              "ambientColor": 14540253,
              "ambientIntensity": 0.2,
              "hoverTimeout": 0,
              "tooltip": true,
              "mousePreset": "default"
            },
            "_ngl_repr_dict": {
              "0": {
                "0": {
                  "type": "cartoon",
                  "params": {
                    "lazy": false,
                    "visible": true,
                    "quality": "high",
                    "aspectRatio": 5,
                    "subdiv": 6,
                    "radialSegments": 20,
                    "tension": null,
                    "capped": true,
                    "smoothSheet": false,
                    "radiusType": "sstruc",
                    "radiusData": {},
                    "radiusSize": 1,
                    "radiusScale": 0.7,
                    "assembly": "default",
                    "defaultAssembly": "BU1",
                    "clipNear": 0,
                    "clipRadius": 0,
                    "clipCenter": {
                      "x": 0,
                      "y": 0,
                      "z": 0
                    },
                    "flatShaded": false,
                    "opacity": 1,
                    "depthWrite": true,
                    "side": "double",
                    "wireframe": false,
                    "colorScheme": "residueindex",
                    "colorScale": "spectral",
                    "colorReverse": true,
                    "colorValue": 9474192,
                    "colorMode": "hcl",
                    "roughness": 0.4,
                    "metalness": 0,
                    "diffuse": 16777215,
                    "diffuseInterior": false,
                    "useInteriorColor": true,
                    "interiorColor": 2236962,
                    "interiorDarkening": 0,
                    "matrix": {
                      "elements": [
                        1,
                        0,
                        0,
                        0,
                        0,
                        1,
                        0,
                        0,
                        0,
                        0,
                        1,
                        0,
                        0,
                        0,
                        0,
                        1
                      ]
                    },
                    "disablePicking": false,
                    "sele": ""
                  }
                },
                "1": {
                  "type": "base",
                  "params": {
                    "lazy": false,
                    "visible": true,
                    "quality": "high",
                    "sphereDetail": 2,
                    "radialSegments": 20,
                    "openEnded": true,
                    "disableImpostor": false,
                    "aspectRatio": 1,
                    "lineOnly": false,
                    "cylinderOnly": false,
                    "bondScale": 0.4,
                    "linewidth": 2,
                    "radiusType": "size",
                    "radiusData": {},
                    "radiusSize": 0.3,
                    "radiusScale": 1,
                    "assembly": "default",
                    "defaultAssembly": "BU1",
                    "clipNear": 0,
                    "clipRadius": 0,
                    "clipCenter": {
                      "x": 0,
                      "y": 0,
                      "z": 0
                    },
                    "flatShaded": false,
                    "opacity": 1,
                    "depthWrite": true,
                    "side": "double",
                    "wireframe": false,
                    "colorScheme": "residueindex",
                    "colorScale": "spectral",
                    "colorReverse": true,
                    "colorValue": 9474192,
                    "colorMode": "hcl",
                    "roughness": 0.4,
                    "metalness": 0,
                    "diffuse": 16777215,
                    "diffuseInterior": false,
                    "useInteriorColor": true,
                    "interiorColor": 2236962,
                    "interiorDarkening": 0,
                    "matrix": {
                      "elements": [
                        1,
                        0,
                        0,
                        0,
                        0,
                        1,
                        0,
                        0,
                        0,
                        0,
                        1,
                        0,
                        0,
                        0,
                        0,
                        1
                      ]
                    },
                    "disablePicking": false,
                    "sele": ""
                  }
                },
                "2": {
                  "type": "ball+stick",
                  "params": {
                    "lazy": false,
                    "visible": true,
                    "quality": "high",
                    "sphereDetail": 2,
                    "radialSegments": 20,
                    "openEnded": true,
                    "disableImpostor": false,
                    "aspectRatio": 1.5,
                    "lineOnly": false,
                    "cylinderOnly": false,
                    "multipleBond": "off",
                    "bondScale": 0.3,
                    "bondSpacing": 0.75,
                    "linewidth": 2,
                    "radiusType": "size",
                    "radiusData": {},
                    "radiusSize": 0.15,
                    "radiusScale": 2,
                    "assembly": "default",
                    "defaultAssembly": "BU1",
                    "clipNear": 0,
                    "clipRadius": 0,
                    "clipCenter": {
                      "x": 0,
                      "y": 0,
                      "z": 0
                    },
                    "flatShaded": false,
                    "opacity": 1,
                    "depthWrite": true,
                    "side": "double",
                    "wireframe": false,
                    "colorScheme": "element",
                    "colorScale": "",
                    "colorReverse": false,
                    "colorValue": 9474192,
                    "colorMode": "hcl",
                    "roughness": 0.4,
                    "metalness": 0,
                    "diffuse": 16777215,
                    "diffuseInterior": false,
                    "useInteriorColor": true,
                    "interiorColor": 2236962,
                    "interiorDarkening": 0,
                    "matrix": {
                      "elements": [
                        1,
                        0,
                        0,
                        0,
                        0,
                        1,
                        0,
                        0,
                        0,
                        0,
                        1,
                        0,
                        0,
                        0,
                        0,
                        1
                      ]
                    },
                    "disablePicking": false,
                    "sele": "ligand"
                  }
                }
              },
              "1": {
                "0": {
                  "type": "cartoon",
                  "params": {
                    "lazy": false,
                    "visible": true,
                    "quality": "high",
                    "aspectRatio": 5,
                    "subdiv": 6,
                    "radialSegments": 20,
                    "tension": null,
                    "capped": true,
                    "smoothSheet": false,
                    "radiusType": "sstruc",
                    "radiusData": {},
                    "radiusSize": 1,
                    "radiusScale": 0.7,
                    "assembly": "default",
                    "defaultAssembly": "BU1",
                    "clipNear": 0,
                    "clipRadius": 0,
                    "clipCenter": {
                      "x": 0,
                      "y": 0,
                      "z": 0
                    },
                    "flatShaded": false,
                    "opacity": 1,
                    "depthWrite": true,
                    "side": "double",
                    "wireframe": false,
                    "colorScheme": "residueindex",
                    "colorScale": "spectral",
                    "colorReverse": true,
                    "colorValue": 9474192,
                    "colorMode": "hcl",
                    "roughness": 0.4,
                    "metalness": 0,
                    "diffuse": 16777215,
                    "diffuseInterior": false,
                    "useInteriorColor": true,
                    "interiorColor": 2236962,
                    "interiorDarkening": 0,
                    "matrix": {
                      "elements": [
                        1,
                        0,
                        0,
                        0,
                        0,
                        1,
                        0,
                        0,
                        0,
                        0,
                        1,
                        0,
                        0,
                        0,
                        0,
                        1
                      ]
                    },
                    "disablePicking": false,
                    "sele": ""
                  }
                },
                "1": {
                  "type": "base",
                  "params": {
                    "lazy": false,
                    "visible": true,
                    "quality": "high",
                    "sphereDetail": 2,
                    "radialSegments": 20,
                    "openEnded": true,
                    "disableImpostor": false,
                    "aspectRatio": 1,
                    "lineOnly": false,
                    "cylinderOnly": false,
                    "bondScale": 0.4,
                    "linewidth": 2,
                    "radiusType": "size",
                    "radiusData": {},
                    "radiusSize": 0.3,
                    "radiusScale": 1,
                    "assembly": "default",
                    "defaultAssembly": "BU1",
                    "clipNear": 0,
                    "clipRadius": 0,
                    "clipCenter": {
                      "x": 0,
                      "y": 0,
                      "z": 0
                    },
                    "flatShaded": false,
                    "opacity": 1,
                    "depthWrite": true,
                    "side": "double",
                    "wireframe": false,
                    "colorScheme": "residueindex",
                    "colorScale": "spectral",
                    "colorReverse": true,
                    "colorValue": 9474192,
                    "colorMode": "hcl",
                    "roughness": 0.4,
                    "metalness": 0,
                    "diffuse": 16777215,
                    "diffuseInterior": false,
                    "useInteriorColor": true,
                    "interiorColor": 2236962,
                    "interiorDarkening": 0,
                    "matrix": {
                      "elements": [
                        1,
                        0,
                        0,
                        0,
                        0,
                        1,
                        0,
                        0,
                        0,
                        0,
                        1,
                        0,
                        0,
                        0,
                        0,
                        1
                      ]
                    },
                    "disablePicking": false,
                    "sele": ""
                  }
                },
                "2": {
                  "type": "ball+stick",
                  "params": {
                    "lazy": false,
                    "visible": true,
                    "quality": "high",
                    "sphereDetail": 2,
                    "radialSegments": 20,
                    "openEnded": true,
                    "disableImpostor": false,
                    "aspectRatio": 1.5,
                    "lineOnly": false,
                    "cylinderOnly": false,
                    "multipleBond": "off",
                    "bondScale": 0.3,
                    "bondSpacing": 0.75,
                    "linewidth": 2,
                    "radiusType": "size",
                    "radiusData": {},
                    "radiusSize": 0.15,
                    "radiusScale": 2,
                    "assembly": "default",
                    "defaultAssembly": "BU1",
                    "clipNear": 0,
                    "clipRadius": 0,
                    "clipCenter": {
                      "x": 0,
                      "y": 0,
                      "z": 0
                    },
                    "flatShaded": false,
                    "opacity": 1,
                    "depthWrite": true,
                    "side": "double",
                    "wireframe": false,
                    "colorScheme": "element",
                    "colorScale": "",
                    "colorReverse": false,
                    "colorValue": 9474192,
                    "colorMode": "hcl",
                    "roughness": 0.4,
                    "metalness": 0,
                    "diffuse": 16777215,
                    "diffuseInterior": false,
                    "useInteriorColor": true,
                    "interiorColor": 2236962,
                    "interiorDarkening": 0,
                    "matrix": {
                      "elements": [
                        1,
                        0,
                        0,
                        0,
                        0,
                        1,
                        0,
                        0,
                        0,
                        0,
                        1,
                        0,
                        0,
                        0,
                        0,
                        1
                      ]
                    },
                    "disablePicking": false,
                    "sele": "ligand"
                  }
                }
              },
              "2": {
                "0": {
                  "type": "cartoon",
                  "params": {
                    "lazy": false,
                    "visible": true,
                    "quality": "high",
                    "aspectRatio": 5,
                    "subdiv": 6,
                    "radialSegments": 20,
                    "tension": null,
                    "capped": true,
                    "smoothSheet": false,
                    "radiusType": "sstruc",
                    "radiusData": {},
                    "radiusSize": 1,
                    "radiusScale": 0.7,
                    "assembly": "default",
                    "defaultAssembly": "BU1",
                    "clipNear": 0,
                    "clipRadius": 0,
                    "clipCenter": {
                      "x": 0,
                      "y": 0,
                      "z": 0
                    },
                    "flatShaded": false,
                    "opacity": 1,
                    "depthWrite": true,
                    "side": "double",
                    "wireframe": false,
                    "colorScheme": "residueindex",
                    "colorScale": "spectral",
                    "colorReverse": true,
                    "colorValue": 9474192,
                    "colorMode": "hcl",
                    "roughness": 0.4,
                    "metalness": 0,
                    "diffuse": 16777215,
                    "diffuseInterior": false,
                    "useInteriorColor": true,
                    "interiorColor": 2236962,
                    "interiorDarkening": 0,
                    "matrix": {
                      "elements": [
                        1,
                        0,
                        0,
                        0,
                        0,
                        1,
                        0,
                        0,
                        0,
                        0,
                        1,
                        0,
                        0,
                        0,
                        0,
                        1
                      ]
                    },
                    "disablePicking": false,
                    "sele": ""
                  }
                },
                "1": {
                  "type": "base",
                  "params": {
                    "lazy": false,
                    "visible": true,
                    "quality": "high",
                    "sphereDetail": 2,
                    "radialSegments": 20,
                    "openEnded": true,
                    "disableImpostor": false,
                    "aspectRatio": 1,
                    "lineOnly": false,
                    "cylinderOnly": false,
                    "bondScale": 0.4,
                    "linewidth": 2,
                    "radiusType": "size",
                    "radiusData": {},
                    "radiusSize": 0.3,
                    "radiusScale": 1,
                    "assembly": "default",
                    "defaultAssembly": "BU1",
                    "clipNear": 0,
                    "clipRadius": 0,
                    "clipCenter": {
                      "x": 0,
                      "y": 0,
                      "z": 0
                    },
                    "flatShaded": false,
                    "opacity": 1,
                    "depthWrite": true,
                    "side": "double",
                    "wireframe": false,
                    "colorScheme": "residueindex",
                    "colorScale": "spectral",
                    "colorReverse": true,
                    "colorValue": 9474192,
                    "colorMode": "hcl",
                    "roughness": 0.4,
                    "metalness": 0,
                    "diffuse": 16777215,
                    "diffuseInterior": false,
                    "useInteriorColor": true,
                    "interiorColor": 2236962,
                    "interiorDarkening": 0,
                    "matrix": {
                      "elements": [
                        1,
                        0,
                        0,
                        0,
                        0,
                        1,
                        0,
                        0,
                        0,
                        0,
                        1,
                        0,
                        0,
                        0,
                        0,
                        1
                      ]
                    },
                    "disablePicking": false,
                    "sele": ""
                  }
                },
                "2": {
                  "type": "ball+stick",
                  "params": {
                    "lazy": false,
                    "visible": true,
                    "quality": "high",
                    "sphereDetail": 2,
                    "radialSegments": 20,
                    "openEnded": true,
                    "disableImpostor": false,
                    "aspectRatio": 1.5,
                    "lineOnly": false,
                    "cylinderOnly": false,
                    "multipleBond": "off",
                    "bondScale": 0.3,
                    "bondSpacing": 0.75,
                    "linewidth": 2,
                    "radiusType": "size",
                    "radiusData": {},
                    "radiusSize": 0.15,
                    "radiusScale": 2,
                    "assembly": "default",
                    "defaultAssembly": "BU1",
                    "clipNear": 0,
                    "clipRadius": 0,
                    "clipCenter": {
                      "x": 0,
                      "y": 0,
                      "z": 0
                    },
                    "flatShaded": false,
                    "opacity": 1,
                    "depthWrite": true,
                    "side": "double",
                    "wireframe": false,
                    "colorScheme": "element",
                    "colorScale": "",
                    "colorReverse": false,
                    "colorValue": 9474192,
                    "colorMode": "hcl",
                    "roughness": 0.4,
                    "metalness": 0,
                    "diffuse": 16777215,
                    "diffuseInterior": false,
                    "useInteriorColor": true,
                    "interiorColor": 2236962,
                    "interiorDarkening": 0,
                    "matrix": {
                      "elements": [
                        1,
                        0,
                        0,
                        0,
                        0,
                        1,
                        0,
                        0,
                        0,
                        0,
                        1,
                        0,
                        0,
                        0,
                        0,
                        1
                      ]
                    },
                    "disablePicking": false,
                    "sele": "ligand"
                  }
                }
              },
              "3": {
                "0": {
                  "type": "cartoon",
                  "params": {
                    "lazy": false,
                    "visible": true,
                    "quality": "high",
                    "aspectRatio": 5,
                    "subdiv": 6,
                    "radialSegments": 20,
                    "tension": null,
                    "capped": true,
                    "smoothSheet": false,
                    "radiusType": "sstruc",
                    "radiusData": {},
                    "radiusSize": 1,
                    "radiusScale": 0.7,
                    "assembly": "default",
                    "defaultAssembly": "BU1",
                    "clipNear": 0,
                    "clipRadius": 0,
                    "clipCenter": {
                      "x": 0,
                      "y": 0,
                      "z": 0
                    },
                    "flatShaded": false,
                    "opacity": 1,
                    "depthWrite": true,
                    "side": "double",
                    "wireframe": false,
                    "colorScheme": "residueindex",
                    "colorScale": "spectral",
                    "colorReverse": true,
                    "colorValue": 9474192,
                    "colorMode": "hcl",
                    "roughness": 0.4,
                    "metalness": 0,
                    "diffuse": 16777215,
                    "diffuseInterior": false,
                    "useInteriorColor": true,
                    "interiorColor": 2236962,
                    "interiorDarkening": 0,
                    "matrix": {
                      "elements": [
                        1,
                        0,
                        0,
                        0,
                        0,
                        1,
                        0,
                        0,
                        0,
                        0,
                        1,
                        0,
                        0,
                        0,
                        0,
                        1
                      ]
                    },
                    "disablePicking": false,
                    "sele": ""
                  }
                },
                "1": {
                  "type": "base",
                  "params": {
                    "lazy": false,
                    "visible": true,
                    "quality": "high",
                    "sphereDetail": 2,
                    "radialSegments": 20,
                    "openEnded": true,
                    "disableImpostor": false,
                    "aspectRatio": 1,
                    "lineOnly": false,
                    "cylinderOnly": false,
                    "bondScale": 0.4,
                    "linewidth": 2,
                    "radiusType": "size",
                    "radiusData": {},
                    "radiusSize": 0.3,
                    "radiusScale": 1,
                    "assembly": "default",
                    "defaultAssembly": "BU1",
                    "clipNear": 0,
                    "clipRadius": 0,
                    "clipCenter": {
                      "x": 0,
                      "y": 0,
                      "z": 0
                    },
                    "flatShaded": false,
                    "opacity": 1,
                    "depthWrite": true,
                    "side": "double",
                    "wireframe": false,
                    "colorScheme": "residueindex",
                    "colorScale": "spectral",
                    "colorReverse": true,
                    "colorValue": 9474192,
                    "colorMode": "hcl",
                    "roughness": 0.4,
                    "metalness": 0,
                    "diffuse": 16777215,
                    "diffuseInterior": false,
                    "useInteriorColor": true,
                    "interiorColor": 2236962,
                    "interiorDarkening": 0,
                    "matrix": {
                      "elements": [
                        1,
                        0,
                        0,
                        0,
                        0,
                        1,
                        0,
                        0,
                        0,
                        0,
                        1,
                        0,
                        0,
                        0,
                        0,
                        1
                      ]
                    },
                    "disablePicking": false,
                    "sele": ""
                  }
                },
                "2": {
                  "type": "ball+stick",
                  "params": {
                    "lazy": false,
                    "visible": true,
                    "quality": "high",
                    "sphereDetail": 2,
                    "radialSegments": 20,
                    "openEnded": true,
                    "disableImpostor": false,
                    "aspectRatio": 1.5,
                    "lineOnly": false,
                    "cylinderOnly": false,
                    "multipleBond": "off",
                    "bondScale": 0.3,
                    "bondSpacing": 0.75,
                    "linewidth": 2,
                    "radiusType": "size",
                    "radiusData": {},
                    "radiusSize": 0.15,
                    "radiusScale": 2,
                    "assembly": "default",
                    "defaultAssembly": "BU1",
                    "clipNear": 0,
                    "clipRadius": 0,
                    "clipCenter": {
                      "x": 0,
                      "y": 0,
                      "z": 0
                    },
                    "flatShaded": false,
                    "opacity": 1,
                    "depthWrite": true,
                    "side": "double",
                    "wireframe": false,
                    "colorScheme": "element",
                    "colorScale": "",
                    "colorReverse": false,
                    "colorValue": 9474192,
                    "colorMode": "hcl",
                    "roughness": 0.4,
                    "metalness": 0,
                    "diffuse": 16777215,
                    "diffuseInterior": false,
                    "useInteriorColor": true,
                    "interiorColor": 2236962,
                    "interiorDarkening": 0,
                    "matrix": {
                      "elements": [
                        1,
                        0,
                        0,
                        0,
                        0,
                        1,
                        0,
                        0,
                        0,
                        0,
                        1,
                        0,
                        0,
                        0,
                        0,
                        1
                      ]
                    },
                    "disablePicking": false,
                    "sele": "ligand"
                  }
                }
              },
              "4": {
                "0": {
                  "type": "cartoon",
                  "params": {
                    "lazy": false,
                    "visible": true,
                    "quality": "high",
                    "aspectRatio": 5,
                    "subdiv": 6,
                    "radialSegments": 20,
                    "tension": null,
                    "capped": true,
                    "smoothSheet": false,
                    "radiusType": "sstruc",
                    "radiusData": {},
                    "radiusSize": 1,
                    "radiusScale": 0.7,
                    "assembly": "default",
                    "defaultAssembly": "BU1",
                    "clipNear": 0,
                    "clipRadius": 0,
                    "clipCenter": {
                      "x": 0,
                      "y": 0,
                      "z": 0
                    },
                    "flatShaded": false,
                    "opacity": 1,
                    "depthWrite": true,
                    "side": "double",
                    "wireframe": false,
                    "colorScheme": "residueindex",
                    "colorScale": "spectral",
                    "colorReverse": true,
                    "colorValue": 9474192,
                    "colorMode": "hcl",
                    "roughness": 0.4,
                    "metalness": 0,
                    "diffuse": 16777215,
                    "diffuseInterior": false,
                    "useInteriorColor": true,
                    "interiorColor": 2236962,
                    "interiorDarkening": 0,
                    "matrix": {
                      "elements": [
                        1,
                        0,
                        0,
                        0,
                        0,
                        1,
                        0,
                        0,
                        0,
                        0,
                        1,
                        0,
                        0,
                        0,
                        0,
                        1
                      ]
                    },
                    "disablePicking": false,
                    "sele": ""
                  }
                },
                "1": {
                  "type": "base",
                  "params": {
                    "lazy": false,
                    "visible": true,
                    "quality": "high",
                    "sphereDetail": 2,
                    "radialSegments": 20,
                    "openEnded": true,
                    "disableImpostor": false,
                    "aspectRatio": 1,
                    "lineOnly": false,
                    "cylinderOnly": false,
                    "bondScale": 0.4,
                    "linewidth": 2,
                    "radiusType": "size",
                    "radiusData": {},
                    "radiusSize": 0.3,
                    "radiusScale": 1,
                    "assembly": "default",
                    "defaultAssembly": "BU1",
                    "clipNear": 0,
                    "clipRadius": 0,
                    "clipCenter": {
                      "x": 0,
                      "y": 0,
                      "z": 0
                    },
                    "flatShaded": false,
                    "opacity": 1,
                    "depthWrite": true,
                    "side": "double",
                    "wireframe": false,
                    "colorScheme": "residueindex",
                    "colorScale": "spectral",
                    "colorReverse": true,
                    "colorValue": 9474192,
                    "colorMode": "hcl",
                    "roughness": 0.4,
                    "metalness": 0,
                    "diffuse": 16777215,
                    "diffuseInterior": false,
                    "useInteriorColor": true,
                    "interiorColor": 2236962,
                    "interiorDarkening": 0,
                    "matrix": {
                      "elements": [
                        1,
                        0,
                        0,
                        0,
                        0,
                        1,
                        0,
                        0,
                        0,
                        0,
                        1,
                        0,
                        0,
                        0,
                        0,
                        1
                      ]
                    },
                    "disablePicking": false,
                    "sele": ""
                  }
                },
                "2": {
                  "type": "ball+stick",
                  "params": {
                    "lazy": false,
                    "visible": true,
                    "quality": "high",
                    "sphereDetail": 2,
                    "radialSegments": 20,
                    "openEnded": true,
                    "disableImpostor": false,
                    "aspectRatio": 1.5,
                    "lineOnly": false,
                    "cylinderOnly": false,
                    "multipleBond": "off",
                    "bondScale": 0.3,
                    "bondSpacing": 0.75,
                    "linewidth": 2,
                    "radiusType": "size",
                    "radiusData": {},
                    "radiusSize": 0.15,
                    "radiusScale": 2,
                    "assembly": "default",
                    "defaultAssembly": "BU1",
                    "clipNear": 0,
                    "clipRadius": 0,
                    "clipCenter": {
                      "x": 0,
                      "y": 0,
                      "z": 0
                    },
                    "flatShaded": false,
                    "opacity": 1,
                    "depthWrite": true,
                    "side": "double",
                    "wireframe": false,
                    "colorScheme": "element",
                    "colorScale": "",
                    "colorReverse": false,
                    "colorValue": 9474192,
                    "colorMode": "hcl",
                    "roughness": 0.4,
                    "metalness": 0,
                    "diffuse": 16777215,
                    "diffuseInterior": false,
                    "useInteriorColor": true,
                    "interiorColor": 2236962,
                    "interiorDarkening": 0,
                    "matrix": {
                      "elements": [
                        1,
                        0,
                        0,
                        0,
                        0,
                        1,
                        0,
                        0,
                        0,
                        0,
                        1,
                        0,
                        0,
                        0,
                        0,
                        1
                      ]
                    },
                    "disablePicking": false,
                    "sele": "ligand"
                  }
                }
              },
              "5": {
                "0": {
                  "type": "cartoon",
                  "params": {
                    "lazy": false,
                    "visible": true,
                    "quality": "high",
                    "aspectRatio": 5,
                    "subdiv": 6,
                    "radialSegments": 20,
                    "tension": null,
                    "capped": true,
                    "smoothSheet": false,
                    "radiusType": "sstruc",
                    "radiusData": {},
                    "radiusSize": 1,
                    "radiusScale": 0.7,
                    "assembly": "default",
                    "defaultAssembly": "BU1",
                    "clipNear": 0,
                    "clipRadius": 0,
                    "clipCenter": {
                      "x": 0,
                      "y": 0,
                      "z": 0
                    },
                    "flatShaded": false,
                    "opacity": 1,
                    "depthWrite": true,
                    "side": "double",
                    "wireframe": false,
                    "colorScheme": "residueindex",
                    "colorScale": "spectral",
                    "colorReverse": true,
                    "colorValue": 9474192,
                    "colorMode": "hcl",
                    "roughness": 0.4,
                    "metalness": 0,
                    "diffuse": 16777215,
                    "diffuseInterior": false,
                    "useInteriorColor": true,
                    "interiorColor": 2236962,
                    "interiorDarkening": 0,
                    "matrix": {
                      "elements": [
                        1,
                        0,
                        0,
                        0,
                        0,
                        1,
                        0,
                        0,
                        0,
                        0,
                        1,
                        0,
                        0,
                        0,
                        0,
                        1
                      ]
                    },
                    "disablePicking": false,
                    "sele": ""
                  }
                },
                "1": {
                  "type": "base",
                  "params": {
                    "lazy": false,
                    "visible": true,
                    "quality": "high",
                    "sphereDetail": 2,
                    "radialSegments": 20,
                    "openEnded": true,
                    "disableImpostor": false,
                    "aspectRatio": 1,
                    "lineOnly": false,
                    "cylinderOnly": false,
                    "bondScale": 0.4,
                    "linewidth": 2,
                    "radiusType": "size",
                    "radiusData": {},
                    "radiusSize": 0.3,
                    "radiusScale": 1,
                    "assembly": "default",
                    "defaultAssembly": "BU1",
                    "clipNear": 0,
                    "clipRadius": 0,
                    "clipCenter": {
                      "x": 0,
                      "y": 0,
                      "z": 0
                    },
                    "flatShaded": false,
                    "opacity": 1,
                    "depthWrite": true,
                    "side": "double",
                    "wireframe": false,
                    "colorScheme": "residueindex",
                    "colorScale": "spectral",
                    "colorReverse": true,
                    "colorValue": 9474192,
                    "colorMode": "hcl",
                    "roughness": 0.4,
                    "metalness": 0,
                    "diffuse": 16777215,
                    "diffuseInterior": false,
                    "useInteriorColor": true,
                    "interiorColor": 2236962,
                    "interiorDarkening": 0,
                    "matrix": {
                      "elements": [
                        1,
                        0,
                        0,
                        0,
                        0,
                        1,
                        0,
                        0,
                        0,
                        0,
                        1,
                        0,
                        0,
                        0,
                        0,
                        1
                      ]
                    },
                    "disablePicking": false,
                    "sele": ""
                  }
                },
                "2": {
                  "type": "ball+stick",
                  "params": {
                    "lazy": false,
                    "visible": true,
                    "quality": "high",
                    "sphereDetail": 2,
                    "radialSegments": 20,
                    "openEnded": true,
                    "disableImpostor": false,
                    "aspectRatio": 1.5,
                    "lineOnly": false,
                    "cylinderOnly": false,
                    "multipleBond": "off",
                    "bondScale": 0.3,
                    "bondSpacing": 0.75,
                    "linewidth": 2,
                    "radiusType": "size",
                    "radiusData": {},
                    "radiusSize": 0.15,
                    "radiusScale": 2,
                    "assembly": "default",
                    "defaultAssembly": "BU1",
                    "clipNear": 0,
                    "clipRadius": 0,
                    "clipCenter": {
                      "x": 0,
                      "y": 0,
                      "z": 0
                    },
                    "flatShaded": false,
                    "opacity": 1,
                    "depthWrite": true,
                    "side": "double",
                    "wireframe": false,
                    "colorScheme": "element",
                    "colorScale": "",
                    "colorReverse": false,
                    "colorValue": 9474192,
                    "colorMode": "hcl",
                    "roughness": 0.4,
                    "metalness": 0,
                    "diffuse": 16777215,
                    "diffuseInterior": false,
                    "useInteriorColor": true,
                    "interiorColor": 2236962,
                    "interiorDarkening": 0,
                    "matrix": {
                      "elements": [
                        1,
                        0,
                        0,
                        0,
                        0,
                        1,
                        0,
                        0,
                        0,
                        0,
                        1,
                        0,
                        0,
                        0,
                        0,
                        1
                      ]
                    },
                    "disablePicking": false,
                    "sele": "ligand"
                  }
                }
              },
              "6": {
                "0": {
                  "type": "cartoon",
                  "params": {
                    "lazy": false,
                    "visible": true,
                    "quality": "high",
                    "aspectRatio": 5,
                    "subdiv": 6,
                    "radialSegments": 20,
                    "tension": null,
                    "capped": true,
                    "smoothSheet": false,
                    "radiusType": "sstruc",
                    "radiusData": {},
                    "radiusSize": 1,
                    "radiusScale": 0.7,
                    "assembly": "default",
                    "defaultAssembly": "BU1",
                    "clipNear": 0,
                    "clipRadius": 0,
                    "clipCenter": {
                      "x": 0,
                      "y": 0,
                      "z": 0
                    },
                    "flatShaded": false,
                    "opacity": 1,
                    "depthWrite": true,
                    "side": "double",
                    "wireframe": false,
                    "colorScheme": "residueindex",
                    "colorScale": "spectral",
                    "colorReverse": true,
                    "colorValue": 9474192,
                    "colorMode": "hcl",
                    "roughness": 0.4,
                    "metalness": 0,
                    "diffuse": 16777215,
                    "diffuseInterior": false,
                    "useInteriorColor": true,
                    "interiorColor": 2236962,
                    "interiorDarkening": 0,
                    "matrix": {
                      "elements": [
                        1,
                        0,
                        0,
                        0,
                        0,
                        1,
                        0,
                        0,
                        0,
                        0,
                        1,
                        0,
                        0,
                        0,
                        0,
                        1
                      ]
                    },
                    "disablePicking": false,
                    "sele": ""
                  }
                },
                "1": {
                  "type": "base",
                  "params": {
                    "lazy": false,
                    "visible": true,
                    "quality": "high",
                    "sphereDetail": 2,
                    "radialSegments": 20,
                    "openEnded": true,
                    "disableImpostor": false,
                    "aspectRatio": 1,
                    "lineOnly": false,
                    "cylinderOnly": false,
                    "bondScale": 0.4,
                    "linewidth": 2,
                    "radiusType": "size",
                    "radiusData": {},
                    "radiusSize": 0.3,
                    "radiusScale": 1,
                    "assembly": "default",
                    "defaultAssembly": "BU1",
                    "clipNear": 0,
                    "clipRadius": 0,
                    "clipCenter": {
                      "x": 0,
                      "y": 0,
                      "z": 0
                    },
                    "flatShaded": false,
                    "opacity": 1,
                    "depthWrite": true,
                    "side": "double",
                    "wireframe": false,
                    "colorScheme": "residueindex",
                    "colorScale": "spectral",
                    "colorReverse": true,
                    "colorValue": 9474192,
                    "colorMode": "hcl",
                    "roughness": 0.4,
                    "metalness": 0,
                    "diffuse": 16777215,
                    "diffuseInterior": false,
                    "useInteriorColor": true,
                    "interiorColor": 2236962,
                    "interiorDarkening": 0,
                    "matrix": {
                      "elements": [
                        1,
                        0,
                        0,
                        0,
                        0,
                        1,
                        0,
                        0,
                        0,
                        0,
                        1,
                        0,
                        0,
                        0,
                        0,
                        1
                      ]
                    },
                    "disablePicking": false,
                    "sele": ""
                  }
                },
                "2": {
                  "type": "ball+stick",
                  "params": {
                    "lazy": false,
                    "visible": true,
                    "quality": "high",
                    "sphereDetail": 2,
                    "radialSegments": 20,
                    "openEnded": true,
                    "disableImpostor": false,
                    "aspectRatio": 1.5,
                    "lineOnly": false,
                    "cylinderOnly": false,
                    "multipleBond": "off",
                    "bondScale": 0.3,
                    "bondSpacing": 0.75,
                    "linewidth": 2,
                    "radiusType": "size",
                    "radiusData": {},
                    "radiusSize": 0.15,
                    "radiusScale": 2,
                    "assembly": "default",
                    "defaultAssembly": "BU1",
                    "clipNear": 0,
                    "clipRadius": 0,
                    "clipCenter": {
                      "x": 0,
                      "y": 0,
                      "z": 0
                    },
                    "flatShaded": false,
                    "opacity": 1,
                    "depthWrite": true,
                    "side": "double",
                    "wireframe": false,
                    "colorScheme": "element",
                    "colorScale": "",
                    "colorReverse": false,
                    "colorValue": 9474192,
                    "colorMode": "hcl",
                    "roughness": 0.4,
                    "metalness": 0,
                    "diffuse": 16777215,
                    "diffuseInterior": false,
                    "useInteriorColor": true,
                    "interiorColor": 2236962,
                    "interiorDarkening": 0,
                    "matrix": {
                      "elements": [
                        1,
                        0,
                        0,
                        0,
                        0,
                        1,
                        0,
                        0,
                        0,
                        0,
                        1,
                        0,
                        0,
                        0,
                        0,
                        1
                      ]
                    },
                    "disablePicking": false,
                    "sele": "ligand"
                  }
                }
              },
              "7": {
                "0": {
                  "type": "cartoon",
                  "params": {
                    "lazy": false,
                    "visible": true,
                    "quality": "high",
                    "aspectRatio": 5,
                    "subdiv": 6,
                    "radialSegments": 20,
                    "tension": null,
                    "capped": true,
                    "smoothSheet": false,
                    "radiusType": "sstruc",
                    "radiusData": {},
                    "radiusSize": 1,
                    "radiusScale": 0.7,
                    "assembly": "default",
                    "defaultAssembly": "BU1",
                    "clipNear": 0,
                    "clipRadius": 0,
                    "clipCenter": {
                      "x": 0,
                      "y": 0,
                      "z": 0
                    },
                    "flatShaded": false,
                    "opacity": 1,
                    "depthWrite": true,
                    "side": "double",
                    "wireframe": false,
                    "colorScheme": "residueindex",
                    "colorScale": "spectral",
                    "colorReverse": true,
                    "colorValue": 9474192,
                    "colorMode": "hcl",
                    "roughness": 0.4,
                    "metalness": 0,
                    "diffuse": 16777215,
                    "diffuseInterior": false,
                    "useInteriorColor": true,
                    "interiorColor": 2236962,
                    "interiorDarkening": 0,
                    "matrix": {
                      "elements": [
                        1,
                        0,
                        0,
                        0,
                        0,
                        1,
                        0,
                        0,
                        0,
                        0,
                        1,
                        0,
                        0,
                        0,
                        0,
                        1
                      ]
                    },
                    "disablePicking": false,
                    "sele": ""
                  }
                },
                "1": {
                  "type": "base",
                  "params": {
                    "lazy": false,
                    "visible": true,
                    "quality": "high",
                    "sphereDetail": 2,
                    "radialSegments": 20,
                    "openEnded": true,
                    "disableImpostor": false,
                    "aspectRatio": 1,
                    "lineOnly": false,
                    "cylinderOnly": false,
                    "bondScale": 0.4,
                    "linewidth": 2,
                    "radiusType": "size",
                    "radiusData": {},
                    "radiusSize": 0.3,
                    "radiusScale": 1,
                    "assembly": "default",
                    "defaultAssembly": "BU1",
                    "clipNear": 0,
                    "clipRadius": 0,
                    "clipCenter": {
                      "x": 0,
                      "y": 0,
                      "z": 0
                    },
                    "flatShaded": false,
                    "opacity": 1,
                    "depthWrite": true,
                    "side": "double",
                    "wireframe": false,
                    "colorScheme": "residueindex",
                    "colorScale": "spectral",
                    "colorReverse": true,
                    "colorValue": 9474192,
                    "colorMode": "hcl",
                    "roughness": 0.4,
                    "metalness": 0,
                    "diffuse": 16777215,
                    "diffuseInterior": false,
                    "useInteriorColor": true,
                    "interiorColor": 2236962,
                    "interiorDarkening": 0,
                    "matrix": {
                      "elements": [
                        1,
                        0,
                        0,
                        0,
                        0,
                        1,
                        0,
                        0,
                        0,
                        0,
                        1,
                        0,
                        0,
                        0,
                        0,
                        1
                      ]
                    },
                    "disablePicking": false,
                    "sele": ""
                  }
                },
                "2": {
                  "type": "ball+stick",
                  "params": {
                    "lazy": false,
                    "visible": true,
                    "quality": "high",
                    "sphereDetail": 2,
                    "radialSegments": 20,
                    "openEnded": true,
                    "disableImpostor": false,
                    "aspectRatio": 1.5,
                    "lineOnly": false,
                    "cylinderOnly": false,
                    "multipleBond": "off",
                    "bondScale": 0.3,
                    "bondSpacing": 0.75,
                    "linewidth": 2,
                    "radiusType": "size",
                    "radiusData": {},
                    "radiusSize": 0.15,
                    "radiusScale": 2,
                    "assembly": "default",
                    "defaultAssembly": "BU1",
                    "clipNear": 0,
                    "clipRadius": 0,
                    "clipCenter": {
                      "x": 0,
                      "y": 0,
                      "z": 0
                    },
                    "flatShaded": false,
                    "opacity": 1,
                    "depthWrite": true,
                    "side": "double",
                    "wireframe": false,
                    "colorScheme": "element",
                    "colorScale": "",
                    "colorReverse": false,
                    "colorValue": 9474192,
                    "colorMode": "hcl",
                    "roughness": 0.4,
                    "metalness": 0,
                    "diffuse": 16777215,
                    "diffuseInterior": false,
                    "useInteriorColor": true,
                    "interiorColor": 2236962,
                    "interiorDarkening": 0,
                    "matrix": {
                      "elements": [
                        1,
                        0,
                        0,
                        0,
                        0,
                        1,
                        0,
                        0,
                        0,
                        0,
                        1,
                        0,
                        0,
                        0,
                        0,
                        1
                      ]
                    },
                    "disablePicking": false,
                    "sele": "ligand"
                  }
                }
              },
              "8": {
                "0": {
                  "type": "cartoon",
                  "params": {
                    "lazy": false,
                    "visible": true,
                    "quality": "high",
                    "aspectRatio": 5,
                    "subdiv": 6,
                    "radialSegments": 20,
                    "tension": null,
                    "capped": true,
                    "smoothSheet": false,
                    "radiusType": "sstruc",
                    "radiusData": {},
                    "radiusSize": 1,
                    "radiusScale": 0.7,
                    "assembly": "default",
                    "defaultAssembly": "BU1",
                    "clipNear": 0,
                    "clipRadius": 0,
                    "clipCenter": {
                      "x": 0,
                      "y": 0,
                      "z": 0
                    },
                    "flatShaded": false,
                    "opacity": 1,
                    "depthWrite": true,
                    "side": "double",
                    "wireframe": false,
                    "colorScheme": "residueindex",
                    "colorScale": "spectral",
                    "colorReverse": true,
                    "colorValue": 9474192,
                    "colorMode": "hcl",
                    "roughness": 0.4,
                    "metalness": 0,
                    "diffuse": 16777215,
                    "diffuseInterior": false,
                    "useInteriorColor": true,
                    "interiorColor": 2236962,
                    "interiorDarkening": 0,
                    "matrix": {
                      "elements": [
                        1,
                        0,
                        0,
                        0,
                        0,
                        1,
                        0,
                        0,
                        0,
                        0,
                        1,
                        0,
                        0,
                        0,
                        0,
                        1
                      ]
                    },
                    "disablePicking": false,
                    "sele": ""
                  }
                },
                "1": {
                  "type": "base",
                  "params": {
                    "lazy": false,
                    "visible": true,
                    "quality": "high",
                    "sphereDetail": 2,
                    "radialSegments": 20,
                    "openEnded": true,
                    "disableImpostor": false,
                    "aspectRatio": 1,
                    "lineOnly": false,
                    "cylinderOnly": false,
                    "bondScale": 0.4,
                    "linewidth": 2,
                    "radiusType": "size",
                    "radiusData": {},
                    "radiusSize": 0.3,
                    "radiusScale": 1,
                    "assembly": "default",
                    "defaultAssembly": "BU1",
                    "clipNear": 0,
                    "clipRadius": 0,
                    "clipCenter": {
                      "x": 0,
                      "y": 0,
                      "z": 0
                    },
                    "flatShaded": false,
                    "opacity": 1,
                    "depthWrite": true,
                    "side": "double",
                    "wireframe": false,
                    "colorScheme": "residueindex",
                    "colorScale": "spectral",
                    "colorReverse": true,
                    "colorValue": 9474192,
                    "colorMode": "hcl",
                    "roughness": 0.4,
                    "metalness": 0,
                    "diffuse": 16777215,
                    "diffuseInterior": false,
                    "useInteriorColor": true,
                    "interiorColor": 2236962,
                    "interiorDarkening": 0,
                    "matrix": {
                      "elements": [
                        1,
                        0,
                        0,
                        0,
                        0,
                        1,
                        0,
                        0,
                        0,
                        0,
                        1,
                        0,
                        0,
                        0,
                        0,
                        1
                      ]
                    },
                    "disablePicking": false,
                    "sele": ""
                  }
                },
                "2": {
                  "type": "ball+stick",
                  "params": {
                    "lazy": false,
                    "visible": true,
                    "quality": "high",
                    "sphereDetail": 2,
                    "radialSegments": 20,
                    "openEnded": true,
                    "disableImpostor": false,
                    "aspectRatio": 1.5,
                    "lineOnly": false,
                    "cylinderOnly": false,
                    "multipleBond": "off",
                    "bondScale": 0.3,
                    "bondSpacing": 0.75,
                    "linewidth": 2,
                    "radiusType": "size",
                    "radiusData": {},
                    "radiusSize": 0.15,
                    "radiusScale": 2,
                    "assembly": "default",
                    "defaultAssembly": "BU1",
                    "clipNear": 0,
                    "clipRadius": 0,
                    "clipCenter": {
                      "x": 0,
                      "y": 0,
                      "z": 0
                    },
                    "flatShaded": false,
                    "opacity": 1,
                    "depthWrite": true,
                    "side": "double",
                    "wireframe": false,
                    "colorScheme": "element",
                    "colorScale": "",
                    "colorReverse": false,
                    "colorValue": 9474192,
                    "colorMode": "hcl",
                    "roughness": 0.4,
                    "metalness": 0,
                    "diffuse": 16777215,
                    "diffuseInterior": false,
                    "useInteriorColor": true,
                    "interiorColor": 2236962,
                    "interiorDarkening": 0,
                    "matrix": {
                      "elements": [
                        1,
                        0,
                        0,
                        0,
                        0,
                        1,
                        0,
                        0,
                        0,
                        0,
                        1,
                        0,
                        0,
                        0,
                        0,
                        1
                      ]
                    },
                    "disablePicking": false,
                    "sele": "ligand"
                  }
                }
              },
              "9": {
                "0": {
                  "type": "cartoon",
                  "params": {
                    "lazy": false,
                    "visible": true,
                    "quality": "high",
                    "aspectRatio": 5,
                    "subdiv": 6,
                    "radialSegments": 20,
                    "tension": null,
                    "capped": true,
                    "smoothSheet": false,
                    "radiusType": "sstruc",
                    "radiusData": {},
                    "radiusSize": 1,
                    "radiusScale": 0.7,
                    "assembly": "default",
                    "defaultAssembly": "BU1",
                    "clipNear": 0,
                    "clipRadius": 0,
                    "clipCenter": {
                      "x": 0,
                      "y": 0,
                      "z": 0
                    },
                    "flatShaded": false,
                    "opacity": 1,
                    "depthWrite": true,
                    "side": "double",
                    "wireframe": false,
                    "colorScheme": "residueindex",
                    "colorScale": "spectral",
                    "colorReverse": true,
                    "colorValue": 9474192,
                    "colorMode": "hcl",
                    "roughness": 0.4,
                    "metalness": 0,
                    "diffuse": 16777215,
                    "diffuseInterior": false,
                    "useInteriorColor": true,
                    "interiorColor": 2236962,
                    "interiorDarkening": 0,
                    "matrix": {
                      "elements": [
                        1,
                        0,
                        0,
                        0,
                        0,
                        1,
                        0,
                        0,
                        0,
                        0,
                        1,
                        0,
                        0,
                        0,
                        0,
                        1
                      ]
                    },
                    "disablePicking": false,
                    "sele": ""
                  }
                },
                "1": {
                  "type": "base",
                  "params": {
                    "lazy": false,
                    "visible": true,
                    "quality": "high",
                    "sphereDetail": 2,
                    "radialSegments": 20,
                    "openEnded": true,
                    "disableImpostor": false,
                    "aspectRatio": 1,
                    "lineOnly": false,
                    "cylinderOnly": false,
                    "bondScale": 0.4,
                    "linewidth": 2,
                    "radiusType": "size",
                    "radiusData": {},
                    "radiusSize": 0.3,
                    "radiusScale": 1,
                    "assembly": "default",
                    "defaultAssembly": "BU1",
                    "clipNear": 0,
                    "clipRadius": 0,
                    "clipCenter": {
                      "x": 0,
                      "y": 0,
                      "z": 0
                    },
                    "flatShaded": false,
                    "opacity": 1,
                    "depthWrite": true,
                    "side": "double",
                    "wireframe": false,
                    "colorScheme": "residueindex",
                    "colorScale": "spectral",
                    "colorReverse": true,
                    "colorValue": 9474192,
                    "colorMode": "hcl",
                    "roughness": 0.4,
                    "metalness": 0,
                    "diffuse": 16777215,
                    "diffuseInterior": false,
                    "useInteriorColor": true,
                    "interiorColor": 2236962,
                    "interiorDarkening": 0,
                    "matrix": {
                      "elements": [
                        1,
                        0,
                        0,
                        0,
                        0,
                        1,
                        0,
                        0,
                        0,
                        0,
                        1,
                        0,
                        0,
                        0,
                        0,
                        1
                      ]
                    },
                    "disablePicking": false,
                    "sele": ""
                  }
                },
                "2": {
                  "type": "ball+stick",
                  "params": {
                    "lazy": false,
                    "visible": true,
                    "quality": "high",
                    "sphereDetail": 2,
                    "radialSegments": 20,
                    "openEnded": true,
                    "disableImpostor": false,
                    "aspectRatio": 1.5,
                    "lineOnly": false,
                    "cylinderOnly": false,
                    "multipleBond": "off",
                    "bondScale": 0.3,
                    "bondSpacing": 0.75,
                    "linewidth": 2,
                    "radiusType": "size",
                    "radiusData": {},
                    "radiusSize": 0.15,
                    "radiusScale": 2,
                    "assembly": "default",
                    "defaultAssembly": "BU1",
                    "clipNear": 0,
                    "clipRadius": 0,
                    "clipCenter": {
                      "x": 0,
                      "y": 0,
                      "z": 0
                    },
                    "flatShaded": false,
                    "opacity": 1,
                    "depthWrite": true,
                    "side": "double",
                    "wireframe": false,
                    "colorScheme": "element",
                    "colorScale": "",
                    "colorReverse": false,
                    "colorValue": 9474192,
                    "colorMode": "hcl",
                    "roughness": 0.4,
                    "metalness": 0,
                    "diffuse": 16777215,
                    "diffuseInterior": false,
                    "useInteriorColor": true,
                    "interiorColor": 2236962,
                    "interiorDarkening": 0,
                    "matrix": {
                      "elements": [
                        1,
                        0,
                        0,
                        0,
                        0,
                        1,
                        0,
                        0,
                        0,
                        0,
                        1,
                        0,
                        0,
                        0,
                        0,
                        1
                      ]
                    },
                    "disablePicking": false,
                    "sele": "ligand"
                  }
                }
              },
              "10": {
                "0": {
                  "type": "cartoon",
                  "params": {
                    "lazy": false,
                    "visible": true,
                    "quality": "high",
                    "aspectRatio": 5,
                    "subdiv": 6,
                    "radialSegments": 20,
                    "tension": null,
                    "capped": true,
                    "smoothSheet": false,
                    "radiusType": "sstruc",
                    "radiusData": {},
                    "radiusSize": 1,
                    "radiusScale": 0.7,
                    "assembly": "default",
                    "defaultAssembly": "BU1",
                    "clipNear": 0,
                    "clipRadius": 0,
                    "clipCenter": {
                      "x": 0,
                      "y": 0,
                      "z": 0
                    },
                    "flatShaded": false,
                    "opacity": 1,
                    "depthWrite": true,
                    "side": "double",
                    "wireframe": false,
                    "colorScheme": "residueindex",
                    "colorScale": "spectral",
                    "colorReverse": true,
                    "colorValue": 9474192,
                    "colorMode": "hcl",
                    "roughness": 0.4,
                    "metalness": 0,
                    "diffuse": 16777215,
                    "diffuseInterior": false,
                    "useInteriorColor": true,
                    "interiorColor": 2236962,
                    "interiorDarkening": 0,
                    "matrix": {
                      "elements": [
                        1,
                        0,
                        0,
                        0,
                        0,
                        1,
                        0,
                        0,
                        0,
                        0,
                        1,
                        0,
                        0,
                        0,
                        0,
                        1
                      ]
                    },
                    "disablePicking": false,
                    "sele": ""
                  }
                },
                "1": {
                  "type": "base",
                  "params": {
                    "lazy": false,
                    "visible": true,
                    "quality": "high",
                    "sphereDetail": 2,
                    "radialSegments": 20,
                    "openEnded": true,
                    "disableImpostor": false,
                    "aspectRatio": 1,
                    "lineOnly": false,
                    "cylinderOnly": false,
                    "bondScale": 0.4,
                    "linewidth": 2,
                    "radiusType": "size",
                    "radiusData": {},
                    "radiusSize": 0.3,
                    "radiusScale": 1,
                    "assembly": "default",
                    "defaultAssembly": "BU1",
                    "clipNear": 0,
                    "clipRadius": 0,
                    "clipCenter": {
                      "x": 0,
                      "y": 0,
                      "z": 0
                    },
                    "flatShaded": false,
                    "opacity": 1,
                    "depthWrite": true,
                    "side": "double",
                    "wireframe": false,
                    "colorScheme": "residueindex",
                    "colorScale": "spectral",
                    "colorReverse": true,
                    "colorValue": 9474192,
                    "colorMode": "hcl",
                    "roughness": 0.4,
                    "metalness": 0,
                    "diffuse": 16777215,
                    "diffuseInterior": false,
                    "useInteriorColor": true,
                    "interiorColor": 2236962,
                    "interiorDarkening": 0,
                    "matrix": {
                      "elements": [
                        1,
                        0,
                        0,
                        0,
                        0,
                        1,
                        0,
                        0,
                        0,
                        0,
                        1,
                        0,
                        0,
                        0,
                        0,
                        1
                      ]
                    },
                    "disablePicking": false,
                    "sele": ""
                  }
                },
                "2": {
                  "type": "ball+stick",
                  "params": {
                    "lazy": false,
                    "visible": true,
                    "quality": "high",
                    "sphereDetail": 2,
                    "radialSegments": 20,
                    "openEnded": true,
                    "disableImpostor": false,
                    "aspectRatio": 1.5,
                    "lineOnly": false,
                    "cylinderOnly": false,
                    "multipleBond": "off",
                    "bondScale": 0.3,
                    "bondSpacing": 0.75,
                    "linewidth": 2,
                    "radiusType": "size",
                    "radiusData": {},
                    "radiusSize": 0.15,
                    "radiusScale": 2,
                    "assembly": "default",
                    "defaultAssembly": "BU1",
                    "clipNear": 0,
                    "clipRadius": 0,
                    "clipCenter": {
                      "x": 0,
                      "y": 0,
                      "z": 0
                    },
                    "flatShaded": false,
                    "opacity": 1,
                    "depthWrite": true,
                    "side": "double",
                    "wireframe": false,
                    "colorScheme": "element",
                    "colorScale": "",
                    "colorReverse": false,
                    "colorValue": 9474192,
                    "colorMode": "hcl",
                    "roughness": 0.4,
                    "metalness": 0,
                    "diffuse": 16777215,
                    "diffuseInterior": false,
                    "useInteriorColor": true,
                    "interiorColor": 2236962,
                    "interiorDarkening": 0,
                    "matrix": {
                      "elements": [
                        1,
                        0,
                        0,
                        0,
                        0,
                        1,
                        0,
                        0,
                        0,
                        0,
                        1,
                        0,
                        0,
                        0,
                        0,
                        1
                      ]
                    },
                    "disablePicking": false,
                    "sele": "ligand"
                  }
                }
              },
              "11": {
                "0": {
                  "type": "cartoon",
                  "params": {
                    "lazy": false,
                    "visible": true,
                    "quality": "high",
                    "aspectRatio": 5,
                    "subdiv": 6,
                    "radialSegments": 20,
                    "tension": null,
                    "capped": true,
                    "smoothSheet": false,
                    "radiusType": "sstruc",
                    "radiusData": {},
                    "radiusSize": 1,
                    "radiusScale": 0.7,
                    "assembly": "default",
                    "defaultAssembly": "BU1",
                    "clipNear": 0,
                    "clipRadius": 0,
                    "clipCenter": {
                      "x": 0,
                      "y": 0,
                      "z": 0
                    },
                    "flatShaded": false,
                    "opacity": 1,
                    "depthWrite": true,
                    "side": "double",
                    "wireframe": false,
                    "colorScheme": "residueindex",
                    "colorScale": "spectral",
                    "colorReverse": true,
                    "colorValue": 9474192,
                    "colorMode": "hcl",
                    "roughness": 0.4,
                    "metalness": 0,
                    "diffuse": 16777215,
                    "diffuseInterior": false,
                    "useInteriorColor": true,
                    "interiorColor": 2236962,
                    "interiorDarkening": 0,
                    "matrix": {
                      "elements": [
                        1,
                        0,
                        0,
                        0,
                        0,
                        1,
                        0,
                        0,
                        0,
                        0,
                        1,
                        0,
                        0,
                        0,
                        0,
                        1
                      ]
                    },
                    "disablePicking": false,
                    "sele": ""
                  }
                },
                "1": {
                  "type": "base",
                  "params": {
                    "lazy": false,
                    "visible": true,
                    "quality": "high",
                    "sphereDetail": 2,
                    "radialSegments": 20,
                    "openEnded": true,
                    "disableImpostor": false,
                    "aspectRatio": 1,
                    "lineOnly": false,
                    "cylinderOnly": false,
                    "bondScale": 0.4,
                    "linewidth": 2,
                    "radiusType": "size",
                    "radiusData": {},
                    "radiusSize": 0.3,
                    "radiusScale": 1,
                    "assembly": "default",
                    "defaultAssembly": "BU1",
                    "clipNear": 0,
                    "clipRadius": 0,
                    "clipCenter": {
                      "x": 0,
                      "y": 0,
                      "z": 0
                    },
                    "flatShaded": false,
                    "opacity": 1,
                    "depthWrite": true,
                    "side": "double",
                    "wireframe": false,
                    "colorScheme": "residueindex",
                    "colorScale": "spectral",
                    "colorReverse": true,
                    "colorValue": 9474192,
                    "colorMode": "hcl",
                    "roughness": 0.4,
                    "metalness": 0,
                    "diffuse": 16777215,
                    "diffuseInterior": false,
                    "useInteriorColor": true,
                    "interiorColor": 2236962,
                    "interiorDarkening": 0,
                    "matrix": {
                      "elements": [
                        1,
                        0,
                        0,
                        0,
                        0,
                        1,
                        0,
                        0,
                        0,
                        0,
                        1,
                        0,
                        0,
                        0,
                        0,
                        1
                      ]
                    },
                    "disablePicking": false,
                    "sele": ""
                  }
                },
                "2": {
                  "type": "ball+stick",
                  "params": {
                    "lazy": false,
                    "visible": true,
                    "quality": "high",
                    "sphereDetail": 2,
                    "radialSegments": 20,
                    "openEnded": true,
                    "disableImpostor": false,
                    "aspectRatio": 1.5,
                    "lineOnly": false,
                    "cylinderOnly": false,
                    "multipleBond": "off",
                    "bondScale": 0.3,
                    "bondSpacing": 0.75,
                    "linewidth": 2,
                    "radiusType": "size",
                    "radiusData": {},
                    "radiusSize": 0.15,
                    "radiusScale": 2,
                    "assembly": "default",
                    "defaultAssembly": "BU1",
                    "clipNear": 0,
                    "clipRadius": 0,
                    "clipCenter": {
                      "x": 0,
                      "y": 0,
                      "z": 0
                    },
                    "flatShaded": false,
                    "opacity": 1,
                    "depthWrite": true,
                    "side": "double",
                    "wireframe": false,
                    "colorScheme": "element",
                    "colorScale": "",
                    "colorReverse": false,
                    "colorValue": 9474192,
                    "colorMode": "hcl",
                    "roughness": 0.4,
                    "metalness": 0,
                    "diffuse": 16777215,
                    "diffuseInterior": false,
                    "useInteriorColor": true,
                    "interiorColor": 2236962,
                    "interiorDarkening": 0,
                    "matrix": {
                      "elements": [
                        1,
                        0,
                        0,
                        0,
                        0,
                        1,
                        0,
                        0,
                        0,
                        0,
                        1,
                        0,
                        0,
                        0,
                        0,
                        1
                      ]
                    },
                    "disablePicking": false,
                    "sele": "ligand"
                  }
                }
              },
              "12": {
                "0": {
                  "type": "cartoon",
                  "params": {
                    "lazy": false,
                    "visible": true,
                    "quality": "high",
                    "aspectRatio": 5,
                    "subdiv": 6,
                    "radialSegments": 20,
                    "tension": null,
                    "capped": true,
                    "smoothSheet": false,
                    "radiusType": "sstruc",
                    "radiusData": {},
                    "radiusSize": 1,
                    "radiusScale": 0.7,
                    "assembly": "default",
                    "defaultAssembly": "BU1",
                    "clipNear": 0,
                    "clipRadius": 0,
                    "clipCenter": {
                      "x": 0,
                      "y": 0,
                      "z": 0
                    },
                    "flatShaded": false,
                    "opacity": 1,
                    "depthWrite": true,
                    "side": "double",
                    "wireframe": false,
                    "colorScheme": "residueindex",
                    "colorScale": "spectral",
                    "colorReverse": true,
                    "colorValue": 9474192,
                    "colorMode": "hcl",
                    "roughness": 0.4,
                    "metalness": 0,
                    "diffuse": 16777215,
                    "diffuseInterior": false,
                    "useInteriorColor": true,
                    "interiorColor": 2236962,
                    "interiorDarkening": 0,
                    "matrix": {
                      "elements": [
                        1,
                        0,
                        0,
                        0,
                        0,
                        1,
                        0,
                        0,
                        0,
                        0,
                        1,
                        0,
                        0,
                        0,
                        0,
                        1
                      ]
                    },
                    "disablePicking": false,
                    "sele": ""
                  }
                },
                "1": {
                  "type": "base",
                  "params": {
                    "lazy": false,
                    "visible": true,
                    "quality": "high",
                    "sphereDetail": 2,
                    "radialSegments": 20,
                    "openEnded": true,
                    "disableImpostor": false,
                    "aspectRatio": 1,
                    "lineOnly": false,
                    "cylinderOnly": false,
                    "bondScale": 0.4,
                    "linewidth": 2,
                    "radiusType": "size",
                    "radiusData": {},
                    "radiusSize": 0.3,
                    "radiusScale": 1,
                    "assembly": "default",
                    "defaultAssembly": "BU1",
                    "clipNear": 0,
                    "clipRadius": 0,
                    "clipCenter": {
                      "x": 0,
                      "y": 0,
                      "z": 0
                    },
                    "flatShaded": false,
                    "opacity": 1,
                    "depthWrite": true,
                    "side": "double",
                    "wireframe": false,
                    "colorScheme": "residueindex",
                    "colorScale": "spectral",
                    "colorReverse": true,
                    "colorValue": 9474192,
                    "colorMode": "hcl",
                    "roughness": 0.4,
                    "metalness": 0,
                    "diffuse": 16777215,
                    "diffuseInterior": false,
                    "useInteriorColor": true,
                    "interiorColor": 2236962,
                    "interiorDarkening": 0,
                    "matrix": {
                      "elements": [
                        1,
                        0,
                        0,
                        0,
                        0,
                        1,
                        0,
                        0,
                        0,
                        0,
                        1,
                        0,
                        0,
                        0,
                        0,
                        1
                      ]
                    },
                    "disablePicking": false,
                    "sele": ""
                  }
                },
                "2": {
                  "type": "ball+stick",
                  "params": {
                    "lazy": false,
                    "visible": true,
                    "quality": "high",
                    "sphereDetail": 2,
                    "radialSegments": 20,
                    "openEnded": true,
                    "disableImpostor": false,
                    "aspectRatio": 1.5,
                    "lineOnly": false,
                    "cylinderOnly": false,
                    "multipleBond": "off",
                    "bondScale": 0.3,
                    "bondSpacing": 0.75,
                    "linewidth": 2,
                    "radiusType": "size",
                    "radiusData": {},
                    "radiusSize": 0.15,
                    "radiusScale": 2,
                    "assembly": "default",
                    "defaultAssembly": "BU1",
                    "clipNear": 0,
                    "clipRadius": 0,
                    "clipCenter": {
                      "x": 0,
                      "y": 0,
                      "z": 0
                    },
                    "flatShaded": false,
                    "opacity": 1,
                    "depthWrite": true,
                    "side": "double",
                    "wireframe": false,
                    "colorScheme": "element",
                    "colorScale": "",
                    "colorReverse": false,
                    "colorValue": 9474192,
                    "colorMode": "hcl",
                    "roughness": 0.4,
                    "metalness": 0,
                    "diffuse": 16777215,
                    "diffuseInterior": false,
                    "useInteriorColor": true,
                    "interiorColor": 2236962,
                    "interiorDarkening": 0,
                    "matrix": {
                      "elements": [
                        1,
                        0,
                        0,
                        0,
                        0,
                        1,
                        0,
                        0,
                        0,
                        0,
                        1,
                        0,
                        0,
                        0,
                        0,
                        1
                      ]
                    },
                    "disablePicking": false,
                    "sele": "ligand"
                  }
                }
              },
              "13": {
                "0": {
                  "type": "cartoon",
                  "params": {
                    "lazy": false,
                    "visible": true,
                    "quality": "high",
                    "aspectRatio": 5,
                    "subdiv": 6,
                    "radialSegments": 20,
                    "tension": null,
                    "capped": true,
                    "smoothSheet": false,
                    "radiusType": "sstruc",
                    "radiusData": {},
                    "radiusSize": 1,
                    "radiusScale": 0.7,
                    "assembly": "default",
                    "defaultAssembly": "BU1",
                    "clipNear": 0,
                    "clipRadius": 0,
                    "clipCenter": {
                      "x": 0,
                      "y": 0,
                      "z": 0
                    },
                    "flatShaded": false,
                    "opacity": 1,
                    "depthWrite": true,
                    "side": "double",
                    "wireframe": false,
                    "colorScheme": "residueindex",
                    "colorScale": "spectral",
                    "colorReverse": true,
                    "colorValue": 9474192,
                    "colorMode": "hcl",
                    "roughness": 0.4,
                    "metalness": 0,
                    "diffuse": 16777215,
                    "diffuseInterior": false,
                    "useInteriorColor": true,
                    "interiorColor": 2236962,
                    "interiorDarkening": 0,
                    "matrix": {
                      "elements": [
                        1,
                        0,
                        0,
                        0,
                        0,
                        1,
                        0,
                        0,
                        0,
                        0,
                        1,
                        0,
                        0,
                        0,
                        0,
                        1
                      ]
                    },
                    "disablePicking": false,
                    "sele": ""
                  }
                },
                "1": {
                  "type": "base",
                  "params": {
                    "lazy": false,
                    "visible": true,
                    "quality": "high",
                    "sphereDetail": 2,
                    "radialSegments": 20,
                    "openEnded": true,
                    "disableImpostor": false,
                    "aspectRatio": 1,
                    "lineOnly": false,
                    "cylinderOnly": false,
                    "bondScale": 0.4,
                    "linewidth": 2,
                    "radiusType": "size",
                    "radiusData": {},
                    "radiusSize": 0.3,
                    "radiusScale": 1,
                    "assembly": "default",
                    "defaultAssembly": "BU1",
                    "clipNear": 0,
                    "clipRadius": 0,
                    "clipCenter": {
                      "x": 0,
                      "y": 0,
                      "z": 0
                    },
                    "flatShaded": false,
                    "opacity": 1,
                    "depthWrite": true,
                    "side": "double",
                    "wireframe": false,
                    "colorScheme": "residueindex",
                    "colorScale": "spectral",
                    "colorReverse": true,
                    "colorValue": 9474192,
                    "colorMode": "hcl",
                    "roughness": 0.4,
                    "metalness": 0,
                    "diffuse": 16777215,
                    "diffuseInterior": false,
                    "useInteriorColor": true,
                    "interiorColor": 2236962,
                    "interiorDarkening": 0,
                    "matrix": {
                      "elements": [
                        1,
                        0,
                        0,
                        0,
                        0,
                        1,
                        0,
                        0,
                        0,
                        0,
                        1,
                        0,
                        0,
                        0,
                        0,
                        1
                      ]
                    },
                    "disablePicking": false,
                    "sele": ""
                  }
                },
                "2": {
                  "type": "ball+stick",
                  "params": {
                    "lazy": false,
                    "visible": true,
                    "quality": "high",
                    "sphereDetail": 2,
                    "radialSegments": 20,
                    "openEnded": true,
                    "disableImpostor": false,
                    "aspectRatio": 1.5,
                    "lineOnly": false,
                    "cylinderOnly": false,
                    "multipleBond": "off",
                    "bondScale": 0.3,
                    "bondSpacing": 0.75,
                    "linewidth": 2,
                    "radiusType": "size",
                    "radiusData": {},
                    "radiusSize": 0.15,
                    "radiusScale": 2,
                    "assembly": "default",
                    "defaultAssembly": "BU1",
                    "clipNear": 0,
                    "clipRadius": 0,
                    "clipCenter": {
                      "x": 0,
                      "y": 0,
                      "z": 0
                    },
                    "flatShaded": false,
                    "opacity": 1,
                    "depthWrite": true,
                    "side": "double",
                    "wireframe": false,
                    "colorScheme": "element",
                    "colorScale": "",
                    "colorReverse": false,
                    "colorValue": 9474192,
                    "colorMode": "hcl",
                    "roughness": 0.4,
                    "metalness": 0,
                    "diffuse": 16777215,
                    "diffuseInterior": false,
                    "useInteriorColor": true,
                    "interiorColor": 2236962,
                    "interiorDarkening": 0,
                    "matrix": {
                      "elements": [
                        1,
                        0,
                        0,
                        0,
                        0,
                        1,
                        0,
                        0,
                        0,
                        0,
                        1,
                        0,
                        0,
                        0,
                        0,
                        1
                      ]
                    },
                    "disablePicking": false,
                    "sele": "ligand"
                  }
                }
              }
            },
            "_ngl_serialize": false,
            "_ngl_version": "2.0.0-dev.39",
            "_ngl_view_id": [
              "178CE28D-3056-4C86-8AF1-FEC911A6236F"
            ],
            "_player_dict": {},
            "_scene_position": {},
            "_scene_rotation": {},
            "_synced_model_ids": [],
            "_synced_repr_model_ids": [],
            "_view_count": null,
            "_view_height": "",
            "_view_module": "nglview-js-widgets",
            "_view_module_version": "3.0.6",
            "_view_name": "NGLView",
            "_view_width": "",
            "background": "white",
            "frame": 0,
            "gui_style": null,
            "layout": "IPY_MODEL_8fdce545d5a84e05b69441d4a539be5a",
            "max_frame": 0,
            "n_components": 14,
            "picked": {}
          }
        },
        "8fdce545d5a84e05b69441d4a539be5a": {
          "model_module": "@jupyter-widgets/base",
          "model_name": "LayoutModel",
          "model_module_version": "1.2.0",
          "state": {
            "_model_module": "@jupyter-widgets/base",
            "_model_module_version": "1.2.0",
            "_model_name": "LayoutModel",
            "_view_count": null,
            "_view_module": "@jupyter-widgets/base",
            "_view_module_version": "1.2.0",
            "_view_name": "LayoutView",
            "align_content": null,
            "align_items": null,
            "align_self": null,
            "border": null,
            "bottom": null,
            "display": null,
            "flex": null,
            "flex_flow": null,
            "grid_area": null,
            "grid_auto_columns": null,
            "grid_auto_flow": null,
            "grid_auto_rows": null,
            "grid_column": null,
            "grid_gap": null,
            "grid_row": null,
            "grid_template_areas": null,
            "grid_template_columns": null,
            "grid_template_rows": null,
            "height": null,
            "justify_content": null,
            "justify_items": null,
            "left": null,
            "margin": null,
            "max_height": null,
            "max_width": null,
            "min_height": null,
            "min_width": null,
            "object_fit": null,
            "object_position": null,
            "order": null,
            "overflow": null,
            "overflow_x": null,
            "overflow_y": null,
            "padding": null,
            "right": null,
            "top": null,
            "visibility": null,
            "width": null
          }
        },
        "1562ad375b5941fbb0380e1d50ec4887": {
          "model_module": "@jupyter-widgets/controls",
          "model_name": "ButtonModel",
          "model_module_version": "1.5.0",
          "state": {
            "_dom_classes": [],
            "_model_module": "@jupyter-widgets/controls",
            "_model_module_version": "1.5.0",
            "_model_name": "ButtonModel",
            "_view_count": null,
            "_view_module": "@jupyter-widgets/controls",
            "_view_module_version": "1.5.0",
            "_view_name": "ButtonView",
            "button_style": "",
            "description": "",
            "disabled": false,
            "icon": "compress",
            "layout": "IPY_MODEL_0dd7e4b0a42b4db49f2eae90717d839f",
            "style": "IPY_MODEL_5533a2da9e23406f970b9c332bc4ec57",
            "tooltip": ""
          }
        },
        "fd73ebc6f5014d9fb9dfb3c7a4789607": {
          "model_module": "@jupyter-widgets/controls",
          "model_name": "HBoxModel",
          "model_module_version": "1.5.0",
          "state": {
            "_dom_classes": [],
            "_model_module": "@jupyter-widgets/controls",
            "_model_module_version": "1.5.0",
            "_model_name": "HBoxModel",
            "_view_count": null,
            "_view_module": "@jupyter-widgets/controls",
            "_view_module_version": "1.5.0",
            "_view_name": "HBoxView",
            "box_style": "",
            "children": [
              "IPY_MODEL_1d8fc1756632460f99f9f6b4613a2168",
              "IPY_MODEL_a446b447f1e048119f9e4d1ce1c73046"
            ],
            "layout": "IPY_MODEL_4d15fea90b554854a38bf07280183ed6"
          }
        },
        "8c007c7345384e7fb9dc1f6ba3102d09": {
          "model_module": "@jupyter-widgets/base",
          "model_name": "LayoutModel",
          "model_module_version": "1.2.0",
          "state": {
            "_model_module": "@jupyter-widgets/base",
            "_model_module_version": "1.2.0",
            "_model_name": "LayoutModel",
            "_view_count": null,
            "_view_module": "@jupyter-widgets/base",
            "_view_module_version": "1.2.0",
            "_view_name": "LayoutView",
            "align_content": null,
            "align_items": null,
            "align_self": null,
            "border": null,
            "bottom": null,
            "display": null,
            "flex": null,
            "flex_flow": null,
            "grid_area": null,
            "grid_auto_columns": null,
            "grid_auto_flow": null,
            "grid_auto_rows": null,
            "grid_column": null,
            "grid_gap": null,
            "grid_row": null,
            "grid_template_areas": null,
            "grid_template_columns": null,
            "grid_template_rows": null,
            "height": null,
            "justify_content": null,
            "justify_items": null,
            "left": null,
            "margin": null,
            "max_height": null,
            "max_width": null,
            "min_height": null,
            "min_width": null,
            "object_fit": null,
            "object_position": null,
            "order": null,
            "overflow": null,
            "overflow_x": null,
            "overflow_y": null,
            "padding": null,
            "right": null,
            "top": null,
            "visibility": null,
            "width": null
          }
        },
        "b68de2a524b54d25b8284582b6c09512": {
          "model_module": "@jupyter-widgets/controls",
          "model_name": "DescriptionStyleModel",
          "model_module_version": "1.5.0",
          "state": {
            "_model_module": "@jupyter-widgets/controls",
            "_model_module_version": "1.5.0",
            "_model_name": "DescriptionStyleModel",
            "_view_count": null,
            "_view_module": "@jupyter-widgets/base",
            "_view_module_version": "1.2.0",
            "_view_name": "StyleView",
            "description_width": ""
          }
        },
        "2134d2dafff84fa4afebcd4fa2226713": {
          "model_module": "@jupyter-widgets/base",
          "model_name": "LayoutModel",
          "model_module_version": "1.2.0",
          "state": {
            "_model_module": "@jupyter-widgets/base",
            "_model_module_version": "1.2.0",
            "_model_name": "LayoutModel",
            "_view_count": null,
            "_view_module": "@jupyter-widgets/base",
            "_view_module_version": "1.2.0",
            "_view_name": "LayoutView",
            "align_content": null,
            "align_items": null,
            "align_self": null,
            "border": null,
            "bottom": null,
            "display": null,
            "flex": null,
            "flex_flow": null,
            "grid_area": null,
            "grid_auto_columns": null,
            "grid_auto_flow": null,
            "grid_auto_rows": null,
            "grid_column": null,
            "grid_gap": null,
            "grid_row": null,
            "grid_template_areas": null,
            "grid_template_columns": null,
            "grid_template_rows": null,
            "height": null,
            "justify_content": null,
            "justify_items": null,
            "left": null,
            "margin": null,
            "max_height": null,
            "max_width": null,
            "min_height": null,
            "min_width": null,
            "object_fit": null,
            "object_position": null,
            "order": null,
            "overflow": null,
            "overflow_x": null,
            "overflow_y": null,
            "padding": null,
            "right": null,
            "top": null,
            "visibility": null,
            "width": null
          }
        },
        "6824f1c4428b4ff4937770dfd965af79": {
          "model_module": "@jupyter-widgets/controls",
          "model_name": "SliderStyleModel",
          "model_module_version": "1.5.0",
          "state": {
            "_model_module": "@jupyter-widgets/controls",
            "_model_module_version": "1.5.0",
            "_model_name": "SliderStyleModel",
            "_view_count": null,
            "_view_module": "@jupyter-widgets/base",
            "_view_module_version": "1.2.0",
            "_view_name": "StyleView",
            "description_width": "",
            "handle_color": null
          }
        },
        "1d8fc1756632460f99f9f6b4613a2168": {
          "model_module": "@jupyter-widgets/controls",
          "model_name": "PlayModel",
          "model_module_version": "1.5.0",
          "state": {
            "_dom_classes": [],
            "_model_module": "@jupyter-widgets/controls",
            "_model_module_version": "1.5.0",
            "_model_name": "PlayModel",
            "_playing": false,
            "_repeat": false,
            "_view_count": null,
            "_view_module": "@jupyter-widgets/controls",
            "_view_module_version": "1.5.0",
            "_view_name": "PlayView",
            "description": "",
            "description_tooltip": null,
            "disabled": false,
            "interval": 100,
            "layout": "IPY_MODEL_8c007c7345384e7fb9dc1f6ba3102d09",
            "max": 0,
            "min": 0,
            "show_repeat": true,
            "step": 1,
            "style": "IPY_MODEL_b68de2a524b54d25b8284582b6c09512",
            "value": 0
          }
        },
        "a446b447f1e048119f9e4d1ce1c73046": {
          "model_module": "@jupyter-widgets/controls",
          "model_name": "IntSliderModel",
          "model_module_version": "1.5.0",
          "state": {
            "_dom_classes": [],
            "_model_module": "@jupyter-widgets/controls",
            "_model_module_version": "1.5.0",
            "_model_name": "IntSliderModel",
            "_view_count": null,
            "_view_module": "@jupyter-widgets/controls",
            "_view_module_version": "1.5.0",
            "_view_name": "IntSliderView",
            "continuous_update": true,
            "description": "",
            "description_tooltip": null,
            "disabled": false,
            "layout": "IPY_MODEL_2134d2dafff84fa4afebcd4fa2226713",
            "max": 0,
            "min": 0,
            "orientation": "horizontal",
            "readout": true,
            "readout_format": "d",
            "step": 1,
            "style": "IPY_MODEL_6824f1c4428b4ff4937770dfd965af79",
            "value": 0
          }
        },
        "0dd7e4b0a42b4db49f2eae90717d839f": {
          "model_module": "@jupyter-widgets/base",
          "model_name": "LayoutModel",
          "model_module_version": "1.2.0",
          "state": {
            "_model_module": "@jupyter-widgets/base",
            "_model_module_version": "1.2.0",
            "_model_name": "LayoutModel",
            "_view_count": null,
            "_view_module": "@jupyter-widgets/base",
            "_view_module_version": "1.2.0",
            "_view_name": "LayoutView",
            "align_content": null,
            "align_items": null,
            "align_self": null,
            "border": null,
            "bottom": null,
            "display": null,
            "flex": null,
            "flex_flow": null,
            "grid_area": null,
            "grid_auto_columns": null,
            "grid_auto_flow": null,
            "grid_auto_rows": null,
            "grid_column": null,
            "grid_gap": null,
            "grid_row": null,
            "grid_template_areas": null,
            "grid_template_columns": null,
            "grid_template_rows": null,
            "height": null,
            "justify_content": null,
            "justify_items": null,
            "left": null,
            "margin": null,
            "max_height": null,
            "max_width": null,
            "min_height": null,
            "min_width": null,
            "object_fit": null,
            "object_position": null,
            "order": null,
            "overflow": null,
            "overflow_x": null,
            "overflow_y": null,
            "padding": null,
            "right": null,
            "top": null,
            "visibility": null,
            "width": "34px"
          }
        },
        "5533a2da9e23406f970b9c332bc4ec57": {
          "model_module": "@jupyter-widgets/controls",
          "model_name": "ButtonStyleModel",
          "model_module_version": "1.5.0",
          "state": {
            "_model_module": "@jupyter-widgets/controls",
            "_model_module_version": "1.5.0",
            "_model_name": "ButtonStyleModel",
            "_view_count": null,
            "_view_module": "@jupyter-widgets/base",
            "_view_module_version": "1.2.0",
            "_view_name": "StyleView",
            "button_color": null,
            "font_weight": ""
          }
        },
        "4d15fea90b554854a38bf07280183ed6": {
          "model_module": "@jupyter-widgets/base",
          "model_name": "LayoutModel",
          "model_module_version": "1.2.0",
          "state": {
            "_model_module": "@jupyter-widgets/base",
            "_model_module_version": "1.2.0",
            "_model_name": "LayoutModel",
            "_view_count": null,
            "_view_module": "@jupyter-widgets/base",
            "_view_module_version": "1.2.0",
            "_view_name": "LayoutView",
            "align_content": null,
            "align_items": null,
            "align_self": null,
            "border": null,
            "bottom": null,
            "display": null,
            "flex": null,
            "flex_flow": null,
            "grid_area": null,
            "grid_auto_columns": null,
            "grid_auto_flow": null,
            "grid_auto_rows": null,
            "grid_column": null,
            "grid_gap": null,
            "grid_row": null,
            "grid_template_areas": null,
            "grid_template_columns": null,
            "grid_template_rows": null,
            "height": null,
            "justify_content": null,
            "justify_items": null,
            "left": null,
            "margin": null,
            "max_height": null,
            "max_width": null,
            "min_height": null,
            "min_width": null,
            "object_fit": null,
            "object_position": null,
            "order": null,
            "overflow": null,
            "overflow_x": null,
            "overflow_y": null,
            "padding": null,
            "right": null,
            "top": null,
            "visibility": null,
            "width": null
          }
        }
      }
    }
  },
  "cells": [
    {
      "cell_type": "markdown",
      "metadata": {
        "id": "view-in-github",
        "colab_type": "text"
      },
      "source": [
        "<a href=\"https://colab.research.google.com/github/francescopatane96/Computer_aided_drug_discovery_kit/blob/main/10_binding_site_similarity_off_target.ipynb\" target=\"_parent\"><img src=\"https://colab.research.google.com/assets/colab-badge.svg\" alt=\"Open In Colab\"/></a>"
      ]
    },
    {
      "cell_type": "markdown",
      "source": [
        "binding site comparison , geometrical variation (RMSD)"
      ],
      "metadata": {
        "id": "XrAmWmDfgUt9"
      }
    },
    {
      "cell_type": "code",
      "execution_count": null,
      "metadata": {
        "id": "VDWjB21bgBnZ"
      },
      "outputs": [],
      "source": [
        "pip install rdkit nglview redo pypdb biotite"
      ]
    },
    {
      "cell_type": "code",
      "source": [
        "#!pip install https://github.com/volkamerlab/opencadd/archive/master.tar.gz"
      ],
      "metadata": {
        "id": "UqQAsWtkhdRx"
      },
      "execution_count": null,
      "outputs": []
    },
    {
      "cell_type": "code",
      "source": [
        "pip install git+https://github.com/volkamerlab/opencadd"
      ],
      "metadata": {
        "id": "3ZX41dxYnEFM"
      },
      "execution_count": null,
      "outputs": []
    },
    {
      "cell_type": "code",
      "source": [
        "pip install mdanalysis"
      ],
      "metadata": {
        "colab": {
          "base_uri": "https://localhost:8080/"
        },
        "id": "f1lcsFP3h8-X",
        "outputId": "bb9dcc18-42e7-436c-bb48-246151e0f784"
      },
      "execution_count": null,
      "outputs": [
        {
          "output_type": "stream",
          "name": "stdout",
          "text": [
            "Requirement already satisfied: mdanalysis in /usr/local/lib/python3.10/dist-packages (2.5.0)\n",
            "Requirement already satisfied: numpy>=1.21.0 in /usr/local/lib/python3.10/dist-packages (from mdanalysis) (1.23.5)\n",
            "Requirement already satisfied: biopython>=1.80 in /usr/local/lib/python3.10/dist-packages (from mdanalysis) (1.81)\n",
            "Requirement already satisfied: networkx>=2.0 in /usr/local/lib/python3.10/dist-packages (from mdanalysis) (3.1)\n",
            "Requirement already satisfied: GridDataFormats>=0.4.0 in /usr/local/lib/python3.10/dist-packages (from mdanalysis) (1.0.1)\n",
            "Requirement already satisfied: mmtf-python>=1.0.0 in /usr/local/lib/python3.10/dist-packages (from mdanalysis) (1.1.3)\n",
            "Requirement already satisfied: joblib>=0.12 in /usr/local/lib/python3.10/dist-packages (from mdanalysis) (1.3.2)\n",
            "Requirement already satisfied: scipy>=1.5.0 in /usr/local/lib/python3.10/dist-packages (from mdanalysis) (1.10.1)\n",
            "Requirement already satisfied: matplotlib>=1.5.1 in /usr/local/lib/python3.10/dist-packages (from mdanalysis) (3.7.1)\n",
            "Requirement already satisfied: tqdm>=4.43.0 in /usr/local/lib/python3.10/dist-packages (from mdanalysis) (4.66.0)\n",
            "Requirement already satisfied: threadpoolctl in /usr/local/lib/python3.10/dist-packages (from mdanalysis) (3.2.0)\n",
            "Requirement already satisfied: packaging in /usr/local/lib/python3.10/dist-packages (from mdanalysis) (23.1)\n",
            "Requirement already satisfied: fasteners in /usr/local/lib/python3.10/dist-packages (from mdanalysis) (0.18)\n",
            "Requirement already satisfied: gsd>=1.9.3 in /usr/local/lib/python3.10/dist-packages (from mdanalysis) (3.1.1)\n",
            "Requirement already satisfied: mrcfile in /usr/local/lib/python3.10/dist-packages (from GridDataFormats>=0.4.0->mdanalysis) (1.4.3)\n",
            "Requirement already satisfied: contourpy>=1.0.1 in /usr/local/lib/python3.10/dist-packages (from matplotlib>=1.5.1->mdanalysis) (1.1.0)\n",
            "Requirement already satisfied: cycler>=0.10 in /usr/local/lib/python3.10/dist-packages (from matplotlib>=1.5.1->mdanalysis) (0.11.0)\n",
            "Requirement already satisfied: fonttools>=4.22.0 in /usr/local/lib/python3.10/dist-packages (from matplotlib>=1.5.1->mdanalysis) (4.42.0)\n",
            "Requirement already satisfied: kiwisolver>=1.0.1 in /usr/local/lib/python3.10/dist-packages (from matplotlib>=1.5.1->mdanalysis) (1.4.4)\n",
            "Requirement already satisfied: pillow>=6.2.0 in /usr/local/lib/python3.10/dist-packages (from matplotlib>=1.5.1->mdanalysis) (9.4.0)\n",
            "Requirement already satisfied: pyparsing>=2.3.1 in /usr/local/lib/python3.10/dist-packages (from matplotlib>=1.5.1->mdanalysis) (3.1.1)\n",
            "Requirement already satisfied: python-dateutil>=2.7 in /usr/local/lib/python3.10/dist-packages (from matplotlib>=1.5.1->mdanalysis) (2.8.2)\n",
            "Requirement already satisfied: msgpack>=1.0.0 in /usr/local/lib/python3.10/dist-packages (from mmtf-python>=1.0.0->mdanalysis) (1.0.5)\n",
            "Requirement already satisfied: six>=1.5 in /usr/local/lib/python3.10/dist-packages (from python-dateutil>=2.7->matplotlib>=1.5.1->mdanalysis) (1.16.0)\n"
          ]
        }
      ]
    },
    {
      "cell_type": "code",
      "source": [
        "import logging\n",
        "from pathlib import Path\n",
        "import random\n",
        "import warnings\n",
        "\n",
        "import pandas as pd\n",
        "import matplotlib.pyplot as plt\n",
        "import seaborn as sns\n",
        "import redo\n",
        "import nglview as nv\n",
        "import pypdb\n",
        "import biotite.database.rcsb as rcsb\n",
        "from rdkit import Chem\n",
        "from rdkit.Chem import Draw, AllChem\n",
        "from MDAnalysis.analysis import rms\n",
        "from opencadd.structure.core import Structure\n",
        "from opencadd.structure.superposition.api import align, METHODS\n",
        "from opencadd.structure.superposition.engines.mda import MDAnalysisAligner\n",
        "\n"
      ],
      "metadata": {
        "colab": {
          "base_uri": "https://localhost:8080/",
          "height": 34,
          "referenced_widgets": [
            "52147787709943c4a12bb9978d76b367"
          ]
        },
        "id": "wZ7MJYwphUO8",
        "outputId": "e6d3e11c-9d2c-4de0-cea9-e7f7c1553fd4"
      },
      "execution_count": null,
      "outputs": [
        {
          "output_type": "display_data",
          "data": {
            "text/plain": [],
            "application/vnd.jupyter.widget-view+json": {
              "version_major": 2,
              "version_minor": 0,
              "model_id": "52147787709943c4a12bb9978d76b367"
            }
          },
          "metadata": {}
        },
        {
          "output_type": "stream",
          "name": "stderr",
          "text": [
            "WARNING:MDAnalysis.coordinates.AMBER:netCDF4 is not available. Writing AMBER ncdf files will be slow.\n"
          ]
        }
      ]
    },
    {
      "cell_type": "code",
      "source": [
        "# Frozen set of PDB IDs that will be used in this notebook\n",
        "# TODO check in the future if we want to update this dataset\n",
        "FROZEN_PDB_IDS = [\"3HEC\", \"2PL0\", \"4CSV\", \"4R7I\", \"1XBB\", \"3FW1\", \"1T46\"]"
      ],
      "metadata": {
        "colab": {
          "base_uri": "https://localhost:8080/"
        },
        "id": "WdxH9YaIiE0A",
        "outputId": "ffbd6ba0-cec5-46af-a3cd-6c5ec558e90e"
      },
      "execution_count": null,
      "outputs": [
        {
          "output_type": "stream",
          "name": "stderr",
          "text": [
            "/usr/local/lib/python3.10/dist-packages/ipykernel/ipkernel.py:283: DeprecationWarning: `should_run_async` will not call `transform_cell` automatically in the future. Please pass the result to `transformed_cell` argument and any exception that happen during thetransform in `preprocessing_exc_tuple` in IPython 7.17 and above.\n",
            "  and should_run_async(code)\n"
          ]
        }
      ]
    },
    {
      "cell_type": "code",
      "source": [
        "smiles = Chem.MolFromSmiles(\"CN1CCN(Cc2ccc(cc2)C(=O)Nc2ccc(C)c(Nc3nccc(n3)-c3cccnc3)c2)CC1\")\n",
        "Draw.MolToImage(smiles)"
      ],
      "metadata": {
        "colab": {
          "base_uri": "https://localhost:8080/",
          "height": 372
        },
        "id": "iQMoN2JyiM9_",
        "outputId": "2845cdc1-ec95-46a6-ae97-fd1d7135d5f7"
      },
      "execution_count": null,
      "outputs": [
        {
          "output_type": "stream",
          "name": "stderr",
          "text": [
            "/usr/local/lib/python3.10/dist-packages/ipykernel/ipkernel.py:283: DeprecationWarning: `should_run_async` will not call `transform_cell` automatically in the future. Please pass the result to `transformed_cell` argument and any exception that happen during thetransform in `preprocessing_exc_tuple` in IPython 7.17 and above.\n",
            "  and should_run_async(code)\n"
          ]
        },
        {
          "output_type": "execute_result",
          "data": {
            "text/plain": [
              "<PIL.PngImagePlugin.PngImageFile image mode=RGB size=300x300>"
            ],
            "image/png": "[encoded data removed]"
          },
          "metadata": {},
          "execution_count": 7
        }
      ]
    },
    {
      "cell_type": "code",
      "source": [
        "molecule = Chem.AddHs(smiles)\n",
        "molecule"
      ],
      "metadata": {
        "colab": {
          "base_uri": "https://localhost:8080/",
          "height": 222
        },
        "id": "mcB6TMZLiUPg",
        "outputId": "b2cce98e-6c9d-45ab-e8ca-c36ba10b31b3"
      },
      "execution_count": null,
      "outputs": [
        {
          "output_type": "stream",
          "name": "stderr",
          "text": [
            "/usr/local/lib/python3.10/dist-packages/ipykernel/ipkernel.py:283: DeprecationWarning: `should_run_async` will not call `transform_cell` automatically in the future. Please pass the result to `transformed_cell` argument and any exception that happen during thetransform in `preprocessing_exc_tuple` in IPython 7.17 and above.\n",
            "  and should_run_async(code)\n"
          ]
        },
        {
          "output_type": "execute_result",
          "data": {
            "text/plain": [
              "<rdkit.Chem.rdchem.Mol at 0x7e2fdc9907b0>"
            ],
            "image/png": "[encoded data removed]"
          },
          "metadata": {},
          "execution_count": 8
        }
      ]
    },
    {
      "cell_type": "code",
      "source": [
        "AllChem.EmbedMolecule(molecule)\n",
        "AllChem.UFFOptimizeMolecule(molecule)\n",
        "molecule"
      ],
      "metadata": {
        "colab": {
          "base_uri": "https://localhost:8080/",
          "height": 222
        },
        "id": "SUMAsRyLiZVw",
        "outputId": "ac79a011-bbf4-49e5-80d8-50090713aab7"
      },
      "execution_count": null,
      "outputs": [
        {
          "output_type": "stream",
          "name": "stderr",
          "text": [
            "/usr/local/lib/python3.10/dist-packages/ipykernel/ipkernel.py:283: DeprecationWarning: `should_run_async` will not call `transform_cell` automatically in the future. Please pass the result to `transformed_cell` argument and any exception that happen during thetransform in `preprocessing_exc_tuple` in IPython 7.17 and above.\n",
            "  and should_run_async(code)\n"
          ]
        },
        {
          "output_type": "execute_result",
          "data": {
            "text/plain": [
              "<rdkit.Chem.rdchem.Mol at 0x7e2fdc9907b0>"
            ],
            "image/png": "[encoded data removed]"
          },
          "metadata": {},
          "execution_count": 9
        }
      ]
    },
    {
      "cell_type": "code",
      "source": [
        "from google.colab import output\n",
        "output.enable_custom_widget_manager()"
      ],
      "metadata": {
        "colab": {
          "base_uri": "https://localhost:8080/"
        },
        "id": "DGDXofw8ie_I",
        "outputId": "1414a45f-20e4-465e-c9f5-79b85c029b9b"
      },
      "execution_count": null,
      "outputs": [
        {
          "output_type": "stream",
          "name": "stderr",
          "text": [
            "/usr/local/lib/python3.10/dist-packages/ipykernel/ipkernel.py:283: DeprecationWarning: `should_run_async` will not call `transform_cell` automatically in the future. Please pass the result to `transformed_cell` argument and any exception that happen during thetransform in `preprocessing_exc_tuple` in IPython 7.17 and above.\n",
            "  and should_run_async(code)\n"
          ]
        }
      ]
    },
    {
      "cell_type": "code",
      "source": [
        "view = nv.show_rdkit(molecule)\n",
        "view"
      ],
      "metadata": {
        "colab": {
          "base_uri": "https://localhost:8080/",
          "height": 372,
          "referenced_widgets": [
            "72ba50f3d9104698bfce4a5892b594af",
            "1ced863767ac4b659c5ecef4024d6f96",
            "55dd9deac9974f49989b35bee53d0909",
            "6a9c531a57414858978d52f3430f115e",
            "19048b4381e24f4797080e12edbb3bcc",
            "8b539872ac6547d897ff50ad7abfa35f",
            "cfee6c848721407fb2f9c856472ec210",
            "6bd6a2bb59f54b14a53880548d18ad81",
            "ecd2833607814190830d22d21c264bd6",
            "10adda7e2ce2496eb181bec2e37c3f26",
            "aaa19a827b0e4bbf9410bb630270b3dc",
            "15202c332f084623b3f0a8cdb6494275",
            "6afc655db0f340bd83ad8293b78ef2b7"
          ]
        },
        "id": "J3D25GegibuA",
        "outputId": "1c7444dc-1da8-44f4-fbf2-e903cb16c535"
      },
      "execution_count": null,
      "outputs": [
        {
          "output_type": "stream",
          "name": "stderr",
          "text": [
            "/usr/local/lib/python3.10/dist-packages/ipykernel/ipkernel.py:283: DeprecationWarning: `should_run_async` will not call `transform_cell` automatically in the future. Please pass the result to `transformed_cell` argument and any exception that happen during thetransform in `preprocessing_exc_tuple` in IPython 7.17 and above.\n",
            "  and should_run_async(code)\n"
          ]
        },
        {
          "output_type": "display_data",
          "data": {
            "text/plain": [
              "NGLWidget()"
            ],
            "application/vnd.jupyter.widget-view+json": {
              "version_major": 2,
              "version_minor": 0,
              "model_id": "72ba50f3d9104698bfce4a5892b594af"
            }
          },
          "metadata": {
            "application/vnd.jupyter.widget-view+json": {
              "colab": {
                "custom_widget_manager": {
                  "url": "https://ssl.gstatic.com/colaboratory-static/widgets/colab-cdn-widget-manager/b3e629b1971e1542/manager.min.js"
                }
              }
            }
          }
        }
      ]
    },
    {
      "cell_type": "code",
      "source": [
        "view.render_image(trim=True, factor=2, transparent=True);"
      ],
      "metadata": {
        "colab": {
          "base_uri": "https://localhost:8080/",
          "height": 72
        },
        "id": "1OiIC0j-imXh",
        "outputId": "0f35f044-3ca5-4d16-940d-dd65de1cf4bc"
      },
      "execution_count": null,
      "outputs": [
        {
          "output_type": "stream",
          "name": "stderr",
          "text": [
            "/usr/local/lib/python3.10/dist-packages/ipykernel/ipkernel.py:283: DeprecationWarning: `should_run_async` will not call `transform_cell` automatically in the future. Please pass the result to `transformed_cell` argument and any exception that happen during thetransform in `preprocessing_exc_tuple` in IPython 7.17 and above.\n",
            "  and should_run_async(code)\n"
          ]
        }
      ]
    },
    {
      "cell_type": "code",
      "source": [
        "view._display_image()"
      ],
      "metadata": {
        "colab": {
          "base_uri": "https://localhost:8080/",
          "height": 96
        },
        "id": "p1ucbPWIioWw",
        "outputId": "d1b8a678-0265-4ed3-b638-512c11afd2c8"
      },
      "execution_count": null,
      "outputs": [
        {
          "output_type": "stream",
          "name": "stderr",
          "text": [
            "/usr/local/lib/python3.10/dist-packages/ipykernel/ipkernel.py:283: DeprecationWarning: `should_run_async` will not call `transform_cell` automatically in the future. Please pass the result to `transformed_cell` argument and any exception that happen during thetransform in `preprocessing_exc_tuple` in IPython 7.17 and above.\n",
            "  and should_run_async(code)\n"
          ]
        },
        {
          "output_type": "execute_result",
          "data": {
            "image/png": "\n",
            "text/plain": [
              "<IPython.core.display.Image object>"
            ]
          },
          "metadata": {},
          "execution_count": 13
        }
      ]
    },
    {
      "cell_type": "code",
      "source": [
        "query_by_ligand_id = rcsb.FieldQuery(\n",
        "    \"rcsb_nonpolymer_entity_container_identifiers.nonpolymer_comp_id\", exact_match=\"STI\"\n",
        ")\n",
        "print(f\"Number of matches: {rcsb.count(query_by_ligand_id)}\")"
      ],
      "metadata": {
        "colab": {
          "base_uri": "https://localhost:8080/"
        },
        "id": "BdFpuakgiv5N",
        "outputId": "1d3e3c71-96c6-4379-9730-8ed89370373a"
      },
      "execution_count": null,
      "outputs": [
        {
          "output_type": "stream",
          "name": "stderr",
          "text": [
            "/usr/local/lib/python3.10/dist-packages/ipykernel/ipkernel.py:283: DeprecationWarning: `should_run_async` will not call `transform_cell` automatically in the future. Please pass the result to `transformed_cell` argument and any exception that happen during thetransform in `preprocessing_exc_tuple` in IPython 7.17 and above.\n",
            "  and should_run_async(code)\n"
          ]
        },
        {
          "output_type": "stream",
          "name": "stdout",
          "text": [
            "Number of matches: 28\n"
          ]
        }
      ]
    },
    {
      "cell_type": "code",
      "source": [
        "query_by_experimental_method = rcsb.FieldQuery(\"exptl.method\", exact_match=\"X-RAY DIFFRACTION\")\n",
        "print(f\"Number of matches: {rcsb.count(query_by_experimental_method)}\")"
      ],
      "metadata": {
        "colab": {
          "base_uri": "https://localhost:8080/"
        },
        "id": "0y-uqCIOiyhX",
        "outputId": "9e440421-f258-4f98-963b-73c7c4356465"
      },
      "execution_count": null,
      "outputs": [
        {
          "output_type": "stream",
          "name": "stderr",
          "text": [
            "/usr/local/lib/python3.10/dist-packages/ipykernel/ipkernel.py:283: DeprecationWarning: `should_run_async` will not call `transform_cell` automatically in the future. Please pass the result to `transformed_cell` argument and any exception that happen during thetransform in `preprocessing_exc_tuple` in IPython 7.17 and above.\n",
            "  and should_run_async(code)\n"
          ]
        },
        {
          "output_type": "stream",
          "name": "stdout",
          "text": [
            "Number of matches: 177521\n"
          ]
        }
      ]
    },
    {
      "cell_type": "code",
      "source": [
        "query_by_resolution = rcsb.FieldQuery(\"rcsb_entry_info.resolution_combined\", less_or_equal=3.0)\n",
        "print(f\"Number of matches: {rcsb.count(query_by_resolution)}\")"
      ],
      "metadata": {
        "colab": {
          "base_uri": "https://localhost:8080/"
        },
        "id": "O2Iecnr_i0Hd",
        "outputId": "047942c1-9062-490b-aaa6-57db9754bd10"
      },
      "execution_count": null,
      "outputs": [
        {
          "output_type": "stream",
          "name": "stderr",
          "text": [
            "/usr/local/lib/python3.10/dist-packages/ipykernel/ipkernel.py:283: DeprecationWarning: `should_run_async` will not call `transform_cell` automatically in the future. Please pass the result to `transformed_cell` argument and any exception that happen during thetransform in `preprocessing_exc_tuple` in IPython 7.17 and above.\n",
            "  and should_run_async(code)\n"
          ]
        },
        {
          "output_type": "stream",
          "name": "stdout",
          "text": [
            "Number of matches: 170190\n"
          ]
        }
      ]
    },
    {
      "cell_type": "code",
      "source": [
        "query_by_polymer_count = rcsb.FieldQuery(\n",
        "    \"rcsb_entry_info.deposited_polymer_entity_instance_count\", equals=1\n",
        ")\n",
        "print(f\"Number of matches: {rcsb.count(query_by_polymer_count)}\")"
      ],
      "metadata": {
        "colab": {
          "base_uri": "https://localhost:8080/"
        },
        "id": "w7yWj7l0i2WS",
        "outputId": "5da3d899-554c-41fc-9b2b-04c3e7ff8975"
      },
      "execution_count": null,
      "outputs": [
        {
          "output_type": "stream",
          "name": "stderr",
          "text": [
            "/usr/local/lib/python3.10/dist-packages/ipykernel/ipkernel.py:283: DeprecationWarning: `should_run_async` will not call `transform_cell` automatically in the future. Please pass the result to `transformed_cell` argument and any exception that happen during thetransform in `preprocessing_exc_tuple` in IPython 7.17 and above.\n",
            "  and should_run_async(code)\n"
          ]
        },
        {
          "output_type": "stream",
          "name": "stdout",
          "text": [
            "Number of matches: 75451\n"
          ]
        }
      ]
    },
    {
      "cell_type": "code",
      "source": [
        "query = rcsb.CompositeQuery(\n",
        "    [\n",
        "        query_by_ligand_id,\n",
        "        query_by_experimental_method,\n",
        "        query_by_resolution,\n",
        "        query_by_polymer_count,\n",
        "    ],\n",
        "    \"and\",\n",
        ")\n",
        "pdb_ids = rcsb.search(query)\n",
        "print(f\"Number of matches: {len(pdb_ids)}\")\n",
        "print(\"Selected PDB IDs:\")\n",
        "print(*pdb_ids)"
      ],
      "metadata": {
        "colab": {
          "base_uri": "https://localhost:8080/"
        },
        "id": "8OdNzmCRi4dq",
        "outputId": "d7ec261d-195e-43b7-fb3a-5ca26d750f9f"
      },
      "execution_count": null,
      "outputs": [
        {
          "output_type": "stream",
          "name": "stderr",
          "text": [
            "/usr/local/lib/python3.10/dist-packages/ipykernel/ipkernel.py:283: DeprecationWarning: `should_run_async` will not call `transform_cell` automatically in the future. Please pass the result to `transformed_cell` argument and any exception that happen during thetransform in `preprocessing_exc_tuple` in IPython 7.17 and above.\n",
            "  and should_run_async(code)\n"
          ]
        },
        {
          "output_type": "stream",
          "name": "stdout",
          "text": [
            "Number of matches: 9\n",
            "Selected PDB IDs:\n",
            "1T46 1XBB 2PL0 3FW1 3GVU 3HEC 4CSV 4R7I 6JOL\n"
          ]
        }
      ]
    },
    {
      "cell_type": "code",
      "source": [
        "pdb_ids = FROZEN_PDB_IDS\n",
        "print(\"Final set of PDB IDs:\")\n",
        "print(*pdb_ids)"
      ],
      "metadata": {
        "colab": {
          "base_uri": "https://localhost:8080/"
        },
        "id": "uU9YZyPujAbx",
        "outputId": "f5e95ba0-ee2a-4b52-f944-6c8ded7b5e77"
      },
      "execution_count": null,
      "outputs": [
        {
          "output_type": "stream",
          "name": "stdout",
          "text": [
            "Final set of PDB IDs:\n",
            "3HEC 2PL0 4CSV 4R7I 1XBB 3FW1 1T46\n"
          ]
        },
        {
          "output_type": "stream",
          "name": "stderr",
          "text": [
            "/usr/local/lib/python3.10/dist-packages/ipykernel/ipkernel.py:283: DeprecationWarning: `should_run_async` will not call `transform_cell` automatically in the future. Please pass the result to `transformed_cell` argument and any exception that happen during thetransform in `preprocessing_exc_tuple` in IPython 7.17 and above.\n",
            "  and should_run_async(code)\n"
          ]
        }
      ]
    },
    {
      "cell_type": "code",
      "source": [
        "view = nv.NGLWidget()\n",
        "for pdb_id in pdb_ids:\n",
        "    view.add_pdbid(pdb_id)\n",
        "view"
      ],
      "metadata": {
        "colab": {
          "base_uri": "https://localhost:8080/",
          "height": 372,
          "referenced_widgets": [
            "e78d9027b20a418ca2020d62bce5bfc3",
            "8fdce545d5a84e05b69441d4a539be5a",
            "1562ad375b5941fbb0380e1d50ec4887",
            "fd73ebc6f5014d9fb9dfb3c7a4789607",
            "8c007c7345384e7fb9dc1f6ba3102d09",
            "b68de2a524b54d25b8284582b6c09512",
            "2134d2dafff84fa4afebcd4fa2226713",
            "6824f1c4428b4ff4937770dfd965af79",
            "1d8fc1756632460f99f9f6b4613a2168",
            "a446b447f1e048119f9e4d1ce1c73046",
            "0dd7e4b0a42b4db49f2eae90717d839f",
            "5533a2da9e23406f970b9c332bc4ec57",
            "4d15fea90b554854a38bf07280183ed6"
          ]
        },
        "id": "cm6hJnaajCfJ",
        "outputId": "424d0208-5c08-44e7-b63d-eb8c9e7fdd9f"
      },
      "execution_count": null,
      "outputs": [
        {
          "output_type": "stream",
          "name": "stderr",
          "text": [
            "/usr/local/lib/python3.10/dist-packages/ipykernel/ipkernel.py:283: DeprecationWarning: `should_run_async` will not call `transform_cell` automatically in the future. Please pass the result to `transformed_cell` argument and any exception that happen during thetransform in `preprocessing_exc_tuple` in IPython 7.17 and above.\n",
            "  and should_run_async(code)\n"
          ]
        },
        {
          "output_type": "display_data",
          "data": {
            "text/plain": [
              "NGLWidget()"
            ],
            "application/vnd.jupyter.widget-view+json": {
              "version_major": 2,
              "version_minor": 0,
              "model_id": "e78d9027b20a418ca2020d62bce5bfc3"
            }
          },
          "metadata": {
            "application/vnd.jupyter.widget-view+json": {
              "colab": {
                "custom_widget_manager": {
                  "url": "https://ssl.gstatic.com/colaboratory-static/widgets/colab-cdn-widget-manager/b3e629b1971e1542/manager.min.js"
                }
              }
            }
          }
        }
      ]
    },
    {
      "cell_type": "code",
      "source": [
        "view.render_image(trim=True, factor=2, transparent=True);"
      ],
      "metadata": {
        "colab": {
          "base_uri": "https://localhost:8080/",
          "height": 72
        },
        "id": "Hgo8WSIsjHdB",
        "outputId": "29c90900-f11c-48f5-a386-6b0c821dabd5"
      },
      "execution_count": null,
      "outputs": [
        {
          "output_type": "stream",
          "name": "stderr",
          "text": [
            "/usr/local/lib/python3.10/dist-packages/ipykernel/ipkernel.py:283: DeprecationWarning: `should_run_async` will not call `transform_cell` automatically in the future. Please pass the result to `transformed_cell` argument and any exception that happen during thetransform in `preprocessing_exc_tuple` in IPython 7.17 and above.\n",
            "  and should_run_async(code)\n"
          ]
        }
      ]
    },
    {
      "cell_type": "code",
      "source": [
        "view._display_image()"
      ],
      "metadata": {
        "colab": {
          "base_uri": "https://localhost:8080/",
          "height": 96
        },
        "id": "p4iWxWZJjJCY",
        "outputId": "13645d50-c797-4979-c137-21a39fd17ace"
      },
      "execution_count": null,
      "outputs": [
        {
          "output_type": "stream",
          "name": "stderr",
          "text": [
            "/usr/local/lib/python3.10/dist-packages/ipykernel/ipkernel.py:283: DeprecationWarning: `should_run_async` will not call `transform_cell` automatically in the future. Please pass the result to `transformed_cell` argument and any exception that happen during thetransform in `preprocessing_exc_tuple` in IPython 7.17 and above.\n",
            "  and should_run_async(code)\n"
          ]
        },
        {
          "output_type": "execute_result",
          "data": {
            "image/png": "\n",
            "text/plain": [
              "<IPython.core.display.Image object>"
            ]
          },
          "metadata": {},
          "execution_count": 22
        }
      ]
    },
    {
      "cell_type": "code",
      "source": [
        "# Download PDB\n",
        "structures = [Structure.from_pdbid(pdb_id) for pdb_id in pdb_ids]\n",
        "# Strip solvent and other artifacts of crystallography\n",
        "proteins = [Structure.from_atomgroup(s.select_atoms(\"protein\")) for s in structures]\n",
        "# Align proteins\n",
        "results = align(proteins, method=METHODS[\"mda\"])"
      ],
      "metadata": {
        "colab": {
          "base_uri": "https://localhost:8080/",
          "height": 447
        },
        "id": "fxvkzEHOjR2H",
        "outputId": "124c98b7-3295-43f5-f4be-15f77073f8e0"
      },
      "execution_count": null,
      "outputs": [
        {
          "output_type": "stream",
          "name": "stderr",
          "text": [
            "/usr/local/lib/python3.10/dist-packages/ipykernel/ipkernel.py:283: DeprecationWarning: `should_run_async` will not call `transform_cell` automatically in the future. Please pass the result to `transformed_cell` argument and any exception that happen during thetransform in `preprocessing_exc_tuple` in IPython 7.17 and above.\n",
            "  and should_run_async(code)\n",
            "WARNING:opencadd.structure.superposition.engines.mda:1 residues in <AtomGroup [<Atom 1: N of type N of resname ARG, resid 5 and segid A and altLoc >, <Atom 2: CA of type C of resname ARG, resid 5 and segid A and altLoc >, <Atom 3: C of type C of resname ARG, resid 5 and segid A and altLoc >, ..., <Atom 2682: CB of type C of resname PRO, resid 352 and segid A and altLoc >, <Atom 2683: CG of type C of resname PRO, resid 352 and segid A and altLoc >, <Atom 2684: CD of type C of resname PRO, resid 352 and segid A and altLoc >]> are missing backbone atoms. If this system was obtained from a larger structure using a selection, consider wrapping such selection with `same residue as (<your original selection>)` to avoid potential matching problems.\n"
          ]
        },
        {
          "output_type": "error",
          "ename": "AttributeError",
          "evalue": "ignored",
          "traceback": [
            "\u001b[0;31m---------------------------------------------------------------------------\u001b[0m",
            "\u001b[0;31mAttributeError\u001b[0m                            Traceback (most recent call last)",
            "\u001b[0;32m<ipython-input-26-19c08310617d>\u001b[0m in \u001b[0;36m<cell line: 6>\u001b[0;34m()\u001b[0m\n\u001b[1;32m      4\u001b[0m \u001b[0mproteins\u001b[0m \u001b[0;34m=\u001b[0m \u001b[0;34m[\u001b[0m\u001b[0mStructure\u001b[0m\u001b[0;34m.\u001b[0m\u001b[0mfrom_atomgroup\u001b[0m\u001b[0;34m(\u001b[0m\u001b[0ms\u001b[0m\u001b[0;34m.\u001b[0m\u001b[0mselect_atoms\u001b[0m\u001b[0;34m(\u001b[0m\u001b[0;34m\"protein\"\u001b[0m\u001b[0;34m)\u001b[0m\u001b[0;34m)\u001b[0m \u001b[0;32mfor\u001b[0m \u001b[0ms\u001b[0m \u001b[0;32min\u001b[0m \u001b[0mstructures\u001b[0m\u001b[0;34m]\u001b[0m\u001b[0;34m\u001b[0m\u001b[0;34m\u001b[0m\u001b[0m\n\u001b[1;32m      5\u001b[0m \u001b[0;31m# Align proteins\u001b[0m\u001b[0;34m\u001b[0m\u001b[0;34m\u001b[0m\u001b[0m\n\u001b[0;32m----> 6\u001b[0;31m \u001b[0mresults\u001b[0m \u001b[0;34m=\u001b[0m \u001b[0malign\u001b[0m\u001b[0;34m(\u001b[0m\u001b[0mproteins\u001b[0m\u001b[0;34m,\u001b[0m \u001b[0mmethod\u001b[0m\u001b[0;34m=\u001b[0m\u001b[0mMETHODS\u001b[0m\u001b[0;34m[\u001b[0m\u001b[0;34m\"mda\"\u001b[0m\u001b[0;34m]\u001b[0m\u001b[0;34m)\u001b[0m\u001b[0;34m\u001b[0m\u001b[0;34m\u001b[0m\u001b[0m\n\u001b[0m",
            "\u001b[0;32m/usr/local/lib/python3.10/dist-packages/opencadd/structure/superposition/api.py\u001b[0m in \u001b[0;36malign\u001b[0;34m(structures, user_select, method, **kwargs)\u001b[0m\n\u001b[1;32m     92\u001b[0m         \u001b[0;32mfor\u001b[0m \u001b[0mmobile\u001b[0m \u001b[0;32min\u001b[0m \u001b[0mmobiles\u001b[0m\u001b[0;34m:\u001b[0m\u001b[0;34m\u001b[0m\u001b[0;34m\u001b[0m\u001b[0m\n\u001b[1;32m     93\u001b[0m             \u001b[0mmobile\u001b[0m \u001b[0;34m=\u001b[0m \u001b[0m_universe_to_atomgroup\u001b[0m\u001b[0;34m(\u001b[0m\u001b[0mmobile\u001b[0m\u001b[0;34m)\u001b[0m\u001b[0;34m\u001b[0m\u001b[0;34m\u001b[0m\u001b[0m\n\u001b[0;32m---> 94\u001b[0;31m             \u001b[0mresult\u001b[0m \u001b[0;34m=\u001b[0m \u001b[0maligner\u001b[0m\u001b[0;34m.\u001b[0m\u001b[0mcalculate\u001b[0m\u001b[0;34m(\u001b[0m\u001b[0mstructures\u001b[0m\u001b[0;34m=\u001b[0m\u001b[0;34m[\u001b[0m\u001b[0mreference\u001b[0m\u001b[0;34m,\u001b[0m \u001b[0mmobile\u001b[0m\u001b[0;34m]\u001b[0m\u001b[0;34m,\u001b[0m \u001b[0mselections\u001b[0m\u001b[0;34m=\u001b[0m\u001b[0;34m[\u001b[0m\u001b[0;34m]\u001b[0m\u001b[0;34m)\u001b[0m\u001b[0;34m\u001b[0m\u001b[0;34m\u001b[0m\u001b[0m\n\u001b[0m\u001b[1;32m     95\u001b[0m             \u001b[0;31m# size of whole structures\u001b[0m\u001b[0;34m\u001b[0m\u001b[0;34m\u001b[0m\u001b[0m\n\u001b[1;32m     96\u001b[0m             \u001b[0mreference_size\u001b[0m \u001b[0;34m=\u001b[0m \u001b[0mlen\u001b[0m\u001b[0;34m(\u001b[0m\u001b[0mreference\u001b[0m\u001b[0;34m.\u001b[0m\u001b[0mresidues\u001b[0m\u001b[0;34m)\u001b[0m\u001b[0;34m\u001b[0m\u001b[0;34m\u001b[0m\u001b[0m\n",
            "\u001b[0;32m/usr/local/lib/python3.10/dist-packages/opencadd/structure/superposition/engines/base.py\u001b[0m in \u001b[0;36mcalculate\u001b[0;34m(self, structures, selections, *args, **kwargs)\u001b[0m\n\u001b[1;32m     35\u001b[0m         \u001b[0;32massert\u001b[0m \u001b[0mlen\u001b[0m\u001b[0;34m(\u001b[0m\u001b[0mstructures\u001b[0m\u001b[0;34m)\u001b[0m \u001b[0;34m==\u001b[0m \u001b[0;36m2\u001b[0m\u001b[0;34m,\u001b[0m \u001b[0mmessage\u001b[0m\u001b[0;34m\u001b[0m\u001b[0;34m\u001b[0m\u001b[0m\n\u001b[1;32m     36\u001b[0m \u001b[0;34m\u001b[0m\u001b[0m\n\u001b[0;32m---> 37\u001b[0;31m         \u001b[0;32mreturn\u001b[0m \u001b[0mself\u001b[0m\u001b[0;34m.\u001b[0m\u001b[0m_calculate\u001b[0m\u001b[0;34m(\u001b[0m\u001b[0mstructures\u001b[0m\u001b[0;34m,\u001b[0m \u001b[0mselections\u001b[0m\u001b[0;34m,\u001b[0m \u001b[0;34m*\u001b[0m\u001b[0margs\u001b[0m\u001b[0;34m,\u001b[0m \u001b[0;34m**\u001b[0m\u001b[0mkwargs\u001b[0m\u001b[0;34m)\u001b[0m\u001b[0;34m\u001b[0m\u001b[0;34m\u001b[0m\u001b[0m\n\u001b[0m\u001b[1;32m     38\u001b[0m \u001b[0;34m\u001b[0m\u001b[0m\n\u001b[1;32m     39\u001b[0m     \u001b[0;32mdef\u001b[0m \u001b[0m_calculate\u001b[0m\u001b[0;34m(\u001b[0m\u001b[0mself\u001b[0m\u001b[0;34m,\u001b[0m \u001b[0mstructures\u001b[0m\u001b[0;34m,\u001b[0m \u001b[0mselections\u001b[0m\u001b[0;34m,\u001b[0m \u001b[0;34m*\u001b[0m\u001b[0margs\u001b[0m\u001b[0;34m,\u001b[0m \u001b[0;34m**\u001b[0m\u001b[0mkwargs\u001b[0m\u001b[0;34m)\u001b[0m\u001b[0;34m:\u001b[0m\u001b[0;34m\u001b[0m\u001b[0;34m\u001b[0m\u001b[0m\n",
            "\u001b[0;32m/usr/local/lib/python3.10/dist-packages/opencadd/structure/superposition/engines/mda.py\u001b[0m in \u001b[0;36m_calculate\u001b[0;34m(self, structures, selections, *args, **kwargs)\u001b[0m\n\u001b[1;32m    136\u001b[0m \u001b[0;34m\u001b[0m\u001b[0m\n\u001b[1;32m    137\u001b[0m         \u001b[0;31m# Get matching atoms of selection\u001b[0m\u001b[0;34m\u001b[0m\u001b[0;34m\u001b[0m\u001b[0m\n\u001b[0;32m--> 138\u001b[0;31m         \u001b[0mselection\u001b[0m\u001b[0;34m,\u001b[0m \u001b[0malignment\u001b[0m \u001b[0;34m=\u001b[0m \u001b[0mself\u001b[0m\u001b[0;34m.\u001b[0m\u001b[0mmatching_selection\u001b[0m\u001b[0;34m(\u001b[0m\u001b[0;34m*\u001b[0m\u001b[0mselections\u001b[0m\u001b[0;34m)\u001b[0m\u001b[0;34m\u001b[0m\u001b[0;34m\u001b[0m\u001b[0m\n\u001b[0m\u001b[1;32m    139\u001b[0m         \u001b[0mref_atoms\u001b[0m \u001b[0;34m=\u001b[0m \u001b[0mref_selection\u001b[0m\u001b[0;34m.\u001b[0m\u001b[0mselect_atoms\u001b[0m\u001b[0;34m(\u001b[0m\u001b[0mselection\u001b[0m\u001b[0;34m[\u001b[0m\u001b[0;34m\"reference\"\u001b[0m\u001b[0;34m]\u001b[0m\u001b[0;34m)\u001b[0m\u001b[0;34m\u001b[0m\u001b[0;34m\u001b[0m\u001b[0m\n\u001b[1;32m    140\u001b[0m         \u001b[0mmobile_atoms\u001b[0m \u001b[0;34m=\u001b[0m \u001b[0mmob_selection\u001b[0m\u001b[0;34m.\u001b[0m\u001b[0mselect_atoms\u001b[0m\u001b[0;34m(\u001b[0m\u001b[0mselection\u001b[0m\u001b[0;34m[\u001b[0m\u001b[0;34m\"mobile\"\u001b[0m\u001b[0;34m]\u001b[0m\u001b[0;34m)\u001b[0m\u001b[0;34m\u001b[0m\u001b[0;34m\u001b[0m\u001b[0m\n",
            "\u001b[0;32m/usr/local/lib/python3.10/dist-packages/opencadd/structure/superposition/engines/mda.py\u001b[0m in \u001b[0;36mmatching_selection\u001b[0;34m(self, ref_selection, mob_selection)\u001b[0m\n\u001b[1;32m    229\u001b[0m                 \u001b[0mfasta\u001b[0m\u001b[0;34m[\u001b[0m\u001b[0;34m\"ref\"\u001b[0m\u001b[0;34m]\u001b[0m\u001b[0;34m,\u001b[0m \u001b[0mfasta\u001b[0m\u001b[0;34m[\u001b[0m\u001b[0;34m\"mob\"\u001b[0m\u001b[0;34m]\u001b[0m\u001b[0;34m,\u001b[0m \u001b[0;34m*\u001b[0m\u001b[0m_empty\u001b[0m \u001b[0;34m=\u001b[0m \u001b[0malignment\u001b[0m\u001b[0;34m.\u001b[0m\u001b[0mget_gapped_sequences\u001b[0m\u001b[0;34m(\u001b[0m\u001b[0;34m)\u001b[0m\u001b[0;34m\u001b[0m\u001b[0;34m\u001b[0m\u001b[0m\n\u001b[1;32m    230\u001b[0m                 \u001b[0mfasta\u001b[0m\u001b[0;34m.\u001b[0m\u001b[0mwrite\u001b[0m\u001b[0;34m(\u001b[0m\u001b[0;34m\"temp.fasta\"\u001b[0m\u001b[0;34m)\u001b[0m\u001b[0;34m\u001b[0m\u001b[0;34m\u001b[0m\u001b[0m\n\u001b[0;32m--> 231\u001b[0;31m                 selection = fasta2select(\n\u001b[0m\u001b[1;32m    232\u001b[0m                     \u001b[0;34m\"temp.fasta\"\u001b[0m\u001b[0;34m,\u001b[0m\u001b[0;34m\u001b[0m\u001b[0;34m\u001b[0m\u001b[0m\n\u001b[1;32m    233\u001b[0m                     \u001b[0mref_resids\u001b[0m\u001b[0;34m=\u001b[0m\u001b[0mref_resids\u001b[0m\u001b[0;34m,\u001b[0m\u001b[0;34m\u001b[0m\u001b[0;34m\u001b[0m\u001b[0m\n",
            "\u001b[0;32m/usr/local/lib/python3.10/dist-packages/opencadd/structure/superposition/sequences.py\u001b[0m in \u001b[0;36mfasta2select\u001b[0;34m(fastafilename, ref_resids, ref_segids, target_resids, target_segids, backbone_selection)\u001b[0m\n\u001b[1;32m    113\u001b[0m \u001b[0;34m\u001b[0m\u001b[0m\n\u001b[1;32m    114\u001b[0m     \"\"\"\n\u001b[0;32m--> 115\u001b[0;31m     \u001b[0mprotein_gapped\u001b[0m \u001b[0;34m=\u001b[0m \u001b[0mBio\u001b[0m\u001b[0;34m.\u001b[0m\u001b[0mAlphabet\u001b[0m\u001b[0;34m.\u001b[0m\u001b[0mGapped\u001b[0m\u001b[0;34m(\u001b[0m\u001b[0mBio\u001b[0m\u001b[0;34m.\u001b[0m\u001b[0mAlphabet\u001b[0m\u001b[0;34m.\u001b[0m\u001b[0mIUPAC\u001b[0m\u001b[0;34m.\u001b[0m\u001b[0mprotein\u001b[0m\u001b[0;34m)\u001b[0m\u001b[0;34m\u001b[0m\u001b[0;34m\u001b[0m\u001b[0m\n\u001b[0m\u001b[1;32m    116\u001b[0m     \u001b[0;32mwith\u001b[0m \u001b[0mopen\u001b[0m\u001b[0;34m(\u001b[0m\u001b[0mfastafilename\u001b[0m\u001b[0;34m)\u001b[0m \u001b[0;32mas\u001b[0m \u001b[0mfasta\u001b[0m\u001b[0;34m:\u001b[0m\u001b[0;34m\u001b[0m\u001b[0;34m\u001b[0m\u001b[0m\n\u001b[1;32m    117\u001b[0m         \u001b[0malignment\u001b[0m \u001b[0;34m=\u001b[0m \u001b[0mBio\u001b[0m\u001b[0;34m.\u001b[0m\u001b[0mAlignIO\u001b[0m\u001b[0;34m.\u001b[0m\u001b[0mread\u001b[0m\u001b[0;34m(\u001b[0m\u001b[0mfasta\u001b[0m\u001b[0;34m,\u001b[0m \u001b[0;34m\"fasta\"\u001b[0m\u001b[0;34m,\u001b[0m \u001b[0malphabet\u001b[0m\u001b[0;34m=\u001b[0m\u001b[0mprotein_gapped\u001b[0m\u001b[0;34m)\u001b[0m\u001b[0;34m\u001b[0m\u001b[0;34m\u001b[0m\u001b[0m\n",
            "\u001b[0;31mAttributeError\u001b[0m: module 'Bio' has no attribute 'Alphabet'"
          ]
        }
      ]
    }
  ]
}