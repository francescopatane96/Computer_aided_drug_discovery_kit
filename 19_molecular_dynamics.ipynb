{
  "nbformat": 4,
  "nbformat_minor": 0,
  "metadata": {
    "colab": {
      "provenance": [],
      "authorship_tag": "ABX9TyN7soXHJFokcQtIXbExp0Cb",
      "include_colab_link": true
    },
    "kernelspec": {
      "name": "python3",
      "display_name": "Python 3"
    },
    "language_info": {
      "name": "python"
    }
  },
  "cells": [
    {
      "cell_type": "markdown",
      "metadata": {
        "id": "view-in-github",
        "colab_type": "text"
      },
      "source": [
        "<a href=\"https://colab.research.google.com/github/francescopatane96/Computer_aided_drug_discovery_kit/blob/main/19_molecular_dynamics.ipynb\" target=\"_parent\"><img src=\"https://colab.research.google.com/assets/colab-badge.svg\" alt=\"Open In Colab\"/></a>"
      ]
    },
    {
      "cell_type": "code",
      "execution_count": 1,
      "metadata": {
        "colab": {
          "base_uri": "https://localhost:8080/"
        },
        "id": "AQ0bcJn30a0a",
        "outputId": "e491477d-f182-45d3-8cea-86ebcfea5155"
      },
      "outputs": [
        {
          "output_type": "stream",
          "name": "stdout",
          "text": [
            "Collecting condacolab\n",
            "  Downloading condacolab-0.1.7-py3-none-any.whl (7.2 kB)\n",
            "Installing collected packages: condacolab\n",
            "Successfully installed condacolab-0.1.7\n",
            "⏬ Downloading https://github.com/conda-forge/miniforge/releases/download/23.1.0-1/Mambaforge-23.1.0-1-Linux-x86_64.sh...\n",
            "📦 Installing...\n",
            "📌 Adjusting configuration...\n",
            "🩹 Patching environment...\n",
            "⏲ Done in 0:00:17\n",
            "🔁 Restarting kernel...\n"
          ]
        }
      ],
      "source": [
        "try:\n",
        "    import google.colab\n",
        "\n",
        "    !pip install condacolab\n",
        "    import condacolab\n",
        "\n",
        "    condacolab.install()\n",
        "except ModuleNotFoundError:\n",
        "    pass"
      ]
    },
    {
      "cell_type": "code",
      "source": [
        "try:\n",
        "    import condacolab\n",
        "    from google.colab import files\n",
        "    from IPython.display import clear_output\n",
        "\n",
        "    condacolab.check()\n",
        "    !conda install -q -y -c conda-forge mdtraj openmm openmmforcefields openff-toolkit pdbfixer pypdb rdkit\n",
        "except ModuleNotFoundError:\n",
        "    on_colab = False\n",
        "else:\n",
        "    # check if installation was succesful\n",
        "    try:\n",
        "        import rdkit\n",
        "\n",
        "        on_colab = True\n",
        "        clear_output()  # clear the excessive installation outputs\n",
        "        print(\"Dependencies successfully installed!\")\n",
        "    except ModuleNotFoundError:\n",
        "        print(\"Error while installing dependencies!\")"
      ],
      "metadata": {
        "colab": {
          "base_uri": "https://localhost:8080/"
        },
        "id": "49Zn15tn3TW2",
        "outputId": "74750be4-39f0-48f1-94c9-d98b17f1cb16"
      },
      "execution_count": 2,
      "outputs": [
        {
          "output_type": "stream",
          "name": "stdout",
          "text": [
            "Dependencies successfully installed!\n"
          ]
        }
      ]
    },
    {
      "cell_type": "code",
      "source": [
        "import sys\n",
        "\n",
        "if not on_colab and sys.platform.startswith((\"linux\", \"darwin\")):\n",
        "    !mamba install -q -y -c conda-forge openmmforcefields\n",
        "    # Notes:\n",
        "    # - If you do not have mamba installed, install it or use conda instead\n",
        "    # - Under MacOS with an M1 chip you may need to use\n",
        "    #   CONDA_SUBDIR=osx-64 in front of the above command"
      ],
      "metadata": {
        "id": "GMnfN9Lj3sYu"
      },
      "execution_count": 3,
      "outputs": []
    },
    {
      "cell_type": "code",
      "source": [
        "import copy\n",
        "from pathlib import Path\n",
        "\n",
        "import requests\n",
        "from IPython.display import display\n",
        "import numpy as np\n",
        "from rdkit import Chem\n",
        "from rdkit.Chem import Draw\n",
        "from rdkit.Chem import AllChem\n",
        "import mdtraj as md\n",
        "import pdbfixer\n",
        "import openmm as mm\n",
        "import openmm.app as app\n",
        "from openmm import unit\n",
        "from openff.toolkit.topology import Molecule, Topology\n",
        "from openmmforcefields.generators import GAFFTemplateGenerator"
      ],
      "metadata": {
        "id": "gDQMA8HG34p0"
      },
      "execution_count": 4,
      "outputs": []
    },
    {
      "cell_type": "code",
      "source": [
        "pdbid = \"3POZ\"\n",
        "ligand_name = \"03P\"\n",
        "pdb_path = f\"{pdbid}.pdb\"\n",
        "pdb_url = f\"https://files.rcsb.org/download/{pdbid}.pdb\""
      ],
      "metadata": {
        "id": "VMUN_T4w4CMA"
      },
      "execution_count": 30,
      "outputs": []
    },
    {
      "cell_type": "code",
      "source": [
        "r = requests.get(pdb_url)\n",
        "r.raise_for_status()\n",
        "with open(pdb_path, \"wb\") as f:\n",
        "    f.write(r.content)"
      ],
      "metadata": {
        "id": "n262tgb24D0h"
      },
      "execution_count": 31,
      "outputs": []
    },
    {
      "cell_type": "markdown",
      "source": [
        "prepare protein"
      ],
      "metadata": {
        "id": "mSd6JJSW6hNK"
      }
    },
    {
      "cell_type": "code",
      "source": [
        "def prepare_protein(\n",
        "    pdb_file, ignore_missing_residues=True, ignore_terminal_missing_residues=True, ph=7.0\n",
        "):\n",
        "    \"\"\"\n",
        "    Use pdbfixer to prepare the protein from a PDB file. Hetero atoms such as ligands are\n",
        "    removed and non-standard residues replaced. Missing atoms to existing residues are added.\n",
        "    Missing residues are ignored by default, but can be included.\n",
        "\n",
        "    Parameters\n",
        "    ----------\n",
        "    pdb_file: pathlib.Path or str\n",
        "        PDB file containing the system to simulate.\n",
        "    ignore_missing_residues: bool, optional\n",
        "        If missing residues should be ignored or built.\n",
        "    ignore_terminal_missing_residues: bool, optional\n",
        "        If missing residues at the beginning and the end of a chain should be ignored or built.\n",
        "    ph: float, optional\n",
        "        pH value used to determine protonation state of residues\n",
        "\n",
        "    Returns\n",
        "    -------\n",
        "    fixer: pdbfixer.pdbfixer.PDBFixer\n",
        "        Prepared protein system.\n",
        "    \"\"\"\n",
        "    fixer = pdbfixer.PDBFixer(str(pdb_file))\n",
        "    fixer.removeHeterogens()  # co-crystallized ligands are unknown to PDBFixer\n",
        "    fixer.findMissingResidues()  # identify missing residues, needed for identification of missing atoms\n",
        "\n",
        "    # if missing terminal residues shall be ignored, remove them from the dictionary\n",
        "    if ignore_terminal_missing_residues:\n",
        "        chains = list(fixer.topology.chains())\n",
        "        keys = fixer.missingResidues.keys()\n",
        "        for key in list(keys):\n",
        "            chain = chains[key[0]]\n",
        "            if key[1] == 0 or key[1] == len(list(chain.residues())):\n",
        "                del fixer.missingResidues[key]\n",
        "\n",
        "    # if all missing residues shall be ignored ignored, clear the dictionary\n",
        "    if ignore_missing_residues:\n",
        "        fixer.missingResidues = {}\n",
        "\n",
        "    fixer.findNonstandardResidues()  # find non-standard residue\n",
        "    fixer.replaceNonstandardResidues()  # replace non-standard residues with standard one\n",
        "    fixer.findMissingAtoms()  # find missing heavy atoms\n",
        "    fixer.addMissingAtoms()  # add missing atoms and residues\n",
        "    fixer.addMissingHydrogens(ph)  # add missing hydrogens\n",
        "    return fixer"
      ],
      "metadata": {
        "id": "heG0ehyB4hvm"
      },
      "execution_count": 32,
      "outputs": []
    },
    {
      "cell_type": "code",
      "source": [
        "# prepare protein and build only missing non-terminal residues\n",
        "\n",
        "prepared_protein = prepare_protein(pdb_path, ignore_missing_residues=False)"
      ],
      "metadata": {
        "id": "zt5VDKGl6Y1W"
      },
      "execution_count": 33,
      "outputs": []
    },
    {
      "cell_type": "markdown",
      "source": [
        "prepare ligand"
      ],
      "metadata": {
        "id": "K9rPZl1z6eVx"
      }
    },
    {
      "cell_type": "code",
      "source": [
        "def prepare_ligand(pdb_file, resname, smiles, depict=True):\n",
        "    \"\"\"\n",
        "    Prepare a ligand from a PDB file via adding hydrogens and assigning bond orders. A depiction\n",
        "    of the ligand before and after preparation is rendered in 2D to allow an inspection of the\n",
        "    results. Huge thanks to @j-wags for the suggestion.\n",
        "\n",
        "    Parameters\n",
        "    ----------\n",
        "    pdb_file: pathlib.PosixPath\n",
        "       PDB file containing the ligand of interest.\n",
        "    resname: str\n",
        "        Three character residue name of the ligand.\n",
        "    smiles : str\n",
        "        SMILES string of the ligand informing about correct protonation and bond orders.\n",
        "    depict: bool, optional\n",
        "        show a 2D representation of the ligand\n",
        "\n",
        "    Returns\n",
        "    -------\n",
        "    prepared_ligand: rdkit.Chem.rdchem.Mol\n",
        "        Prepared ligand.\n",
        "    \"\"\"\n",
        "    # split molecule\n",
        "    rdkit_mol = Chem.MolFromPDBFile(str(pdb_file))\n",
        "    rdkit_mol_split = Chem.rdmolops.SplitMolByPDBResidues(rdkit_mol)\n",
        "\n",
        "    # extract the ligand and remove any already present hydrogens\n",
        "    ligand = rdkit_mol_split[resname]\n",
        "    ligand = Chem.RemoveHs(ligand)\n",
        "\n",
        "    # assign bond orders from template\n",
        "    reference_mol = Chem.MolFromSmiles(smiles)\n",
        "    prepared_ligand = AllChem.AssignBondOrdersFromTemplate(reference_mol, ligand)\n",
        "    prepared_ligand.AddConformer(ligand.GetConformer(0))\n",
        "\n",
        "    # protonate ligand\n",
        "    prepared_ligand = Chem.rdmolops.AddHs(prepared_ligand, addCoords=True)\n",
        "    prepared_ligand = Chem.MolFromMolBlock(Chem.MolToMolBlock(prepared_ligand))\n",
        "\n",
        "    # 2D depiction\n",
        "    if depict:\n",
        "        ligand_2d = copy.deepcopy(ligand)\n",
        "        prepared_ligand_2d = copy.deepcopy(prepared_ligand)\n",
        "        AllChem.Compute2DCoords(ligand_2d)\n",
        "        AllChem.Compute2DCoords(prepared_ligand_2d)\n",
        "        display(\n",
        "            Draw.MolsToGridImage(\n",
        "                [ligand_2d, prepared_ligand_2d], molsPerRow=2, legends=[\"original\", \"prepared\"]\n",
        "            )\n",
        "        )\n",
        "\n",
        "    # return ligand\n",
        "    return prepared_ligand"
      ],
      "metadata": {
        "id": "E_TWK1no4t0u"
      },
      "execution_count": 34,
      "outputs": []
    },
    {
      "cell_type": "code",
      "source": [
        "smiles = \"CC(C)(O)CC(=O)NCCn1ccc2ncnc(Nc3ccc(Oc4cccc(c4)C(F)(F)F)c(Cl)c3)c12\"\n",
        "rdkit_ligand = prepare_ligand(pdb_path, ligand_name, smiles)"
      ],
      "metadata": {
        "colab": {
          "base_uri": "https://localhost:8080/",
          "height": 252
        },
        "id": "pB-3RiPj400o",
        "outputId": "068c34aa-ca4e-42fd-81a5-f507d2b40329"
      },
      "execution_count": 35,
      "outputs": [
        {
          "output_type": "stream",
          "name": "stderr",
          "text": [
            "[17:28:45] WARNING: More than one matching pattern found - picking one\n",
            "\n"
          ]
        },
        {
          "output_type": "display_data",
          "data": {
            "image/png": "[encoded data removed]",
            "text/plain": [
              "<IPython.core.display.Image object>"
            ]
          },
          "metadata": {}
        }
      ]
    },
    {
      "cell_type": "code",
      "source": [
        "def rdkit_to_openmm(rdkit_mol, name=\"LIG\"):\n",
        "    \"\"\"\n",
        "    Convert an RDKit molecule to an OpenMM molecule.\n",
        "    Inspired by @hannahbrucemcdonald and @glass-w.\n",
        "\n",
        "    Parameters\n",
        "    ----------\n",
        "    rdkit_mol: rdkit.Chem.rdchem.Mol\n",
        "        RDKit molecule to convert.\n",
        "    name: str\n",
        "        Molecule name.\n",
        "\n",
        "    Returns\n",
        "    -------\n",
        "    omm_molecule: openmm.app.Modeller\n",
        "        OpenMM modeller object holding the molecule of interest.\n",
        "    \"\"\"\n",
        "    # convert RDKit to OpenFF\n",
        "    off_mol = Molecule.from_rdkit(rdkit_mol)\n",
        "\n",
        "    # add name for molecule\n",
        "    off_mol.name = name\n",
        "\n",
        "    # add names for atoms\n",
        "    element_counter_dict = {}\n",
        "    for off_atom, rdkit_atom in zip(off_mol.atoms, rdkit_mol.GetAtoms()):\n",
        "        element = rdkit_atom.GetSymbol()\n",
        "        if element in element_counter_dict.keys():\n",
        "            element_counter_dict[element] += 1\n",
        "        else:\n",
        "            element_counter_dict[element] = 1\n",
        "        off_atom.name = element + str(element_counter_dict[element])\n",
        "\n",
        "    # convert from OpenFF to OpenMM\n",
        "    off_mol_topology = off_mol.to_topology()\n",
        "    mol_topology = off_mol_topology.to_openmm()\n",
        "    mol_positions = off_mol.conformers[0]\n",
        "\n",
        "    # convert units from Ångström to nanometers\n",
        "    # since OpenMM works in nm\n",
        "    mol_positions = mol_positions.to(\"nanometers\")\n",
        "\n",
        "    # combine topology and positions in modeller object\n",
        "    omm_mol = app.Modeller(mol_topology, mol_positions)\n",
        "\n",
        "    return omm_mol"
      ],
      "metadata": {
        "id": "70Ua-pHD5R_T"
      },
      "execution_count": 36,
      "outputs": []
    },
    {
      "cell_type": "code",
      "source": [
        "omm_ligand = rdkit_to_openmm(rdkit_ligand, ligand_name)"
      ],
      "metadata": {
        "id": "xzSL0hJ05TEn"
      },
      "execution_count": 37,
      "outputs": []
    },
    {
      "cell_type": "code",
      "source": [
        "def merge_protein_and_ligand(protein, ligand):\n",
        "    \"\"\"\n",
        "    Merge two OpenMM objects.\n",
        "\n",
        "    Parameters\n",
        "    ----------\n",
        "    protein: pdbfixer.pdbfixer.PDBFixer\n",
        "        Protein to merge.\n",
        "    ligand: openmm.app.Modeller\n",
        "        Ligand to merge.\n",
        "\n",
        "    Returns\n",
        "    -------\n",
        "    complex_topology: openmm.app.topology.Topology\n",
        "        The merged topology.\n",
        "    complex_positions: openmm.unit.quantity.Quantity\n",
        "        The merged positions.\n",
        "    \"\"\"\n",
        "    # combine topologies\n",
        "    md_protein_topology = md.Topology.from_openmm(protein.topology)  # using mdtraj for protein top\n",
        "    md_ligand_topology = md.Topology.from_openmm(ligand.topology)  # using mdtraj for ligand top\n",
        "    md_complex_topology = md_protein_topology.join(md_ligand_topology)  # add them together\n",
        "    complex_topology = md_complex_topology.to_openmm()\n",
        "\n",
        "    # combine positions\n",
        "    total_atoms = len(protein.positions) + len(ligand.positions)\n",
        "\n",
        "    # create an array for storing all atom positions as tupels containing a value and a unit\n",
        "    # called OpenMM Quantities\n",
        "    complex_positions = unit.Quantity(np.zeros([total_atoms, 3]), unit=unit.nanometers)\n",
        "    complex_positions[: len(protein.positions)] = protein.positions  # add protein positions\n",
        "    complex_positions[len(protein.positions) :] = ligand.positions  # add ligand positions\n",
        "\n",
        "    return complex_topology, complex_positions"
      ],
      "metadata": {
        "id": "yxnPCLmL5uIT"
      },
      "execution_count": 38,
      "outputs": []
    },
    {
      "cell_type": "code",
      "source": [
        "complex_topology, complex_positions = merge_protein_and_ligand(prepared_protein, omm_ligand)"
      ],
      "metadata": {
        "colab": {
          "base_uri": "https://localhost:8080/"
        },
        "id": "GASjYvZZ5wOi",
        "outputId": "0ac6827d-f8a7-4e50-8d99-e83c07c971d8"
      },
      "execution_count": 39,
      "outputs": [
        {
          "output_type": "stream",
          "name": "stderr",
          "text": [
            "/usr/local/lib/python3.10/site-packages/openmm/unit/quantity.py:750: UnitStrippedWarning: The unit of the quantity is stripped when downcasting to ndarray.\n",
            "  self._value[key] = value / self.unit\n"
          ]
        }
      ]
    },
    {
      "cell_type": "code",
      "source": [
        "print(\"Complex topology has\", complex_topology.getNumAtoms(), \"atoms.\")\n",
        "# NBVAL_CHECK_OUTPUT"
      ],
      "metadata": {
        "colab": {
          "base_uri": "https://localhost:8080/"
        },
        "id": "DlNviihM647L",
        "outputId": "2f8001e5-3c54-4f49-b581-68cd03126c65"
      },
      "execution_count": 58,
      "outputs": [
        {
          "output_type": "stream",
          "name": "stdout",
          "text": [
            "Complex topology has 5561 atoms.\n"
          ]
        }
      ]
    },
    {
      "cell_type": "code",
      "source": [
        "def generate_forcefield(\n",
        "    rdkit_mol=None, protein_ff=\"amber14-all.xml\", solvent_ff=\"amber14/tip3pfb.xml\"\n",
        "):\n",
        "    \"\"\"\n",
        "    Generate an OpenMM Forcefield object and register a small molecule.\n",
        "\n",
        "    Parameters\n",
        "    ----------\n",
        "    rdkit_mol: rdkit.Chem.rdchem.Mol\n",
        "        Small molecule to register in the force field.\n",
        "    protein_ff: string\n",
        "        Name of the force field.\n",
        "    solvent_ff: string\n",
        "        Name of the solvent force field.\n",
        "\n",
        "    Returns\n",
        "    -------\n",
        "    forcefield: openmm.app.Forcefield\n",
        "        Forcefield with registered small molecule.\n",
        "    \"\"\"\n",
        "    forcefield = app.ForceField(protein_ff, solvent_ff)\n",
        "\n",
        "    if rdkit_mol is not None:\n",
        "        gaff = GAFFTemplateGenerator(\n",
        "            molecules=Molecule.from_rdkit(rdkit_mol, allow_undefined_stereo=True)\n",
        "        )\n",
        "        forcefield.registerTemplateGenerator(gaff.generator)\n",
        "\n",
        "    return forcefield"
      ],
      "metadata": {
        "id": "FS0G30OR7Gq9"
      },
      "execution_count": 41,
      "outputs": []
    },
    {
      "cell_type": "code",
      "source": [
        "forcefield = generate_forcefield(rdkit_ligand)"
      ],
      "metadata": {
        "id": "nGROPvgg7JBF"
      },
      "execution_count": 42,
      "outputs": []
    },
    {
      "cell_type": "code",
      "source": [
        "modeller = app.Modeller(complex_topology, complex_positions)\n",
        "modeller.addSolvent(forcefield, padding=1.0 * unit.nanometers, ionicStrength=0.15 * unit.molar)"
      ],
      "metadata": {
        "id": "Nq3HtWHb7Sce"
      },
      "execution_count": 43,
      "outputs": []
    },
    {
      "cell_type": "code",
      "source": [
        "system = forcefield.createSystem(modeller.topology, nonbondedMethod=app.PME)\n",
        "integrator = mm.LangevinIntegrator(\n",
        "    300 * unit.kelvin, 1.0 / unit.picoseconds, 2.0 * unit.femtoseconds\n",
        ")\n",
        "simulation = app.Simulation(modeller.topology, system, integrator)\n",
        "simulation.context.setPositions(modeller.positions)"
      ],
      "metadata": {
        "id": "17hZr0PQ7gky"
      },
      "execution_count": 44,
      "outputs": []
    },
    {
      "cell_type": "code",
      "source": [
        "simulation.minimizeEnergy()\n",
        "with open(\"topology.pdb\", \"w\") as pdb_file:\n",
        "    app.PDBFile.writeFile(\n",
        "        simulation.topology,\n",
        "        simulation.context.getState(getPositions=True, enforcePeriodicBox=True).getPositions(),\n",
        "        file=pdb_file,\n",
        "        keepIds=True,\n",
        "    )"
      ],
      "metadata": {
        "id": "8BblL0fX73kH"
      },
      "execution_count": 45,
      "outputs": []
    },
    {
      "cell_type": "code",
      "source": [
        "# output settings\n",
        "if on_colab:\n",
        "    steps = 500  # corresponds to 100 ps\n",
        "    write_interval = 50  # write every 10 ps\n",
        "    log_interval = 25  # log progress to stdout every 5 ps\n",
        "else:\n",
        "    steps = 100  # corresponds to 20 fs\n",
        "    write_interval = 10  # write every 2 fs\n",
        "    log_interval = 10  # log progress to stdout every 2 fs\n",
        "simulation.reporters.append(\n",
        "    md.reporters.XTCReporter(file=str(\"trajectory.xtc\"), reportInterval=write_interval)\n",
        ")\n",
        "simulation.reporters.append(\n",
        "    app.StateDataReporter(\n",
        "        sys.stdout,\n",
        "        log_interval,\n",
        "        step=True,\n",
        "        potentialEnergy=True,\n",
        "        temperature=True,\n",
        "        progress=True,\n",
        "        remainingTime=True,\n",
        "        speed=True,\n",
        "        totalSteps=steps,\n",
        "        separator=\"\\t\",\n",
        "    )\n",
        ")"
      ],
      "metadata": {
        "id": "F6Lcxnf4A604"
      },
      "execution_count": 55,
      "outputs": []
    },
    {
      "cell_type": "code",
      "source": [
        "simulation.context.setVelocitiesToTemperature(300 * unit.kelvin)\n",
        "simulation.step(steps)  # perform the simulation"
      ],
      "metadata": {
        "colab": {
          "base_uri": "https://localhost:8080/"
        },
        "id": "iJyno0HEE8TS",
        "outputId": "239eb3af-c820-4b95-9178-0d7f4eb16239"
      },
      "execution_count": 56,
      "outputs": [
        {
          "output_type": "stream",
          "name": "stdout",
          "text": [
            "#\"Progress (%)\"\t\"Step\"\t\"Potential Energy (kJ/mole)\"\t\"Temperature (K)\"\t\"Speed (ns/day)\"\t\"Time Remaining\"\n",
            "275.0%\t1375\t-820069.5917694856\t300.70801789383444\t0\t--\n",
            "280.0%\t1400\t-819983.1464936219\t300.0918382591453\t0.81\t23:56:49\n",
            "285.0%\t1425\t-819263.0368271468\t298.8138801747044\t0.866\t23:56:56\n",
            "290.0%\t1450\t-818919.0744361738\t298.8305427291525\t0.725\t23:56:14\n",
            "295.0%\t1475\t-819748.4363111855\t300.729636904383\t0.647\t23:55:40\n",
            "300.0%\t1500\t-819660.1624241127\t299.66761221053065\t0.687\t23:55:49\n",
            "305.0%\t1525\t-819323.6770758838\t299.71689710004654\t0.683\t23:55:41\n",
            "310.0%\t1550\t-819539.2441378905\t300.3312551362554\t0.657\t23:55:24\n",
            "315.0%\t1575\t-819116.2467783571\t299.9009869911623\t0.683\t23:55:29\n",
            "320.0%\t1600\t-818403.6001041392\t298.94589120878936\t0.706\t23:55:31\n",
            "325.0%\t1625\t-818228.2611690544\t299.15140107215495\t0.68\t23:55:15\n",
            "330.0%\t1650\t-818716.549979551\t300.31481806182217\t0.68\t23:55:08\n",
            "335.0%\t1675\t-818214.4521257979\t298.8141444495686\t0.697\t23:55:09\n",
            "340.0%\t1700\t-818554.5553893867\t299.4424987187032\t0.702\t23:55:05\n",
            "345.0%\t1725\t-819182.7033567722\t300.57025441743275\t0.683\t23:54:51\n",
            "350.0%\t1750\t-818565.5740845099\t299.88551212408834\t0.694\t23:54:49\n",
            "355.0%\t1775\t-819000.0796485256\t301.0857574413104\t0.704\t23:54:48\n",
            "360.0%\t1800\t-818265.8023260854\t299.6084377600189\t0.696\t23:54:38\n",
            "365.0%\t1825\t-818490.5172593745\t300.6368918015818\t0.69\t23:54:29\n",
            "370.0%\t1850\t-818362.2791066584\t300.80767221479937\t0.7\t23:54:27\n"
          ]
        }
      ]
    },
    {
      "cell_type": "code",
      "source": [
        "if on_colab:\n",
        "    files.download(\"topology.pdb\")\n",
        "    files.download(\"trajectory.xtc\")"
      ],
      "metadata": {
        "colab": {
          "base_uri": "https://localhost:8080/",
          "height": 335
        },
        "id": "JOR1aLbSFCXh",
        "outputId": "3d8b5072-1105-4c95-9c13-8eaa65483588"
      },
      "execution_count": 57,
      "outputs": [
        {
          "output_type": "error",
          "ename": "FileNotFoundError",
          "evalue": "ignored",
          "traceback": [
            "\u001b[0;31m---------------------------------------------------------------------------\u001b[0m",
            "\u001b[0;31mFileNotFoundError\u001b[0m                         Traceback (most recent call last)",
            "\u001b[0;32m<ipython-input-57-12ff510b6faf>\u001b[0m in \u001b[0;36m<cell line: 1>\u001b[0;34m()\u001b[0m\n\u001b[1;32m      1\u001b[0m \u001b[0;32mif\u001b[0m \u001b[0mon_colab\u001b[0m\u001b[0;34m:\u001b[0m\u001b[0;34m\u001b[0m\u001b[0;34m\u001b[0m\u001b[0m\n\u001b[0;32m----> 2\u001b[0;31m     \u001b[0mfiles\u001b[0m\u001b[0;34m.\u001b[0m\u001b[0mdownload\u001b[0m\u001b[0;34m(\u001b[0m\u001b[0;34m\"topology.pdb\"\u001b[0m\u001b[0;34m)\u001b[0m\u001b[0;34m\u001b[0m\u001b[0;34m\u001b[0m\u001b[0m\n\u001b[0m\u001b[1;32m      3\u001b[0m     \u001b[0mfiles\u001b[0m\u001b[0;34m.\u001b[0m\u001b[0mdownload\u001b[0m\u001b[0;34m(\u001b[0m\u001b[0;34m\"trajectory.xtc\"\u001b[0m\u001b[0;34m)\u001b[0m\u001b[0;34m\u001b[0m\u001b[0;34m\u001b[0m\u001b[0m\n",
            "\u001b[0;32m/usr/local/lib/python3.10/dist-packages/google/colab/files.py\u001b[0m in \u001b[0;36mdownload\u001b[0;34m(filename)\u001b[0m\n\u001b[1;32m    223\u001b[0m   \u001b[0;32mif\u001b[0m \u001b[0;32mnot\u001b[0m \u001b[0m_os\u001b[0m\u001b[0;34m.\u001b[0m\u001b[0mpath\u001b[0m\u001b[0;34m.\u001b[0m\u001b[0mexists\u001b[0m\u001b[0;34m(\u001b[0m\u001b[0mfilename\u001b[0m\u001b[0;34m)\u001b[0m\u001b[0;34m:\u001b[0m\u001b[0;34m\u001b[0m\u001b[0;34m\u001b[0m\u001b[0m\n\u001b[1;32m    224\u001b[0m     \u001b[0mmsg\u001b[0m \u001b[0;34m=\u001b[0m \u001b[0;34m'Cannot find file: {}'\u001b[0m\u001b[0;34m.\u001b[0m\u001b[0mformat\u001b[0m\u001b[0;34m(\u001b[0m\u001b[0mfilename\u001b[0m\u001b[0;34m)\u001b[0m\u001b[0;34m\u001b[0m\u001b[0;34m\u001b[0m\u001b[0m\n\u001b[0;32m--> 225\u001b[0;31m     \u001b[0;32mraise\u001b[0m \u001b[0mFileNotFoundError\u001b[0m\u001b[0;34m(\u001b[0m\u001b[0mmsg\u001b[0m\u001b[0;34m)\u001b[0m  \u001b[0;31m# pylint: disable=undefined-variable\u001b[0m\u001b[0;34m\u001b[0m\u001b[0;34m\u001b[0m\u001b[0m\n\u001b[0m\u001b[1;32m    226\u001b[0m \u001b[0;34m\u001b[0m\u001b[0m\n\u001b[1;32m    227\u001b[0m   \u001b[0mcomm_manager\u001b[0m \u001b[0;34m=\u001b[0m \u001b[0m_IPython\u001b[0m\u001b[0;34m.\u001b[0m\u001b[0mget_ipython\u001b[0m\u001b[0;34m(\u001b[0m\u001b[0;34m)\u001b[0m\u001b[0;34m.\u001b[0m\u001b[0mkernel\u001b[0m\u001b[0;34m.\u001b[0m\u001b[0mcomm_manager\u001b[0m\u001b[0;34m\u001b[0m\u001b[0;34m\u001b[0m\u001b[0m\n",
            "\u001b[0;31mFileNotFoundError\u001b[0m: Cannot find file: topology.pdb"
          ]
        }
      ]
    }
  ]
}